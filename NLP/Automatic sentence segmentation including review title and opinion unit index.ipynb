{
 "cells": [
  {
   "cell_type": "markdown",
   "metadata": {
    "toc": true
   },
   "source": [
    "<h1>Table of Contents<span class=\"tocSkip\"></span></h1>\n",
    "<div class=\"toc\"><ul class=\"toc-item\"><li><span><a href=\"#Segment-reviews-in-order-to-extract-&quot;opinion-units&quot;\" data-toc-modified-id=\"Segment-reviews-in-order-to-extract-&quot;opinion-units&quot;-1\"><span class=\"toc-item-num\">1&nbsp;&nbsp;</span>Segment reviews in order to extract \"opinion units\"</a></span><ul class=\"toc-item\"><li><span><a href=\"#Load-reviews\" data-toc-modified-id=\"Load-reviews-1.1\"><span class=\"toc-item-num\">1.1&nbsp;&nbsp;</span>Load reviews</a></span></li><li><span><a href=\"#Modify-rules-for-sentence-segmentation\" data-toc-modified-id=\"Modify-rules-for-sentence-segmentation-1.2\"><span class=\"toc-item-num\">1.2&nbsp;&nbsp;</span>Modify rules for sentence segmentation</a></span></li><li><span><a href=\"#Removing-line-breaks\" data-toc-modified-id=\"Removing-line-breaks-1.3\"><span class=\"toc-item-num\">1.3&nbsp;&nbsp;</span>Removing line breaks</a></span></li><li><span><a href=\"#Extract-opinion-units\" data-toc-modified-id=\"Extract-opinion-units-1.4\"><span class=\"toc-item-num\">1.4&nbsp;&nbsp;</span>Extract opinion units</a></span></li><li><span><a href=\"#Create-new-dataframe-with-opinion-units\" data-toc-modified-id=\"Create-new-dataframe-with-opinion-units-1.5\"><span class=\"toc-item-num\">1.5&nbsp;&nbsp;</span>Create new dataframe with opinion units</a></span></li><li><span><a href=\"#Export-file\" data-toc-modified-id=\"Export-file-1.6\"><span class=\"toc-item-num\">1.6&nbsp;&nbsp;</span>Export file</a></span></li></ul></li></ul></div>"
   ]
  },
  {
   "cell_type": "markdown",
   "metadata": {},
   "source": [
    "# Segment reviews in order to extract \"opinion units\"\n",
    "When users write reviews, they may provide their opinion on different aspects of the app (cf. __[this website](https://monkeylearn.com/blog/aspect-based-sentiment-analysis/)__). They might like one feature from the app, and whish another one was better. Also, in order to assess what topic are of highest interest, we'd like to segment app reviews in ordre to extract \"opinion units\" from users.\n",
    "\n",
    "After reading some app reviews, we've identified how to modify the default rules from spaCy to extract opinion units from our app reviews:\n",
    "* Use the default sentence segmentation from spaCy \n",
    "* Add a rule to the pipeline before the parser, to segment when \"but\" or \"althoug\" are used.\n",
    "* Change the rule to never segment when \"so\" is encountered\n",
    "Empty lines should also be removed.\n",
    "\n",
    "Here, since our dataset is not too large, we'll duplicate the review information and associate it with each opinion unit.\n",
    "\n",
    "NB: After going through reviews to identify topics, tags and sentiment, I've realized that for certain reviews, information is mostly in the title. Will add the review title as an opinion unit. Will also add an index for the opinion units, as it may make tagging (topics, sentiment) easier."
   ]
  },
  {
   "cell_type": "code",
   "execution_count": 1,
   "metadata": {},
   "outputs": [],
   "source": [
    "import os\n",
    "import pandas as pd"
   ]
  },
  {
   "cell_type": "code",
   "execution_count": 2,
   "metadata": {},
   "outputs": [],
   "source": [
    "import spacy\n",
    "nlp = spacy.load('en_core_web_sm')"
   ]
  },
  {
   "cell_type": "markdown",
   "metadata": {},
   "source": [
    "## Load reviews"
   ]
  },
  {
   "cell_type": "code",
   "execution_count": 3,
   "metadata": {},
   "outputs": [],
   "source": [
    "path = os.getcwd()\n",
    "filename = 'app_reviews_airvisual-air-quality-forecast_1048912974_by_lang_us.csv'\n",
    "subfolder = '/../data/1_preprocessed_data/'"
   ]
  },
  {
   "cell_type": "code",
   "execution_count": 4,
   "metadata": {},
   "outputs": [],
   "source": [
    "df = pd.read_csv(path+subfolder+filename, sep = ';')"
   ]
  },
  {
   "cell_type": "code",
   "execution_count": 5,
   "metadata": {},
   "outputs": [
    {
     "data": {
      "text/html": [
       "<div>\n",
       "<style scoped>\n",
       "    .dataframe tbody tr th:only-of-type {\n",
       "        vertical-align: middle;\n",
       "    }\n",
       "\n",
       "    .dataframe tbody tr th {\n",
       "        vertical-align: top;\n",
       "    }\n",
       "\n",
       "    .dataframe thead th {\n",
       "        text-align: right;\n",
       "    }\n",
       "</style>\n",
       "<table border=\"1\" class=\"dataframe\">\n",
       "  <thead>\n",
       "    <tr style=\"text-align: right;\">\n",
       "      <th></th>\n",
       "      <th>Unnamed: 0</th>\n",
       "      <th>review_id</th>\n",
       "      <th>rating</th>\n",
       "      <th>title</th>\n",
       "      <th>review_date</th>\n",
       "      <th>user_name</th>\n",
       "      <th>review</th>\n",
       "      <th>response_id</th>\n",
       "      <th>dev_response</th>\n",
       "      <th>response_date</th>\n",
       "      <th>lang</th>\n",
       "    </tr>\n",
       "  </thead>\n",
       "  <tbody>\n",
       "    <tr>\n",
       "      <th>0</th>\n",
       "      <td>3095</td>\n",
       "      <td>6121840341</td>\n",
       "      <td>5</td>\n",
       "      <td>Happy to finally see when and why I can’t brea...</td>\n",
       "      <td>2020-06-25T23:18:57Z</td>\n",
       "      <td>Abbsteroni</td>\n",
       "      <td>Having allergies is annoying but I’m glad to s...</td>\n",
       "      <td>NaN</td>\n",
       "      <td>NaN</td>\n",
       "      <td>NaN</td>\n",
       "      <td>en</td>\n",
       "    </tr>\n",
       "    <tr>\n",
       "      <th>1</th>\n",
       "      <td>982</td>\n",
       "      <td>6114444527</td>\n",
       "      <td>5</td>\n",
       "      <td>Super</td>\n",
       "      <td>2020-06-24T02:12:59Z</td>\n",
       "      <td>WillJosue</td>\n",
       "      <td>Easy to keep track on specific Local areas</td>\n",
       "      <td>NaN</td>\n",
       "      <td>NaN</td>\n",
       "      <td>NaN</td>\n",
       "      <td>en</td>\n",
       "    </tr>\n",
       "    <tr>\n",
       "      <th>2</th>\n",
       "      <td>1965</td>\n",
       "      <td>6114325210</td>\n",
       "      <td>5</td>\n",
       "      <td>Great App</td>\n",
       "      <td>2020-06-24T01:31:38Z</td>\n",
       "      <td>Nejinater</td>\n",
       "      <td>Full of good information!</td>\n",
       "      <td>NaN</td>\n",
       "      <td>NaN</td>\n",
       "      <td>NaN</td>\n",
       "      <td>en</td>\n",
       "    </tr>\n",
       "    <tr>\n",
       "      <th>3</th>\n",
       "      <td>797</td>\n",
       "      <td>6111838742</td>\n",
       "      <td>5</td>\n",
       "      <td>Great app for filtering the air</td>\n",
       "      <td>2020-06-23T11:01:04Z</td>\n",
       "      <td>Jamieissad</td>\n",
       "      <td>Tells you everything you need to know about th...</td>\n",
       "      <td>NaN</td>\n",
       "      <td>NaN</td>\n",
       "      <td>NaN</td>\n",
       "      <td>en</td>\n",
       "    </tr>\n",
       "    <tr>\n",
       "      <th>4</th>\n",
       "      <td>962</td>\n",
       "      <td>6104666348</td>\n",
       "      <td>5</td>\n",
       "      <td>I look everyday</td>\n",
       "      <td>2020-06-21T14:29:25Z</td>\n",
       "      <td>TorchPitchfork</td>\n",
       "      <td>This is part of my daily planning. I love the ...</td>\n",
       "      <td>NaN</td>\n",
       "      <td>NaN</td>\n",
       "      <td>NaN</td>\n",
       "      <td>en</td>\n",
       "    </tr>\n",
       "  </tbody>\n",
       "</table>\n",
       "</div>"
      ],
      "text/plain": [
       "   Unnamed: 0   review_id  rating  \\\n",
       "0        3095  6121840341       5   \n",
       "1         982  6114444527       5   \n",
       "2        1965  6114325210       5   \n",
       "3         797  6111838742       5   \n",
       "4         962  6104666348       5   \n",
       "\n",
       "                                               title           review_date  \\\n",
       "0  Happy to finally see when and why I can’t brea...  2020-06-25T23:18:57Z   \n",
       "1                                              Super  2020-06-24T02:12:59Z   \n",
       "2                                          Great App  2020-06-24T01:31:38Z   \n",
       "3                    Great app for filtering the air  2020-06-23T11:01:04Z   \n",
       "4                                    I look everyday  2020-06-21T14:29:25Z   \n",
       "\n",
       "        user_name                                             review  \\\n",
       "0      Abbsteroni  Having allergies is annoying but I’m glad to s...   \n",
       "1       WillJosue         Easy to keep track on specific Local areas   \n",
       "2       Nejinater                          Full of good information!   \n",
       "3      Jamieissad  Tells you everything you need to know about th...   \n",
       "4  TorchPitchfork  This is part of my daily planning. I love the ...   \n",
       "\n",
       "   response_id dev_response response_date lang  \n",
       "0          NaN          NaN           NaN   en  \n",
       "1          NaN          NaN           NaN   en  \n",
       "2          NaN          NaN           NaN   en  \n",
       "3          NaN          NaN           NaN   en  \n",
       "4          NaN          NaN           NaN   en  "
      ]
     },
     "execution_count": 5,
     "metadata": {},
     "output_type": "execute_result"
    }
   ],
   "source": [
    "df.head()"
   ]
  },
  {
   "cell_type": "markdown",
   "metadata": {},
   "source": [
    "## Modify rules for sentence segmentation"
   ]
  },
  {
   "cell_type": "code",
   "execution_count": 6,
   "metadata": {},
   "outputs": [
    {
     "data": {
      "text/plain": [
       "['tagger', 'set_custom_boundaries', 'parser', 'ner']"
      ]
     },
     "execution_count": 6,
     "metadata": {},
     "output_type": "execute_result"
    }
   ],
   "source": [
    "# modify rules before the parser in the pipeline\n",
    "def set_custom_boundaries(doc):\n",
    "    for token in doc[:-1]:\n",
    "        # segment at \"but\" and \"although\"\n",
    "        if token.text == 'but' or token.text == 'although':\n",
    "            doc[token.i].is_sent_start = True\n",
    "        # never segment at \"so\"\n",
    "        elif token.text == 'so':\n",
    "            doc[token.i].is_sent_start = False\n",
    "    return doc\n",
    "            \n",
    "nlp.add_pipe(set_custom_boundaries, before = 'parser')\n",
    "\n",
    "nlp.pipe_names"
   ]
  },
  {
   "cell_type": "code",
   "execution_count": 7,
   "metadata": {},
   "outputs": [
    {
     "name": "stdout",
     "output_type": "stream",
     "text": [
      "love using this to check the air quality in my area and whenever I travel,\n",
      "but not at work.\n",
      "i like that it has the widget option so i can see it in my today view as well on iphone\n"
     ]
    }
   ],
   "source": [
    "# check the application of the new rules\n",
    "s = \"love using this to check the air quality in my area and whenever I travel, but not at work. i like that it has the widget option so i can see it in my today view as well on iphone\"\n",
    "\n",
    "doc8 = nlp(s)\n",
    "for sent in doc8.sents:\n",
    "    print(sent.text)"
   ]
  },
  {
   "cell_type": "markdown",
   "metadata": {},
   "source": [
    "## Removing line breaks"
   ]
  },
  {
   "cell_type": "code",
   "execution_count": 8,
   "metadata": {},
   "outputs": [],
   "source": [
    "import re"
   ]
  },
  {
   "cell_type": "code",
   "execution_count": 9,
   "metadata": {},
   "outputs": [],
   "source": [
    "clean_line_break = lambda s : ' '.join(re.findall('[^\\n]+', s))"
   ]
  },
  {
   "cell_type": "markdown",
   "metadata": {},
   "source": [
    "## Extract opinion units"
   ]
  },
  {
   "cell_type": "code",
   "execution_count": 10,
   "metadata": {},
   "outputs": [],
   "source": [
    "extract_sent = lambda s : [clean_line_break(sent.text) for sent in nlp(s).sents]"
   ]
  },
  {
   "cell_type": "code",
   "execution_count": 11,
   "metadata": {},
   "outputs": [
    {
     "data": {
      "text/plain": [
       "['love using this to check the air quality in my area and whenever I travel,',\n",
       " 'but not at work.',\n",
       " 'i like that it has the widget option so i can see it in my today view as well on iphone']"
      ]
     },
     "execution_count": 11,
     "metadata": {},
     "output_type": "execute_result"
    }
   ],
   "source": [
    "extract_sent(s)"
   ]
  },
  {
   "cell_type": "code",
   "execution_count": 12,
   "metadata": {},
   "outputs": [],
   "source": [
    "s2 = df.iloc[2147]['review']"
   ]
  },
  {
   "cell_type": "code",
   "execution_count": 13,
   "metadata": {},
   "outputs": [
    {
     "data": {
      "text/plain": [
       "['Discovered this app a couple of months ago and find it very useful in evaluating air quality, ventilating my house, and considering how to improve air filtration in my house.',\n",
       " 'With continuing fires and air pollution in N California, I have developed bronchial irritation and increased congestion (which closely tracks air quality conditions reported by air visual).',\n",
       " 'I attribute the good info to lots of reporting stations in my area.',\n",
       " 'Of particular interest is knowing when to ventilate my house (during periods of good air reported by air visual).',\n",
       " 'Also, the app is helping me evaluate the performance of my whole house air filter system; my house filter helps',\n",
       " 'but need improvement.',\n",
       " \"As a result of the app's functionality, I'm considering buying a larger version of IQAir's home air purifier as an adjunct to my whole house filtering.\",\n",
       " 'I give a 4 star rating because there is always room for improvement.']"
      ]
     },
     "execution_count": 13,
     "metadata": {},
     "output_type": "execute_result"
    }
   ],
   "source": [
    "extract_sent(s2)"
   ]
  },
  {
   "cell_type": "code",
   "execution_count": 14,
   "metadata": {},
   "outputs": [],
   "source": [
    "df['opinion_units'] = df['review'].apply(extract_sent)"
   ]
  },
  {
   "cell_type": "code",
   "execution_count": 15,
   "metadata": {},
   "outputs": [
    {
     "data": {
      "text/html": [
       "<div>\n",
       "<style scoped>\n",
       "    .dataframe tbody tr th:only-of-type {\n",
       "        vertical-align: middle;\n",
       "    }\n",
       "\n",
       "    .dataframe tbody tr th {\n",
       "        vertical-align: top;\n",
       "    }\n",
       "\n",
       "    .dataframe thead th {\n",
       "        text-align: right;\n",
       "    }\n",
       "</style>\n",
       "<table border=\"1\" class=\"dataframe\">\n",
       "  <thead>\n",
       "    <tr style=\"text-align: right;\">\n",
       "      <th></th>\n",
       "      <th>Unnamed: 0</th>\n",
       "      <th>review_id</th>\n",
       "      <th>rating</th>\n",
       "      <th>title</th>\n",
       "      <th>review_date</th>\n",
       "      <th>user_name</th>\n",
       "      <th>review</th>\n",
       "      <th>response_id</th>\n",
       "      <th>dev_response</th>\n",
       "      <th>response_date</th>\n",
       "      <th>lang</th>\n",
       "      <th>opinion_units</th>\n",
       "    </tr>\n",
       "  </thead>\n",
       "  <tbody>\n",
       "    <tr>\n",
       "      <th>0</th>\n",
       "      <td>3095</td>\n",
       "      <td>6121840341</td>\n",
       "      <td>5</td>\n",
       "      <td>Happy to finally see when and why I can’t brea...</td>\n",
       "      <td>2020-06-25T23:18:57Z</td>\n",
       "      <td>Abbsteroni</td>\n",
       "      <td>Having allergies is annoying but I’m glad to s...</td>\n",
       "      <td>NaN</td>\n",
       "      <td>NaN</td>\n",
       "      <td>NaN</td>\n",
       "      <td>en</td>\n",
       "      <td>[Having allergies is annoying, but I’m glad to...</td>\n",
       "    </tr>\n",
       "    <tr>\n",
       "      <th>1</th>\n",
       "      <td>982</td>\n",
       "      <td>6114444527</td>\n",
       "      <td>5</td>\n",
       "      <td>Super</td>\n",
       "      <td>2020-06-24T02:12:59Z</td>\n",
       "      <td>WillJosue</td>\n",
       "      <td>Easy to keep track on specific Local areas</td>\n",
       "      <td>NaN</td>\n",
       "      <td>NaN</td>\n",
       "      <td>NaN</td>\n",
       "      <td>en</td>\n",
       "      <td>[Easy to keep track on specific Local areas]</td>\n",
       "    </tr>\n",
       "    <tr>\n",
       "      <th>2</th>\n",
       "      <td>1965</td>\n",
       "      <td>6114325210</td>\n",
       "      <td>5</td>\n",
       "      <td>Great App</td>\n",
       "      <td>2020-06-24T01:31:38Z</td>\n",
       "      <td>Nejinater</td>\n",
       "      <td>Full of good information!</td>\n",
       "      <td>NaN</td>\n",
       "      <td>NaN</td>\n",
       "      <td>NaN</td>\n",
       "      <td>en</td>\n",
       "      <td>[Full of good information!]</td>\n",
       "    </tr>\n",
       "    <tr>\n",
       "      <th>3</th>\n",
       "      <td>797</td>\n",
       "      <td>6111838742</td>\n",
       "      <td>5</td>\n",
       "      <td>Great app for filtering the air</td>\n",
       "      <td>2020-06-23T11:01:04Z</td>\n",
       "      <td>Jamieissad</td>\n",
       "      <td>Tells you everything you need to know about th...</td>\n",
       "      <td>NaN</td>\n",
       "      <td>NaN</td>\n",
       "      <td>NaN</td>\n",
       "      <td>en</td>\n",
       "      <td>[Tells you everything you need to know about t...</td>\n",
       "    </tr>\n",
       "    <tr>\n",
       "      <th>4</th>\n",
       "      <td>962</td>\n",
       "      <td>6104666348</td>\n",
       "      <td>5</td>\n",
       "      <td>I look everyday</td>\n",
       "      <td>2020-06-21T14:29:25Z</td>\n",
       "      <td>TorchPitchfork</td>\n",
       "      <td>This is part of my daily planning. I love the ...</td>\n",
       "      <td>NaN</td>\n",
       "      <td>NaN</td>\n",
       "      <td>NaN</td>\n",
       "      <td>en</td>\n",
       "      <td>[This is part of my daily planning., I love th...</td>\n",
       "    </tr>\n",
       "  </tbody>\n",
       "</table>\n",
       "</div>"
      ],
      "text/plain": [
       "   Unnamed: 0   review_id  rating  \\\n",
       "0        3095  6121840341       5   \n",
       "1         982  6114444527       5   \n",
       "2        1965  6114325210       5   \n",
       "3         797  6111838742       5   \n",
       "4         962  6104666348       5   \n",
       "\n",
       "                                               title           review_date  \\\n",
       "0  Happy to finally see when and why I can’t brea...  2020-06-25T23:18:57Z   \n",
       "1                                              Super  2020-06-24T02:12:59Z   \n",
       "2                                          Great App  2020-06-24T01:31:38Z   \n",
       "3                    Great app for filtering the air  2020-06-23T11:01:04Z   \n",
       "4                                    I look everyday  2020-06-21T14:29:25Z   \n",
       "\n",
       "        user_name                                             review  \\\n",
       "0      Abbsteroni  Having allergies is annoying but I’m glad to s...   \n",
       "1       WillJosue         Easy to keep track on specific Local areas   \n",
       "2       Nejinater                          Full of good information!   \n",
       "3      Jamieissad  Tells you everything you need to know about th...   \n",
       "4  TorchPitchfork  This is part of my daily planning. I love the ...   \n",
       "\n",
       "   response_id dev_response response_date lang  \\\n",
       "0          NaN          NaN           NaN   en   \n",
       "1          NaN          NaN           NaN   en   \n",
       "2          NaN          NaN           NaN   en   \n",
       "3          NaN          NaN           NaN   en   \n",
       "4          NaN          NaN           NaN   en   \n",
       "\n",
       "                                       opinion_units  \n",
       "0  [Having allergies is annoying, but I’m glad to...  \n",
       "1       [Easy to keep track on specific Local areas]  \n",
       "2                        [Full of good information!]  \n",
       "3  [Tells you everything you need to know about t...  \n",
       "4  [This is part of my daily planning., I love th...  "
      ]
     },
     "execution_count": 15,
     "metadata": {},
     "output_type": "execute_result"
    }
   ],
   "source": [
    "df.head()"
   ]
  },
  {
   "cell_type": "code",
   "execution_count": 16,
   "metadata": {},
   "outputs": [
    {
     "data": {
      "text/plain": [
       "['It is a very good app to visit!',\n",
       " 'It shows you all the times and day where you can see directly when and where you should need to know what the air quality is!',\n",
       " 'Awesome']"
      ]
     },
     "execution_count": 16,
     "metadata": {},
     "output_type": "execute_result"
    }
   ],
   "source": [
    "df.iloc[2143]['opinion_units']"
   ]
  },
  {
   "cell_type": "markdown",
   "metadata": {},
   "source": [
    "## Create new dataframe with opinion units"
   ]
  },
  {
   "cell_type": "code",
   "execution_count": 17,
   "metadata": {},
   "outputs": [
    {
     "data": {
      "text/plain": [
       "['Unnamed: 0',\n",
       " 'review_id',\n",
       " 'rating',\n",
       " 'title',\n",
       " 'review_date',\n",
       " 'user_name',\n",
       " 'review',\n",
       " 'response_id',\n",
       " 'dev_response',\n",
       " 'response_date',\n",
       " 'lang',\n",
       " 'opinion_units',\n",
       " 'opi_id']"
      ]
     },
     "execution_count": 17,
     "metadata": {},
     "output_type": "execute_result"
    }
   ],
   "source": [
    "cols = df.columns.values.tolist()\n",
    "cols.append('opi_id')\n",
    "cols"
   ]
  },
  {
   "cell_type": "code",
   "execution_count": 43,
   "metadata": {},
   "outputs": [],
   "source": [
    "df_out = pd.DataFrame(columns = cols)"
   ]
  },
  {
   "cell_type": "code",
   "execution_count": 44,
   "metadata": {},
   "outputs": [
    {
     "data": {
      "text/html": [
       "<div>\n",
       "<style scoped>\n",
       "    .dataframe tbody tr th:only-of-type {\n",
       "        vertical-align: middle;\n",
       "    }\n",
       "\n",
       "    .dataframe tbody tr th {\n",
       "        vertical-align: top;\n",
       "    }\n",
       "\n",
       "    .dataframe thead th {\n",
       "        text-align: right;\n",
       "    }\n",
       "</style>\n",
       "<table border=\"1\" class=\"dataframe\">\n",
       "  <thead>\n",
       "    <tr style=\"text-align: right;\">\n",
       "      <th></th>\n",
       "      <th>Unnamed: 0</th>\n",
       "      <th>review_id</th>\n",
       "      <th>rating</th>\n",
       "      <th>title</th>\n",
       "      <th>review_date</th>\n",
       "      <th>user_name</th>\n",
       "      <th>review</th>\n",
       "      <th>response_id</th>\n",
       "      <th>dev_response</th>\n",
       "      <th>response_date</th>\n",
       "      <th>lang</th>\n",
       "      <th>opinion_units</th>\n",
       "      <th>opi_id</th>\n",
       "    </tr>\n",
       "  </thead>\n",
       "  <tbody>\n",
       "  </tbody>\n",
       "</table>\n",
       "</div>"
      ],
      "text/plain": [
       "Empty DataFrame\n",
       "Columns: [Unnamed: 0, review_id, rating, title, review_date, user_name, review, response_id, dev_response, response_date, lang, opinion_units, opi_id]\n",
       "Index: []"
      ]
     },
     "execution_count": 44,
     "metadata": {},
     "output_type": "execute_result"
    }
   ],
   "source": [
    "df_out"
   ]
  },
  {
   "cell_type": "code",
   "execution_count": 22,
   "metadata": {},
   "outputs": [],
   "source": [
    "# method to use the title as an additional opinion unit\n",
    "def get_title_opinion(df, i, counter):\n",
    "    \n",
    "    title_r = {}\n",
    "    \n",
    "    # copy the info from all the columns except the last one\n",
    "    for c in df.columns[:-1]:\n",
    "        title_r[c] = df.iloc[i].loc[c]\n",
    "        \n",
    "    # extract the title review to fill the 'opinion_units' column\n",
    "    opinion_c = df.columns[-1]\n",
    "    title_r[opinion_c] = df.iloc[i].loc['title']\n",
    "    \n",
    "    # add the id of the opinion unit\n",
    "    title_r['opi_id'] = counter\n",
    "    \n",
    "    return title_r"
   ]
  },
  {
   "cell_type": "code",
   "execution_count": 23,
   "metadata": {},
   "outputs": [
    {
     "data": {
      "text/plain": [
       "{'Unnamed: 0': 3095,\n",
       " 'review_id': 6121840341,\n",
       " 'rating': 5,\n",
       " 'title': 'Happy to finally see when and why I can’t breathe!',\n",
       " 'review_date': '2020-06-25T23:18:57Z',\n",
       " 'user_name': 'Abbsteroni',\n",
       " 'review': 'Having allergies is annoying but I’m glad to see this and know when to take extra precautions.',\n",
       " 'response_id': nan,\n",
       " 'dev_response': nan,\n",
       " 'response_date': nan,\n",
       " 'lang': 'en',\n",
       " 'opinion_units': 'Happy to finally see when and why I can’t breathe!',\n",
       " 'opi_id': 0}"
      ]
     },
     "execution_count": 23,
     "metadata": {},
     "output_type": "execute_result"
    }
   ],
   "source": [
    "get_title_opinion(df, 0, 0)"
   ]
  },
  {
   "cell_type": "code",
   "execution_count": 24,
   "metadata": {},
   "outputs": [],
   "source": [
    "# method to define the content of the row for the dataframe of opinion units\n",
    "def new_row(df, i, j, counter):\n",
    "    \n",
    "    new_r = {}\n",
    "    \n",
    "    # copy the info from all the columns except the last one\n",
    "    for c in df.columns[:-1]:\n",
    "        new_r[c] = df.iloc[i].loc[c]\n",
    "        \n",
    "    # extract the j th item from the list in the 'opinion_units' column of df\n",
    "    opinion_c = df.columns[-1]\n",
    "    new_r[opinion_c] = df.iloc[i].loc[opinion_c][j]\n",
    "    \n",
    "    # add the id of the opinion unit\n",
    "    new_r['opi_id'] = counter\n",
    "    \n",
    "    return new_r"
   ]
  },
  {
   "cell_type": "code",
   "execution_count": 25,
   "metadata": {},
   "outputs": [
    {
     "data": {
      "text/plain": [
       "{'Unnamed: 0': 3095,\n",
       " 'review_id': 6121840341,\n",
       " 'rating': 5,\n",
       " 'title': 'Happy to finally see when and why I can’t breathe!',\n",
       " 'review_date': '2020-06-25T23:18:57Z',\n",
       " 'user_name': 'Abbsteroni',\n",
       " 'review': 'Having allergies is annoying but I’m glad to see this and know when to take extra precautions.',\n",
       " 'response_id': nan,\n",
       " 'dev_response': nan,\n",
       " 'response_date': nan,\n",
       " 'lang': 'en',\n",
       " 'opinion_units': 'Having allergies is annoying',\n",
       " 'opi_id': 1}"
      ]
     },
     "execution_count": 25,
     "metadata": {},
     "output_type": "execute_result"
    }
   ],
   "source": [
    "new_row(df, 0, 0, 1)"
   ]
  },
  {
   "cell_type": "code",
   "execution_count": 26,
   "metadata": {},
   "outputs": [
    {
     "data": {
      "text/plain": [
       "{'Unnamed: 0': 3095,\n",
       " 'review_id': 6121840341,\n",
       " 'rating': 5,\n",
       " 'title': 'Happy to finally see when and why I can’t breathe!',\n",
       " 'review_date': '2020-06-25T23:18:57Z',\n",
       " 'user_name': 'Abbsteroni',\n",
       " 'review': 'Having allergies is annoying but I’m glad to see this and know when to take extra precautions.',\n",
       " 'response_id': nan,\n",
       " 'dev_response': nan,\n",
       " 'response_date': nan,\n",
       " 'lang': 'en',\n",
       " 'opinion_units': 'but I’m glad to see this and know when to take extra precautions.',\n",
       " 'opi_id': 2}"
      ]
     },
     "execution_count": 26,
     "metadata": {},
     "output_type": "execute_result"
    }
   ],
   "source": [
    "new_row(df, 0, 1, 2)"
   ]
  },
  {
   "cell_type": "code",
   "execution_count": 45,
   "metadata": {},
   "outputs": [],
   "source": [
    "opinion_c = df.columns[-1]\n",
    "counter = 0\n",
    "\n",
    "# build the dataframe of opinion units\n",
    "for i in range(len(df)): \n",
    "#for i in range(20): \n",
    "    \n",
    "    # add a row to extract the review title as an opinion unit\n",
    "    new_r = get_title_opinion(df, i, counter)\n",
    "    df_out = df_out.append(new_r, ignore_index=True)\n",
    "    counter += 1\n",
    "    \n",
    "    # add row(s) from opinion units extracted from the review\n",
    "    lst_len = len(df.iloc[i].loc[opinion_c])\n",
    "    \n",
    "    for j in range(lst_len):\n",
    "        new_r = new_row(df, i, j, counter)\n",
    "        df_out = df_out.append(new_r, ignore_index=True)\n",
    "        counter += 1"
   ]
  },
  {
   "cell_type": "code",
   "execution_count": 50,
   "metadata": {},
   "outputs": [],
   "source": [
    "# rename the last columns\n",
    "df_out.rename({'opinion_units':'opinion_unit'}, axis = 1, inplace = True)"
   ]
  },
  {
   "cell_type": "code",
   "execution_count": 52,
   "metadata": {},
   "outputs": [
    {
     "data": {
      "text/html": [
       "<div>\n",
       "<style scoped>\n",
       "    .dataframe tbody tr th:only-of-type {\n",
       "        vertical-align: middle;\n",
       "    }\n",
       "\n",
       "    .dataframe tbody tr th {\n",
       "        vertical-align: top;\n",
       "    }\n",
       "\n",
       "    .dataframe thead th {\n",
       "        text-align: right;\n",
       "    }\n",
       "</style>\n",
       "<table border=\"1\" class=\"dataframe\">\n",
       "  <thead>\n",
       "    <tr style=\"text-align: right;\">\n",
       "      <th></th>\n",
       "      <th>Unnamed: 0</th>\n",
       "      <th>review_id</th>\n",
       "      <th>rating</th>\n",
       "      <th>title</th>\n",
       "      <th>review_date</th>\n",
       "      <th>user_name</th>\n",
       "      <th>review</th>\n",
       "      <th>response_id</th>\n",
       "      <th>dev_response</th>\n",
       "      <th>response_date</th>\n",
       "      <th>lang</th>\n",
       "      <th>opinion_unit</th>\n",
       "      <th>opi_id</th>\n",
       "    </tr>\n",
       "  </thead>\n",
       "  <tbody>\n",
       "    <tr>\n",
       "      <th>0</th>\n",
       "      <td>3095</td>\n",
       "      <td>6121840341</td>\n",
       "      <td>5</td>\n",
       "      <td>Happy to finally see when and why I can’t brea...</td>\n",
       "      <td>2020-06-25T23:18:57Z</td>\n",
       "      <td>Abbsteroni</td>\n",
       "      <td>Having allergies is annoying but I’m glad to s...</td>\n",
       "      <td>NaN</td>\n",
       "      <td>NaN</td>\n",
       "      <td>NaN</td>\n",
       "      <td>en</td>\n",
       "      <td>Happy to finally see when and why I can’t brea...</td>\n",
       "      <td>0</td>\n",
       "    </tr>\n",
       "    <tr>\n",
       "      <th>1</th>\n",
       "      <td>3095</td>\n",
       "      <td>6121840341</td>\n",
       "      <td>5</td>\n",
       "      <td>Happy to finally see when and why I can’t brea...</td>\n",
       "      <td>2020-06-25T23:18:57Z</td>\n",
       "      <td>Abbsteroni</td>\n",
       "      <td>Having allergies is annoying but I’m glad to s...</td>\n",
       "      <td>NaN</td>\n",
       "      <td>NaN</td>\n",
       "      <td>NaN</td>\n",
       "      <td>en</td>\n",
       "      <td>Having allergies is annoying</td>\n",
       "      <td>1</td>\n",
       "    </tr>\n",
       "    <tr>\n",
       "      <th>2</th>\n",
       "      <td>3095</td>\n",
       "      <td>6121840341</td>\n",
       "      <td>5</td>\n",
       "      <td>Happy to finally see when and why I can’t brea...</td>\n",
       "      <td>2020-06-25T23:18:57Z</td>\n",
       "      <td>Abbsteroni</td>\n",
       "      <td>Having allergies is annoying but I’m glad to s...</td>\n",
       "      <td>NaN</td>\n",
       "      <td>NaN</td>\n",
       "      <td>NaN</td>\n",
       "      <td>en</td>\n",
       "      <td>but I’m glad to see this and know when to take...</td>\n",
       "      <td>2</td>\n",
       "    </tr>\n",
       "    <tr>\n",
       "      <th>3</th>\n",
       "      <td>982</td>\n",
       "      <td>6114444527</td>\n",
       "      <td>5</td>\n",
       "      <td>Super</td>\n",
       "      <td>2020-06-24T02:12:59Z</td>\n",
       "      <td>WillJosue</td>\n",
       "      <td>Easy to keep track on specific Local areas</td>\n",
       "      <td>NaN</td>\n",
       "      <td>NaN</td>\n",
       "      <td>NaN</td>\n",
       "      <td>en</td>\n",
       "      <td>Super</td>\n",
       "      <td>3</td>\n",
       "    </tr>\n",
       "    <tr>\n",
       "      <th>4</th>\n",
       "      <td>982</td>\n",
       "      <td>6114444527</td>\n",
       "      <td>5</td>\n",
       "      <td>Super</td>\n",
       "      <td>2020-06-24T02:12:59Z</td>\n",
       "      <td>WillJosue</td>\n",
       "      <td>Easy to keep track on specific Local areas</td>\n",
       "      <td>NaN</td>\n",
       "      <td>NaN</td>\n",
       "      <td>NaN</td>\n",
       "      <td>en</td>\n",
       "      <td>Easy to keep track on specific Local areas</td>\n",
       "      <td>4</td>\n",
       "    </tr>\n",
       "    <tr>\n",
       "      <th>5</th>\n",
       "      <td>1965</td>\n",
       "      <td>6114325210</td>\n",
       "      <td>5</td>\n",
       "      <td>Great App</td>\n",
       "      <td>2020-06-24T01:31:38Z</td>\n",
       "      <td>Nejinater</td>\n",
       "      <td>Full of good information!</td>\n",
       "      <td>NaN</td>\n",
       "      <td>NaN</td>\n",
       "      <td>NaN</td>\n",
       "      <td>en</td>\n",
       "      <td>Great App</td>\n",
       "      <td>5</td>\n",
       "    </tr>\n",
       "    <tr>\n",
       "      <th>6</th>\n",
       "      <td>1965</td>\n",
       "      <td>6114325210</td>\n",
       "      <td>5</td>\n",
       "      <td>Great App</td>\n",
       "      <td>2020-06-24T01:31:38Z</td>\n",
       "      <td>Nejinater</td>\n",
       "      <td>Full of good information!</td>\n",
       "      <td>NaN</td>\n",
       "      <td>NaN</td>\n",
       "      <td>NaN</td>\n",
       "      <td>en</td>\n",
       "      <td>Full of good information!</td>\n",
       "      <td>6</td>\n",
       "    </tr>\n",
       "    <tr>\n",
       "      <th>7</th>\n",
       "      <td>797</td>\n",
       "      <td>6111838742</td>\n",
       "      <td>5</td>\n",
       "      <td>Great app for filtering the air</td>\n",
       "      <td>2020-06-23T11:01:04Z</td>\n",
       "      <td>Jamieissad</td>\n",
       "      <td>Tells you everything you need to know about th...</td>\n",
       "      <td>NaN</td>\n",
       "      <td>NaN</td>\n",
       "      <td>NaN</td>\n",
       "      <td>en</td>\n",
       "      <td>Great app for filtering the air</td>\n",
       "      <td>7</td>\n",
       "    </tr>\n",
       "    <tr>\n",
       "      <th>8</th>\n",
       "      <td>797</td>\n",
       "      <td>6111838742</td>\n",
       "      <td>5</td>\n",
       "      <td>Great app for filtering the air</td>\n",
       "      <td>2020-06-23T11:01:04Z</td>\n",
       "      <td>Jamieissad</td>\n",
       "      <td>Tells you everything you need to know about th...</td>\n",
       "      <td>NaN</td>\n",
       "      <td>NaN</td>\n",
       "      <td>NaN</td>\n",
       "      <td>en</td>\n",
       "      <td>Tells you everything you need to know about th...</td>\n",
       "      <td>8</td>\n",
       "    </tr>\n",
       "    <tr>\n",
       "      <th>9</th>\n",
       "      <td>962</td>\n",
       "      <td>6104666348</td>\n",
       "      <td>5</td>\n",
       "      <td>I look everyday</td>\n",
       "      <td>2020-06-21T14:29:25Z</td>\n",
       "      <td>TorchPitchfork</td>\n",
       "      <td>This is part of my daily planning. I love the ...</td>\n",
       "      <td>NaN</td>\n",
       "      <td>NaN</td>\n",
       "      <td>NaN</td>\n",
       "      <td>en</td>\n",
       "      <td>I look everyday</td>\n",
       "      <td>9</td>\n",
       "    </tr>\n",
       "  </tbody>\n",
       "</table>\n",
       "</div>"
      ],
      "text/plain": [
       "  Unnamed: 0   review_id rating  \\\n",
       "0       3095  6121840341      5   \n",
       "1       3095  6121840341      5   \n",
       "2       3095  6121840341      5   \n",
       "3        982  6114444527      5   \n",
       "4        982  6114444527      5   \n",
       "5       1965  6114325210      5   \n",
       "6       1965  6114325210      5   \n",
       "7        797  6111838742      5   \n",
       "8        797  6111838742      5   \n",
       "9        962  6104666348      5   \n",
       "\n",
       "                                               title           review_date  \\\n",
       "0  Happy to finally see when and why I can’t brea...  2020-06-25T23:18:57Z   \n",
       "1  Happy to finally see when and why I can’t brea...  2020-06-25T23:18:57Z   \n",
       "2  Happy to finally see when and why I can’t brea...  2020-06-25T23:18:57Z   \n",
       "3                                              Super  2020-06-24T02:12:59Z   \n",
       "4                                              Super  2020-06-24T02:12:59Z   \n",
       "5                                          Great App  2020-06-24T01:31:38Z   \n",
       "6                                          Great App  2020-06-24T01:31:38Z   \n",
       "7                    Great app for filtering the air  2020-06-23T11:01:04Z   \n",
       "8                    Great app for filtering the air  2020-06-23T11:01:04Z   \n",
       "9                                    I look everyday  2020-06-21T14:29:25Z   \n",
       "\n",
       "        user_name                                             review  \\\n",
       "0      Abbsteroni  Having allergies is annoying but I’m glad to s...   \n",
       "1      Abbsteroni  Having allergies is annoying but I’m glad to s...   \n",
       "2      Abbsteroni  Having allergies is annoying but I’m glad to s...   \n",
       "3       WillJosue         Easy to keep track on specific Local areas   \n",
       "4       WillJosue         Easy to keep track on specific Local areas   \n",
       "5       Nejinater                          Full of good information!   \n",
       "6       Nejinater                          Full of good information!   \n",
       "7      Jamieissad  Tells you everything you need to know about th...   \n",
       "8      Jamieissad  Tells you everything you need to know about th...   \n",
       "9  TorchPitchfork  This is part of my daily planning. I love the ...   \n",
       "\n",
       "   response_id dev_response response_date lang  \\\n",
       "0          NaN          NaN           NaN   en   \n",
       "1          NaN          NaN           NaN   en   \n",
       "2          NaN          NaN           NaN   en   \n",
       "3          NaN          NaN           NaN   en   \n",
       "4          NaN          NaN           NaN   en   \n",
       "5          NaN          NaN           NaN   en   \n",
       "6          NaN          NaN           NaN   en   \n",
       "7          NaN          NaN           NaN   en   \n",
       "8          NaN          NaN           NaN   en   \n",
       "9          NaN          NaN           NaN   en   \n",
       "\n",
       "                                        opinion_unit opi_id  \n",
       "0  Happy to finally see when and why I can’t brea...      0  \n",
       "1                       Having allergies is annoying      1  \n",
       "2  but I’m glad to see this and know when to take...      2  \n",
       "3                                              Super      3  \n",
       "4         Easy to keep track on specific Local areas      4  \n",
       "5                                          Great App      5  \n",
       "6                          Full of good information!      6  \n",
       "7                    Great app for filtering the air      7  \n",
       "8  Tells you everything you need to know about th...      8  \n",
       "9                                    I look everyday      9  "
      ]
     },
     "execution_count": 52,
     "metadata": {},
     "output_type": "execute_result"
    }
   ],
   "source": [
    "df_out.head(10)"
   ]
  },
  {
   "cell_type": "markdown",
   "metadata": {},
   "source": [
    "## Export file"
   ]
  },
  {
   "cell_type": "code",
   "execution_count": 53,
   "metadata": {},
   "outputs": [
    {
     "data": {
      "text/plain": [
       "'app_reviews_airvisual-air-quality-forecast_1048912974_by_lang_us_ou_v2.csv'"
      ]
     },
     "execution_count": 53,
     "metadata": {},
     "output_type": "execute_result"
    }
   ],
   "source": [
    "export_filename = filename[:-4]+'_ou_v2.csv'\n",
    "export_filename"
   ]
  },
  {
   "cell_type": "code",
   "execution_count": 54,
   "metadata": {},
   "outputs": [
    {
     "data": {
      "text/plain": [
       "'/../data/2_opinion_units/'"
      ]
     },
     "execution_count": 54,
     "metadata": {},
     "output_type": "execute_result"
    }
   ],
   "source": [
    "export_subfolder = '/../data/2_opinion_units/'\n",
    "export_subfolder"
   ]
  },
  {
   "cell_type": "code",
   "execution_count": 55,
   "metadata": {},
   "outputs": [],
   "source": [
    "df_out.to_csv(path+export_subfolder+export_filename)"
   ]
  },
  {
   "cell_type": "code",
   "execution_count": null,
   "metadata": {},
   "outputs": [],
   "source": []
  }
 ],
 "metadata": {
  "kernelspec": {
   "display_name": "Python 3",
   "language": "python",
   "name": "python3"
  },
  "language_info": {
   "codemirror_mode": {
    "name": "ipython",
    "version": 3
   },
   "file_extension": ".py",
   "mimetype": "text/x-python",
   "name": "python",
   "nbconvert_exporter": "python",
   "pygments_lexer": "ipython3",
   "version": "3.6.10"
  },
  "toc": {
   "base_numbering": 1,
   "nav_menu": {},
   "number_sections": true,
   "sideBar": true,
   "skip_h1_title": false,
   "title_cell": "Table of Contents",
   "title_sidebar": "Contents",
   "toc_cell": true,
   "toc_position": {},
   "toc_section_display": true,
   "toc_window_display": false
  }
 },
 "nbformat": 4,
 "nbformat_minor": 4
}

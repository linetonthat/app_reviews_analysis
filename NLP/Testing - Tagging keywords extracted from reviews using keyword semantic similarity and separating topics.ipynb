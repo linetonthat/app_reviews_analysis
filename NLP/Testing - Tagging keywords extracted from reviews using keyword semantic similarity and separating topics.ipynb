{
 "cells": [
  {
   "cell_type": "markdown",
   "metadata": {
    "toc": true
   },
   "source": [
    "<h1>Table of Contents<span class=\"tocSkip\"></span></h1>\n",
    "<div class=\"toc\"><ul class=\"toc-item\"><li><span><a href=\"#[Testing]-Tagging-keywords-extracted-from-reviews-using-keyword-semantic-similarity-and-separating-topics\" data-toc-modified-id=\"[Testing]-Tagging-keywords-extracted-from-reviews-using-keyword-semantic-similarity-and-separating-topics-1\"><span class=\"toc-item-num\">1&nbsp;&nbsp;</span>[Testing] Tagging keywords extracted from reviews using keyword semantic similarity and separating topics</a></span><ul class=\"toc-item\"><li><span><a href=\"#Purpose\" data-toc-modified-id=\"Purpose-1.1\"><span class=\"toc-item-num\">1.1&nbsp;&nbsp;</span>Purpose</a></span></li><li><span><a href=\"#Approach\" data-toc-modified-id=\"Approach-1.2\"><span class=\"toc-item-num\">1.2&nbsp;&nbsp;</span>Approach</a></span></li><li><span><a href=\"#Import-libraries\" data-toc-modified-id=\"Import-libraries-1.3\"><span class=\"toc-item-num\">1.3&nbsp;&nbsp;</span>Import libraries</a></span></li><li><span><a href=\"#Define-topics-and-keywords\" data-toc-modified-id=\"Define-topics-and-keywords-1.4\"><span class=\"toc-item-num\">1.4&nbsp;&nbsp;</span>Define topics and keywords</a></span><ul class=\"toc-item\"><li><span><a href=\"#Usage-subtopics\" data-toc-modified-id=\"Usage-subtopics-1.4.1\"><span class=\"toc-item-num\">1.4.1&nbsp;&nbsp;</span>Usage subtopics</a></span></li><li><span><a href=\"#Feedback-subtopics\" data-toc-modified-id=\"Feedback-subtopics-1.4.2\"><span class=\"toc-item-num\">1.4.2&nbsp;&nbsp;</span>Feedback subtopics</a></span></li></ul></li><li><span><a href=\"#Identify-keywords-from-opinion-units\" data-toc-modified-id=\"Identify-keywords-from-opinion-units-1.5\"><span class=\"toc-item-num\">1.5&nbsp;&nbsp;</span>Identify keywords from opinion units</a></span></li><li><span><a href=\"#Select-labelled-data\" data-toc-modified-id=\"Select-labelled-data-1.6\"><span class=\"toc-item-num\">1.6&nbsp;&nbsp;</span>Select labelled data</a></span></li><li><span><a href=\"#Identify-the-closest-subtopics-for-usage-and-product-feedback\" data-toc-modified-id=\"Identify-the-closest-subtopics-for-usage-and-product-feedback-1.7\"><span class=\"toc-item-num\">1.7&nbsp;&nbsp;</span>Identify the closest subtopics for usage and product feedback</a></span><ul class=\"toc-item\"><li><span><a href=\"#Usage\" data-toc-modified-id=\"Usage-1.7.1\"><span class=\"toc-item-num\">1.7.1&nbsp;&nbsp;</span>Usage</a></span><ul class=\"toc-item\"><li><span><a href=\"#Assess-results\" data-toc-modified-id=\"Assess-results-1.7.1.1\"><span class=\"toc-item-num\">1.7.1.1&nbsp;&nbsp;</span>Assess results</a></span></li><li><span><a href=\"#Assess-max_usage\" data-toc-modified-id=\"Assess-max_usage-1.7.1.2\"><span class=\"toc-item-num\">1.7.1.2&nbsp;&nbsp;</span>Assess max_usage</a></span></li></ul></li><li><span><a href=\"#Product-feedback-[to-be-put-as-part-of-the-dataframe]\" data-toc-modified-id=\"Product-feedback-[to-be-put-as-part-of-the-dataframe]-1.7.2\"><span class=\"toc-item-num\">1.7.2&nbsp;&nbsp;</span>Product feedback [to be put as part of the dataframe]</a></span></li><li><span><a href=\"#Assess-results\" data-toc-modified-id=\"Assess-results-1.7.3\"><span class=\"toc-item-num\">1.7.3&nbsp;&nbsp;</span>Assess results</a></span><ul class=\"toc-item\"><li><span><a href=\"#Assess-max_feedback\" data-toc-modified-id=\"Assess-max_feedback-1.7.3.1\"><span class=\"toc-item-num\">1.7.3.1&nbsp;&nbsp;</span>Assess max_feedback</a></span></li></ul></li></ul></li><li><span><a href=\"#Conclusion\" data-toc-modified-id=\"Conclusion-1.8\"><span class=\"toc-item-num\">1.8&nbsp;&nbsp;</span>Conclusion</a></span></li></ul></li></ul></div>"
   ]
  },
  {
   "cell_type": "markdown",
   "metadata": {},
   "source": [
    "# [Testing] Tagging keywords extracted from reviews using keyword semantic similarity and separating topics"
   ]
  },
  {
   "cell_type": "markdown",
   "metadata": {},
   "source": [
    "## Purpose\n",
    "In order to auto-tag user reviews, we choose to identify topics and sub topics that we would like to then automatically assign to the reviews. This post, \n",
    "[Best Practice for Tagging Customer Feedback](https://monkeylearn.com/blog/auto-tagging-customer-feedback-with-machine-learning/#Why-Great-Categorization-is-Important), provides us with recommendations on how to identify tags, how many we should use, and how to define them.\n",
    "\n",
    "## Approach\n",
    "What approach use when it comes to matching our opinion units with topics? This post,\n",
    "[Approach to tag reviews](https://engineering.reviewtrackers.com/using-word2vec-to-classify-review-keywords-a5fa50ce05dc), recommends to first to extract keywords from reviews, and then use keyword semantic similarity. \n",
    "Two other options are introduced, but not recommended due to their limitations:\n",
    "* keyword string similarity, as it's limited to character similarity, and does not take into account semantics\n",
    "* topic modelling, as in particular they tend to produce rather abstract topics, and users cannot easily (re)define their topics.\n",
    "\n",
    "Let's test tagging topics using similarity on keywords with a list of topics to check if we could use this method to identify topics automatically. "
   ]
  },
  {
   "cell_type": "markdown",
   "metadata": {},
   "source": [
    "## Import libraries"
   ]
  },
  {
   "cell_type": "code",
   "execution_count": 1,
   "metadata": {},
   "outputs": [],
   "source": [
    "import os\n",
    "import pandas as pd"
   ]
  },
  {
   "cell_type": "code",
   "execution_count": 2,
   "metadata": {},
   "outputs": [],
   "source": [
    "import spacy\n",
    "nlp = spacy.load('en_core_web_md')"
   ]
  },
  {
   "cell_type": "code",
   "execution_count": 3,
   "metadata": {},
   "outputs": [],
   "source": [
    "from rake_nltk import Rake"
   ]
  },
  {
   "cell_type": "code",
   "execution_count": 4,
   "metadata": {},
   "outputs": [],
   "source": [
    "import itertools\n",
    "import numpy as np"
   ]
  },
  {
   "cell_type": "code",
   "execution_count": 5,
   "metadata": {},
   "outputs": [],
   "source": [
    "from sklearn.metrics.pairwise import cosine_similarity"
   ]
  },
  {
   "cell_type": "markdown",
   "metadata": {},
   "source": [
    "## Define topics and keywords"
   ]
  },
  {
   "cell_type": "markdown",
   "metadata": {},
   "source": [
    "In order to identify main topics from the app reviews, the best approach is to read part of them in order to grasp main topics. The definition of the topics is also based on the objectives for analysing app reviews.\n",
    "\n",
    "The main topics identified are:\n",
    "* Usage\n",
    "    - Conditions\n",
    "    - Family\n",
    "    - Activities\n",
    "    - Actions taken\n",
    "    - Sources of pollution\n",
    "* Product Feedback\n",
    "    - Performance\n",
    "    - Usability (Content, Navigation, Complexity)\n",
    "    - Feature request\n",
    "* Pricing"
   ]
  },
  {
   "cell_type": "markdown",
   "metadata": {},
   "source": [
    "### Usage subtopics"
   ]
  },
  {
   "cell_type": "code",
   "execution_count": 6,
   "metadata": {},
   "outputs": [
    {
     "data": {
      "text/plain": [
       "5"
      ]
     },
     "execution_count": 6,
     "metadata": {},
     "output_type": "execute_result"
    }
   ],
   "source": [
    "usage_topic_labels = [\n",
    "    'Conditions',\n",
    "    'Family',\n",
    "    'Activities',\n",
    "    'Actions taken',\n",
    "    'Sources of pollution'\n",
    "]\n",
    "len(usage_topic_labels)"
   ]
  },
  {
   "cell_type": "code",
   "execution_count": 7,
   "metadata": {},
   "outputs": [
    {
     "data": {
      "text/plain": [
       "5"
      ]
     },
     "execution_count": 7,
     "metadata": {},
     "output_type": "execute_result"
    }
   ],
   "source": [
    "usage_topic_keywords = [\n",
    "    'sickness health COPD lung lungs disease condition chronic pneumonia asthma asthmatic breathing sensitive allergy sufferers allergies',\n",
    "    'children baby infant pregnant',\n",
    "    'outside outdoor sports dog leisure travel',\n",
    "    'mask purifier window',\n",
    "    'fire industry traffic burning'\n",
    "]\n",
    "len(usage_topic_keywords)"
   ]
  },
  {
   "cell_type": "code",
   "execution_count": 8,
   "metadata": {},
   "outputs": [
    {
     "name": "stdout",
     "output_type": "stream",
     "text": [
      "True\n"
     ]
    }
   ],
   "source": [
    "# Test if 'Covid' is part of the vocabulary \n",
    "doc = nlp(u'Covid')\n",
    "print(doc[0].is_oov)"
   ]
  },
  {
   "cell_type": "markdown",
   "metadata": {},
   "source": [
    "Covid is considered by some users as a kind of pollution. This word is not part of spacy medium vocabulary. Then, we don't include it in the keywords."
   ]
  },
  {
   "cell_type": "code",
   "execution_count": 9,
   "metadata": {},
   "outputs": [],
   "source": [
    "usage_topic_docs = list(nlp.pipe(usage_topic_keywords))"
   ]
  },
  {
   "cell_type": "code",
   "execution_count": 10,
   "metadata": {},
   "outputs": [],
   "source": [
    "usage_topic_vectors = np.array([doc.vector\n",
    "                         if doc.has_vector else spacy.vocab[0].vector \n",
    "                         for doc in usage_topic_docs])"
   ]
  },
  {
   "cell_type": "code",
   "execution_count": 11,
   "metadata": {},
   "outputs": [
    {
     "data": {
      "text/plain": [
       "array([[0.99999976, 0.5412001 , 0.33091956, 0.32165882, 0.37364414],\n",
       "       [0.5412001 , 1.        , 0.4376459 , 0.28052086, 0.30287555],\n",
       "       [0.33091956, 0.4376459 , 1.        , 0.37760836, 0.5360609 ],\n",
       "       [0.32165882, 0.28052086, 0.37760836, 1.        , 0.40927914],\n",
       "       [0.37364414, 0.30287555, 0.5360609 , 0.40927914, 1.0000001 ]],\n",
       "      dtype=float32)"
      ]
     },
     "execution_count": 11,
     "metadata": {},
     "output_type": "execute_result"
    }
   ],
   "source": [
    "cosine_similarity(usage_topic_vectors,usage_topic_vectors)"
   ]
  },
  {
   "cell_type": "markdown",
   "metadata": {},
   "source": [
    "Similarities are higher between 'Conditions' and 'Family', as well as between 'Activities' and 'Sources of pollution'. We'll check if this causes issues in assigning subtopics. "
   ]
  },
  {
   "cell_type": "markdown",
   "metadata": {},
   "source": [
    "### Feedback subtopics"
   ]
  },
  {
   "cell_type": "code",
   "execution_count": 12,
   "metadata": {},
   "outputs": [
    {
     "data": {
      "text/plain": [
       "4"
      ]
     },
     "execution_count": 12,
     "metadata": {},
     "output_type": "execute_result"
    }
   ],
   "source": [
    "feedback_topic_labels = [\n",
    "    'Performance',\n",
    "    'Usability - Content',\n",
    "    'Usability - Navigation',\n",
    "    'Usability - Complexity'\n",
    "]\n",
    "len(feedback_topic_labels)"
   ]
  },
  {
   "cell_type": "code",
   "execution_count": 13,
   "metadata": {},
   "outputs": [],
   "source": [
    "feedback_topic_keywords = [\n",
    "    'bug issues fix reliable accuracy performance',\n",
    "    'content areas information location',\n",
    "    'navigation design clear widget notification update refresh elegant arrow interface color UI interface',\n",
    "    'easy complexity hard difficult'\n",
    "]"
   ]
  },
  {
   "cell_type": "code",
   "execution_count": 14,
   "metadata": {},
   "outputs": [],
   "source": [
    "feedback_topic_docs = list(nlp.pipe(feedback_topic_keywords))"
   ]
  },
  {
   "cell_type": "code",
   "execution_count": 15,
   "metadata": {},
   "outputs": [],
   "source": [
    "feedback_topic_vectors = np.array([doc.vector\n",
    "                         if doc.has_vector else spacy.vocab[0].vector \n",
    "                         for doc in feedback_topic_docs])"
   ]
  },
  {
   "cell_type": "code",
   "execution_count": 16,
   "metadata": {},
   "outputs": [
    {
     "data": {
      "text/plain": [
       "array([[1.        , 0.5567984 , 0.5899744 , 0.6605333 ],\n",
       "       [0.5567984 , 0.9999996 , 0.5600141 , 0.54211575],\n",
       "       [0.5899744 , 0.5600141 , 0.9999998 , 0.50631595],\n",
       "       [0.6605333 , 0.54211575, 0.50631595, 1.        ]], dtype=float32)"
      ]
     },
     "execution_count": 16,
     "metadata": {},
     "output_type": "execute_result"
    }
   ],
   "source": [
    "cosine_similarity(feedback_topic_vectors,feedback_topic_vectors)"
   ]
  },
  {
   "cell_type": "markdown",
   "metadata": {},
   "source": [
    "Similarities between subtopics are higher for 'Product feedback' than for 'Usage', especially between 'Performance' and 'Usability - Complexity'. We'll check if this causes issues in assigning subtopics. "
   ]
  },
  {
   "cell_type": "markdown",
   "metadata": {},
   "source": [
    "## Identify keywords from opinion units"
   ]
  },
  {
   "cell_type": "code",
   "execution_count": 17,
   "metadata": {},
   "outputs": [],
   "source": [
    "# load dataset\n",
    "path = os.getcwd()\n",
    "\n",
    "subfolder = \"/../data/3_tags_and_labels/\"\n",
    "\n",
    "filename = \"opi_units_airvisual-air-quality-forecast_1048912974_with_tags3.csv\""
   ]
  },
  {
   "cell_type": "code",
   "execution_count": 18,
   "metadata": {},
   "outputs": [],
   "source": [
    "df = pd.read_csv(path+subfolder+filename, sep = \";\")"
   ]
  },
  {
   "cell_type": "code",
   "execution_count": 19,
   "metadata": {},
   "outputs": [
    {
     "data": {
      "text/html": [
       "<div>\n",
       "<style scoped>\n",
       "    .dataframe tbody tr th:only-of-type {\n",
       "        vertical-align: middle;\n",
       "    }\n",
       "\n",
       "    .dataframe tbody tr th {\n",
       "        vertical-align: top;\n",
       "    }\n",
       "\n",
       "    .dataframe thead th {\n",
       "        text-align: right;\n",
       "    }\n",
       "</style>\n",
       "<table border=\"1\" class=\"dataframe\">\n",
       "  <thead>\n",
       "    <tr style=\"text-align: right;\">\n",
       "      <th></th>\n",
       "      <th>Unnamed: 0</th>\n",
       "      <th>opi_id</th>\n",
       "      <th>tag</th>\n",
       "      <th>subtag</th>\n",
       "      <th>opinion_unit</th>\n",
       "      <th>review_id</th>\n",
       "      <th>rating</th>\n",
       "    </tr>\n",
       "  </thead>\n",
       "  <tbody>\n",
       "    <tr>\n",
       "      <th>0</th>\n",
       "      <td>0</td>\n",
       "      <td>0</td>\n",
       "      <td>Product feedback</td>\n",
       "      <td>Usability - Content</td>\n",
       "      <td>Happy to finally see when and why I ca n’t bre...</td>\n",
       "      <td>6121840341</td>\n",
       "      <td>5</td>\n",
       "    </tr>\n",
       "    <tr>\n",
       "      <th>1</th>\n",
       "      <td>1</td>\n",
       "      <td>1</td>\n",
       "      <td>Usage</td>\n",
       "      <td>Conditions</td>\n",
       "      <td>Having allergies is annoying</td>\n",
       "      <td>6121840341</td>\n",
       "      <td>5</td>\n",
       "    </tr>\n",
       "    <tr>\n",
       "      <th>2</th>\n",
       "      <td>2</td>\n",
       "      <td>2</td>\n",
       "      <td>Product feedback</td>\n",
       "      <td>Usability - Content</td>\n",
       "      <td>but I ’m glad to see this and know when to tak...</td>\n",
       "      <td>6121840341</td>\n",
       "      <td>5</td>\n",
       "    </tr>\n",
       "    <tr>\n",
       "      <th>3</th>\n",
       "      <td>3</td>\n",
       "      <td>3</td>\n",
       "      <td>NaN</td>\n",
       "      <td>NaN</td>\n",
       "      <td>Super</td>\n",
       "      <td>6114444527</td>\n",
       "      <td>5</td>\n",
       "    </tr>\n",
       "    <tr>\n",
       "      <th>4</th>\n",
       "      <td>4</td>\n",
       "      <td>4</td>\n",
       "      <td>Product feedback</td>\n",
       "      <td>Usability - Content</td>\n",
       "      <td>Easy to keep track on specific Local areas</td>\n",
       "      <td>6114444527</td>\n",
       "      <td>5</td>\n",
       "    </tr>\n",
       "  </tbody>\n",
       "</table>\n",
       "</div>"
      ],
      "text/plain": [
       "   Unnamed: 0  opi_id               tag               subtag  \\\n",
       "0           0       0  Product feedback  Usability - Content   \n",
       "1           1       1             Usage           Conditions   \n",
       "2           2       2  Product feedback  Usability - Content   \n",
       "3           3       3               NaN                  NaN   \n",
       "4           4       4  Product feedback  Usability - Content   \n",
       "\n",
       "                                        opinion_unit   review_id  rating  \n",
       "0  Happy to finally see when and why I ca n’t bre...  6121840341       5  \n",
       "1                       Having allergies is annoying  6121840341       5  \n",
       "2  but I ’m glad to see this and know when to tak...  6121840341       5  \n",
       "3                                              Super  6114444527       5  \n",
       "4         Easy to keep track on specific Local areas  6114444527       5  "
      ]
     },
     "execution_count": 19,
     "metadata": {},
     "output_type": "execute_result"
    }
   ],
   "source": [
    "df.head()"
   ]
  },
  {
   "cell_type": "code",
   "execution_count": 20,
   "metadata": {},
   "outputs": [],
   "source": [
    "del df['Unnamed: 0']"
   ]
  },
  {
   "cell_type": "code",
   "execution_count": 21,
   "metadata": {},
   "outputs": [],
   "source": [
    "def get_string_of_keywords(s):\n",
    "    r = Rake()\n",
    "    r.extract_keywords_from_text(s)\n",
    "    r.get_ranked_phrases()\n",
    "    k = ' '.join(i for i in r.get_ranked_phrases())\n",
    "    return k"
   ]
  },
  {
   "cell_type": "code",
   "execution_count": 22,
   "metadata": {},
   "outputs": [],
   "source": [
    "df['keywords'] = df['opinion_unit'].apply(get_string_of_keywords)"
   ]
  },
  {
   "cell_type": "code",
   "execution_count": 23,
   "metadata": {},
   "outputs": [
    {
     "data": {
      "text/html": [
       "<div>\n",
       "<style scoped>\n",
       "    .dataframe tbody tr th:only-of-type {\n",
       "        vertical-align: middle;\n",
       "    }\n",
       "\n",
       "    .dataframe tbody tr th {\n",
       "        vertical-align: top;\n",
       "    }\n",
       "\n",
       "    .dataframe thead th {\n",
       "        text-align: right;\n",
       "    }\n",
       "</style>\n",
       "<table border=\"1\" class=\"dataframe\">\n",
       "  <thead>\n",
       "    <tr style=\"text-align: right;\">\n",
       "      <th></th>\n",
       "      <th>opi_id</th>\n",
       "      <th>tag</th>\n",
       "      <th>subtag</th>\n",
       "      <th>opinion_unit</th>\n",
       "      <th>review_id</th>\n",
       "      <th>rating</th>\n",
       "      <th>keywords</th>\n",
       "    </tr>\n",
       "  </thead>\n",
       "  <tbody>\n",
       "    <tr>\n",
       "      <th>0</th>\n",
       "      <td>0</td>\n",
       "      <td>Product feedback</td>\n",
       "      <td>Usability - Content</td>\n",
       "      <td>Happy to finally see when and why I ca n’t bre...</td>\n",
       "      <td>6121840341</td>\n",
       "      <td>5</td>\n",
       "      <td>ca n ’ finally see happy breathe</td>\n",
       "    </tr>\n",
       "    <tr>\n",
       "      <th>1</th>\n",
       "      <td>1</td>\n",
       "      <td>Usage</td>\n",
       "      <td>Conditions</td>\n",
       "      <td>Having allergies is annoying</td>\n",
       "      <td>6121840341</td>\n",
       "      <td>5</td>\n",
       "      <td>annoying allergies</td>\n",
       "    </tr>\n",
       "    <tr>\n",
       "      <th>2</th>\n",
       "      <td>2</td>\n",
       "      <td>Product feedback</td>\n",
       "      <td>Usability - Content</td>\n",
       "      <td>but I ’m glad to see this and know when to tak...</td>\n",
       "      <td>6121840341</td>\n",
       "      <td>5</td>\n",
       "      <td>take extra precautions ’ see know glad</td>\n",
       "    </tr>\n",
       "    <tr>\n",
       "      <th>3</th>\n",
       "      <td>3</td>\n",
       "      <td>NaN</td>\n",
       "      <td>NaN</td>\n",
       "      <td>Super</td>\n",
       "      <td>6114444527</td>\n",
       "      <td>5</td>\n",
       "      <td>super</td>\n",
       "    </tr>\n",
       "    <tr>\n",
       "      <th>4</th>\n",
       "      <td>4</td>\n",
       "      <td>Product feedback</td>\n",
       "      <td>Usability - Content</td>\n",
       "      <td>Easy to keep track on specific Local areas</td>\n",
       "      <td>6114444527</td>\n",
       "      <td>5</td>\n",
       "      <td>specific local areas keep track easy</td>\n",
       "    </tr>\n",
       "  </tbody>\n",
       "</table>\n",
       "</div>"
      ],
      "text/plain": [
       "   opi_id               tag               subtag  \\\n",
       "0       0  Product feedback  Usability - Content   \n",
       "1       1             Usage           Conditions   \n",
       "2       2  Product feedback  Usability - Content   \n",
       "3       3               NaN                  NaN   \n",
       "4       4  Product feedback  Usability - Content   \n",
       "\n",
       "                                        opinion_unit   review_id  rating  \\\n",
       "0  Happy to finally see when and why I ca n’t bre...  6121840341       5   \n",
       "1                       Having allergies is annoying  6121840341       5   \n",
       "2  but I ’m glad to see this and know when to tak...  6121840341       5   \n",
       "3                                              Super  6114444527       5   \n",
       "4         Easy to keep track on specific Local areas  6114444527       5   \n",
       "\n",
       "                                 keywords  \n",
       "0        ca n ’ finally see happy breathe  \n",
       "1                      annoying allergies  \n",
       "2  take extra precautions ’ see know glad  \n",
       "3                                   super  \n",
       "4    specific local areas keep track easy  "
      ]
     },
     "execution_count": 23,
     "metadata": {},
     "output_type": "execute_result"
    }
   ],
   "source": [
    "df.head()"
   ]
  },
  {
   "cell_type": "markdown",
   "metadata": {},
   "source": [
    "## Select labelled data "
   ]
  },
  {
   "cell_type": "markdown",
   "metadata": {},
   "source": [
    "100 opinion units of the dataset have been manually labelled. Corresponding columns are 'tag' and 'subtag'. The closest tag has been selected."
   ]
  },
  {
   "cell_type": "code",
   "execution_count": 24,
   "metadata": {},
   "outputs": [],
   "source": [
    "df_labelled = df.loc[df['tag'].notnull()].copy()"
   ]
  },
  {
   "cell_type": "code",
   "execution_count": 25,
   "metadata": {},
   "outputs": [
    {
     "data": {
      "text/plain": [
       "100"
      ]
     },
     "execution_count": 25,
     "metadata": {},
     "output_type": "execute_result"
    }
   ],
   "source": [
    "len(df_labelled)"
   ]
  },
  {
   "cell_type": "code",
   "execution_count": 26,
   "metadata": {},
   "outputs": [],
   "source": [
    "get_keyword_doc = lambda s: nlp(s)\n",
    "\n",
    "df_labelled['keyword_docs'] = df_labelled['keywords'].apply(get_keyword_doc)"
   ]
  },
  {
   "cell_type": "code",
   "execution_count": 27,
   "metadata": {},
   "outputs": [],
   "source": [
    "def get_keywords_vectors(doc):\n",
    "    return np.array(doc.vector\n",
    "                            if doc.has_vector else spacy.vocab[0].vector)"
   ]
  },
  {
   "cell_type": "code",
   "execution_count": 28,
   "metadata": {},
   "outputs": [],
   "source": [
    "df_labelled['keywords_vectors'] = df_labelled['keyword_docs'].apply(get_keywords_vectors)"
   ]
  },
  {
   "cell_type": "code",
   "execution_count": 29,
   "metadata": {},
   "outputs": [
    {
     "data": {
      "text/html": [
       "<div>\n",
       "<style scoped>\n",
       "    .dataframe tbody tr th:only-of-type {\n",
       "        vertical-align: middle;\n",
       "    }\n",
       "\n",
       "    .dataframe tbody tr th {\n",
       "        vertical-align: top;\n",
       "    }\n",
       "\n",
       "    .dataframe thead th {\n",
       "        text-align: right;\n",
       "    }\n",
       "</style>\n",
       "<table border=\"1\" class=\"dataframe\">\n",
       "  <thead>\n",
       "    <tr style=\"text-align: right;\">\n",
       "      <th></th>\n",
       "      <th>opi_id</th>\n",
       "      <th>tag</th>\n",
       "      <th>subtag</th>\n",
       "      <th>opinion_unit</th>\n",
       "      <th>review_id</th>\n",
       "      <th>rating</th>\n",
       "      <th>keywords</th>\n",
       "      <th>keyword_docs</th>\n",
       "      <th>keywords_vectors</th>\n",
       "    </tr>\n",
       "  </thead>\n",
       "  <tbody>\n",
       "    <tr>\n",
       "      <th>0</th>\n",
       "      <td>0</td>\n",
       "      <td>Product feedback</td>\n",
       "      <td>Usability - Content</td>\n",
       "      <td>Happy to finally see when and why I ca n’t bre...</td>\n",
       "      <td>6121840341</td>\n",
       "      <td>5</td>\n",
       "      <td>ca n ’ finally see happy breathe</td>\n",
       "      <td>(ca, n, ’, finally, see, happy, breathe)</td>\n",
       "      <td>[0.08391357, 0.20251371, -0.2862253, -0.043673...</td>\n",
       "    </tr>\n",
       "    <tr>\n",
       "      <th>1</th>\n",
       "      <td>1</td>\n",
       "      <td>Usage</td>\n",
       "      <td>Conditions</td>\n",
       "      <td>Having allergies is annoying</td>\n",
       "      <td>6121840341</td>\n",
       "      <td>5</td>\n",
       "      <td>annoying allergies</td>\n",
       "      <td>(annoying, allergies)</td>\n",
       "      <td>[-0.61873996, 0.32149598, -0.712195, -0.058893...</td>\n",
       "    </tr>\n",
       "    <tr>\n",
       "      <th>2</th>\n",
       "      <td>2</td>\n",
       "      <td>Product feedback</td>\n",
       "      <td>Usability - Content</td>\n",
       "      <td>but I ’m glad to see this and know when to tak...</td>\n",
       "      <td>6121840341</td>\n",
       "      <td>5</td>\n",
       "      <td>take extra precautions ’ see know glad</td>\n",
       "      <td>(take, extra, precautions, ’, see, know, glad)</td>\n",
       "      <td>[0.023471432, 0.11869114, -0.25290745, 0.04725...</td>\n",
       "    </tr>\n",
       "    <tr>\n",
       "      <th>4</th>\n",
       "      <td>4</td>\n",
       "      <td>Product feedback</td>\n",
       "      <td>Usability - Content</td>\n",
       "      <td>Easy to keep track on specific Local areas</td>\n",
       "      <td>6114444527</td>\n",
       "      <td>5</td>\n",
       "      <td>specific local areas keep track easy</td>\n",
       "      <td>(specific, local, areas, keep, track, easy)</td>\n",
       "      <td>[0.17512538, 0.115311004, -0.327728, -0.007014...</td>\n",
       "    </tr>\n",
       "    <tr>\n",
       "      <th>6</th>\n",
       "      <td>6</td>\n",
       "      <td>Product feedback</td>\n",
       "      <td>Usability - Content</td>\n",
       "      <td>Full of good information !</td>\n",
       "      <td>6114325210</td>\n",
       "      <td>5</td>\n",
       "      <td>good information full</td>\n",
       "      <td>(good, information, full)</td>\n",
       "      <td>[-0.1368, 0.11253667, -0.275318, 0.13569666, -...</td>\n",
       "    </tr>\n",
       "  </tbody>\n",
       "</table>\n",
       "</div>"
      ],
      "text/plain": [
       "   opi_id               tag               subtag  \\\n",
       "0       0  Product feedback  Usability - Content   \n",
       "1       1             Usage           Conditions   \n",
       "2       2  Product feedback  Usability - Content   \n",
       "4       4  Product feedback  Usability - Content   \n",
       "6       6  Product feedback  Usability - Content   \n",
       "\n",
       "                                        opinion_unit   review_id  rating  \\\n",
       "0  Happy to finally see when and why I ca n’t bre...  6121840341       5   \n",
       "1                       Having allergies is annoying  6121840341       5   \n",
       "2  but I ’m glad to see this and know when to tak...  6121840341       5   \n",
       "4         Easy to keep track on specific Local areas  6114444527       5   \n",
       "6                         Full of good information !  6114325210       5   \n",
       "\n",
       "                                 keywords  \\\n",
       "0        ca n ’ finally see happy breathe   \n",
       "1                      annoying allergies   \n",
       "2  take extra precautions ’ see know glad   \n",
       "4    specific local areas keep track easy   \n",
       "6                   good information full   \n",
       "\n",
       "                                     keyword_docs  \\\n",
       "0        (ca, n, ’, finally, see, happy, breathe)   \n",
       "1                           (annoying, allergies)   \n",
       "2  (take, extra, precautions, ’, see, know, glad)   \n",
       "4     (specific, local, areas, keep, track, easy)   \n",
       "6                       (good, information, full)   \n",
       "\n",
       "                                    keywords_vectors  \n",
       "0  [0.08391357, 0.20251371, -0.2862253, -0.043673...  \n",
       "1  [-0.61873996, 0.32149598, -0.712195, -0.058893...  \n",
       "2  [0.023471432, 0.11869114, -0.25290745, 0.04725...  \n",
       "4  [0.17512538, 0.115311004, -0.327728, -0.007014...  \n",
       "6  [-0.1368, 0.11253667, -0.275318, 0.13569666, -...  "
      ]
     },
     "execution_count": 29,
     "metadata": {},
     "output_type": "execute_result"
    }
   ],
   "source": [
    "df_labelled.head()"
   ]
  },
  {
   "cell_type": "markdown",
   "metadata": {},
   "source": [
    "## Identify the closest subtopics for usage and product feedback"
   ]
  },
  {
   "cell_type": "markdown",
   "metadata": {},
   "source": [
    "Now that we have assessed our keyword vectors and our topic vectors, let's compute cosine similarity between them.\n",
    "* We use the topic with the highest cosine similarity for each keyword vector to predict the topic of the corresponding opinion unit. \n",
    "* We compare the predicted topic with the subtag assigned manually."
   ]
  },
  {
   "cell_type": "markdown",
   "metadata": {},
   "source": [
    "### Usage"
   ]
  },
  {
   "cell_type": "code",
   "execution_count": 30,
   "metadata": {},
   "outputs": [],
   "source": [
    "get_simple_sim_usage = lambda keywords_vectors: cosine_similarity(keywords_vectors.reshape(1, -1), usage_topic_vectors)[0]\n",
    "\n",
    "df_labelled['simple_sim_usage'] = df_labelled['keywords_vectors'].apply(get_simple_sim_usage)"
   ]
  },
  {
   "cell_type": "code",
   "execution_count": 31,
   "metadata": {},
   "outputs": [],
   "source": [
    "get_argmax = lambda arr: arr.argmax()\n",
    "\n",
    "df_labelled['usage_topic_idx'] = df_labelled['simple_sim_usage'].apply(get_argmax)"
   ]
  },
  {
   "cell_type": "code",
   "execution_count": 32,
   "metadata": {},
   "outputs": [],
   "source": [
    "df_labelled['max_usage'] = df_labelled['simple_sim_usage'].apply(max)\n",
    "\n",
    "get_usage_topic_label = lambda i : usage_topic_labels[i]"
   ]
  },
  {
   "cell_type": "code",
   "execution_count": 33,
   "metadata": {},
   "outputs": [],
   "source": [
    "df_labelled['predicted_usage_subtag'] = df_labelled['usage_topic_idx'].apply(get_usage_topic_label)"
   ]
  },
  {
   "cell_type": "code",
   "execution_count": 34,
   "metadata": {},
   "outputs": [
    {
     "data": {
      "text/html": [
       "<div>\n",
       "<style scoped>\n",
       "    .dataframe tbody tr th:only-of-type {\n",
       "        vertical-align: middle;\n",
       "    }\n",
       "\n",
       "    .dataframe tbody tr th {\n",
       "        vertical-align: top;\n",
       "    }\n",
       "\n",
       "    .dataframe thead th {\n",
       "        text-align: right;\n",
       "    }\n",
       "</style>\n",
       "<table border=\"1\" class=\"dataframe\">\n",
       "  <thead>\n",
       "    <tr style=\"text-align: right;\">\n",
       "      <th></th>\n",
       "      <th>opi_id</th>\n",
       "      <th>tag</th>\n",
       "      <th>subtag</th>\n",
       "      <th>opinion_unit</th>\n",
       "      <th>review_id</th>\n",
       "      <th>rating</th>\n",
       "      <th>keywords</th>\n",
       "      <th>keyword_docs</th>\n",
       "      <th>keywords_vectors</th>\n",
       "      <th>simple_sim_usage</th>\n",
       "      <th>usage_topic_idx</th>\n",
       "      <th>max_usage</th>\n",
       "      <th>predicted_usage_subtag</th>\n",
       "    </tr>\n",
       "  </thead>\n",
       "  <tbody>\n",
       "    <tr>\n",
       "      <th>1</th>\n",
       "      <td>1</td>\n",
       "      <td>Usage</td>\n",
       "      <td>Conditions</td>\n",
       "      <td>Having allergies is annoying</td>\n",
       "      <td>6121840341</td>\n",
       "      <td>5</td>\n",
       "      <td>annoying allergies</td>\n",
       "      <td>(annoying, allergies)</td>\n",
       "      <td>[-0.61873996, 0.32149598, -0.712195, -0.058893...</td>\n",
       "      <td>[0.71190387, 0.42950535, 0.3107502, 0.34382185...</td>\n",
       "      <td>0</td>\n",
       "      <td>0.711904</td>\n",
       "      <td>Conditions</td>\n",
       "    </tr>\n",
       "    <tr>\n",
       "      <th>7</th>\n",
       "      <td>7</td>\n",
       "      <td>Usage</td>\n",
       "      <td>Actions taken</td>\n",
       "      <td>Great app for filtering the air</td>\n",
       "      <td>6111838742</td>\n",
       "      <td>5</td>\n",
       "      <td>great app filtering air</td>\n",
       "      <td>(great, app, filtering, air)</td>\n",
       "      <td>[0.1210635, 0.49353254, 0.15498525, -0.0280847...</td>\n",
       "      <td>[0.34869528, 0.25612086, 0.4890231, 0.57062435...</td>\n",
       "      <td>3</td>\n",
       "      <td>0.570624</td>\n",
       "      <td>Actions taken</td>\n",
       "    </tr>\n",
       "    <tr>\n",
       "      <th>13</th>\n",
       "      <td>13</td>\n",
       "      <td>Usage</td>\n",
       "      <td>Conditions</td>\n",
       "      <td>I have asthma and have been using apps for yea...</td>\n",
       "      <td>6100238408</td>\n",
       "      <td>5</td>\n",
       "      <td>using apps years help asthma</td>\n",
       "      <td>(using, apps, years, help, asthma)</td>\n",
       "      <td>[-0.034016002, 0.23273201, -0.270318, -0.03545...</td>\n",
       "      <td>[0.6481743, 0.50102544, 0.44598484, 0.41113862...</td>\n",
       "      <td>0</td>\n",
       "      <td>0.648174</td>\n",
       "      <td>Conditions</td>\n",
       "    </tr>\n",
       "    <tr>\n",
       "      <th>17</th>\n",
       "      <td>17</td>\n",
       "      <td>Usage</td>\n",
       "      <td>Activities</td>\n",
       "      <td>As a supervisor of people working outside this...</td>\n",
       "      <td>6085240577</td>\n",
       "      <td>5</td>\n",
       "      <td>people working outside app really helps superv...</td>\n",
       "      <td>(people, working, outside, app, really, helps,...</td>\n",
       "      <td>[0.013566252, 0.10456099, -0.21478963, -0.0445...</td>\n",
       "      <td>[0.39057827, 0.42350024, 0.5765904, 0.4414309,...</td>\n",
       "      <td>4</td>\n",
       "      <td>0.599981</td>\n",
       "      <td>Sources of pollution</td>\n",
       "    </tr>\n",
       "    <tr>\n",
       "      <th>21</th>\n",
       "      <td>21</td>\n",
       "      <td>Usage</td>\n",
       "      <td>Activities</td>\n",
       "      <td>It helps me plan for outdoor activity</td>\n",
       "      <td>6075747590</td>\n",
       "      <td>5</td>\n",
       "      <td>outdoor activity plan helps</td>\n",
       "      <td>(outdoor, activity, plan, helps)</td>\n",
       "      <td>[0.09537293, 0.15534401, -0.13979, -0.15383725...</td>\n",
       "      <td>[0.43357262, 0.4180805, 0.727675, 0.41266447, ...</td>\n",
       "      <td>2</td>\n",
       "      <td>0.727675</td>\n",
       "      <td>Activities</td>\n",
       "    </tr>\n",
       "  </tbody>\n",
       "</table>\n",
       "</div>"
      ],
      "text/plain": [
       "    opi_id    tag         subtag  \\\n",
       "1        1  Usage     Conditions   \n",
       "7        7  Usage  Actions taken   \n",
       "13      13  Usage     Conditions   \n",
       "17      17  Usage     Activities   \n",
       "21      21  Usage     Activities   \n",
       "\n",
       "                                         opinion_unit   review_id  rating  \\\n",
       "1                        Having allergies is annoying  6121840341       5   \n",
       "7                     Great app for filtering the air  6111838742       5   \n",
       "13  I have asthma and have been using apps for yea...  6100238408       5   \n",
       "17  As a supervisor of people working outside this...  6085240577       5   \n",
       "21              It helps me plan for outdoor activity  6075747590       5   \n",
       "\n",
       "                                             keywords  \\\n",
       "1                                  annoying allergies   \n",
       "7                             great app filtering air   \n",
       "13                       using apps years help asthma   \n",
       "17  people working outside app really helps superv...   \n",
       "21                        outdoor activity plan helps   \n",
       "\n",
       "                                         keyword_docs  \\\n",
       "1                               (annoying, allergies)   \n",
       "7                        (great, app, filtering, air)   \n",
       "13                 (using, apps, years, help, asthma)   \n",
       "17  (people, working, outside, app, really, helps,...   \n",
       "21                   (outdoor, activity, plan, helps)   \n",
       "\n",
       "                                     keywords_vectors  \\\n",
       "1   [-0.61873996, 0.32149598, -0.712195, -0.058893...   \n",
       "7   [0.1210635, 0.49353254, 0.15498525, -0.0280847...   \n",
       "13  [-0.034016002, 0.23273201, -0.270318, -0.03545...   \n",
       "17  [0.013566252, 0.10456099, -0.21478963, -0.0445...   \n",
       "21  [0.09537293, 0.15534401, -0.13979, -0.15383725...   \n",
       "\n",
       "                                     simple_sim_usage  usage_topic_idx  \\\n",
       "1   [0.71190387, 0.42950535, 0.3107502, 0.34382185...                0   \n",
       "7   [0.34869528, 0.25612086, 0.4890231, 0.57062435...                3   \n",
       "13  [0.6481743, 0.50102544, 0.44598484, 0.41113862...                0   \n",
       "17  [0.39057827, 0.42350024, 0.5765904, 0.4414309,...                4   \n",
       "21  [0.43357262, 0.4180805, 0.727675, 0.41266447, ...                2   \n",
       "\n",
       "    max_usage predicted_usage_subtag  \n",
       "1    0.711904             Conditions  \n",
       "7    0.570624          Actions taken  \n",
       "13   0.648174             Conditions  \n",
       "17   0.599981   Sources of pollution  \n",
       "21   0.727675             Activities  "
      ]
     },
     "execution_count": 34,
     "metadata": {},
     "output_type": "execute_result"
    }
   ],
   "source": [
    "df_usage = df_labelled[df_labelled['tag']=='Usage']\n",
    "\n",
    "df_usage.head()"
   ]
  },
  {
   "cell_type": "code",
   "execution_count": 35,
   "metadata": {},
   "outputs": [
    {
     "data": {
      "text/plain": [
       "21"
      ]
     },
     "execution_count": 35,
     "metadata": {},
     "output_type": "execute_result"
    }
   ],
   "source": [
    "len(df_usage)"
   ]
  },
  {
   "cell_type": "markdown",
   "metadata": {},
   "source": [
    "#### Assess results"
   ]
  },
  {
   "cell_type": "code",
   "execution_count": 36,
   "metadata": {},
   "outputs": [],
   "source": [
    "from sklearn import metrics"
   ]
  },
  {
   "cell_type": "code",
   "execution_count": 37,
   "metadata": {},
   "outputs": [
    {
     "name": "stdout",
     "output_type": "stream",
     "text": [
      "[[9 0 0 0 0]\n",
      " [0 1 0 0 0]\n",
      " [0 0 4 0 1]\n",
      " [0 0 0 3 0]\n",
      " [0 0 1 0 2]]\n"
     ]
    }
   ],
   "source": [
    "print(metrics.confusion_matrix(df_usage['subtag'],df_usage['predicted_usage_subtag'], labels = usage_topic_labels))"
   ]
  },
  {
   "cell_type": "code",
   "execution_count": 38,
   "metadata": {},
   "outputs": [
    {
     "name": "stdout",
     "output_type": "stream",
     "text": [
      "topic no:0 - Conditions\n",
      "topic no:1 - Family\n",
      "topic no:2 - Activities\n",
      "topic no:3 - Actions taken\n",
      "topic no:4 - Sources of pollution\n"
     ]
    }
   ],
   "source": [
    "for i in range(len(usage_topic_labels)):\n",
    "    print(f'topic no:{i} - {usage_topic_labels[i]}')"
   ]
  },
  {
   "cell_type": "markdown",
   "metadata": {},
   "source": [
    "Most topics have been well identified: Only 2 were not correctly assigned."
   ]
  },
  {
   "cell_type": "markdown",
   "metadata": {},
   "source": [
    "#### Assess max_usage"
   ]
  },
  {
   "cell_type": "code",
   "execution_count": 39,
   "metadata": {},
   "outputs": [
    {
     "data": {
      "text/plain": [
       "count    21.000000\n",
       "mean      0.658167\n",
       "std       0.093880\n",
       "min       0.373710\n",
       "25%       0.613859\n",
       "50%       0.673021\n",
       "75%       0.728016\n",
       "max       0.762504\n",
       "Name: max_usage, dtype: float64"
      ]
     },
     "execution_count": 39,
     "metadata": {},
     "output_type": "execute_result"
    }
   ],
   "source": [
    "df_usage['max_usage'].describe()"
   ]
  },
  {
   "cell_type": "code",
   "execution_count": 40,
   "metadata": {},
   "outputs": [],
   "source": [
    "match = df_usage.loc[df_usage['subtag']==df_usage['predicted_usage_subtag']].copy()"
   ]
  },
  {
   "cell_type": "code",
   "execution_count": 41,
   "metadata": {},
   "outputs": [
    {
     "data": {
      "text/plain": [
       "19"
      ]
     },
     "execution_count": 41,
     "metadata": {},
     "output_type": "execute_result"
    }
   ],
   "source": [
    "len(match)"
   ]
  },
  {
   "cell_type": "code",
   "execution_count": 42,
   "metadata": {},
   "outputs": [
    {
     "data": {
      "text/plain": [
       "count    19.000000\n",
       "mean      0.676201\n",
       "std       0.069036\n",
       "min       0.531746\n",
       "25%       0.631621\n",
       "50%       0.699110\n",
       "75%       0.728599\n",
       "max       0.762504\n",
       "Name: max_usage, dtype: float64"
      ]
     },
     "execution_count": 42,
     "metadata": {},
     "output_type": "execute_result"
    }
   ],
   "source": [
    "match['max_usage'].describe()"
   ]
  },
  {
   "cell_type": "code",
   "execution_count": 43,
   "metadata": {},
   "outputs": [],
   "source": [
    "mismatch = df_usage.loc[df_usage['subtag']!=df_usage['predicted_usage_subtag']].copy()"
   ]
  },
  {
   "cell_type": "code",
   "execution_count": 44,
   "metadata": {},
   "outputs": [
    {
     "data": {
      "text/plain": [
       "2"
      ]
     },
     "execution_count": 44,
     "metadata": {},
     "output_type": "execute_result"
    }
   ],
   "source": [
    "len(mismatch)"
   ]
  },
  {
   "cell_type": "code",
   "execution_count": 45,
   "metadata": {},
   "outputs": [
    {
     "data": {
      "text/plain": [
       "17    0.599981\n",
       "24    0.373710\n",
       "Name: max_usage, dtype: float64"
      ]
     },
     "execution_count": 45,
     "metadata": {},
     "output_type": "execute_result"
    }
   ],
   "source": [
    "mismatch['max_usage']"
   ]
  },
  {
   "cell_type": "code",
   "execution_count": 46,
   "metadata": {},
   "outputs": [
    {
     "data": {
      "text/html": [
       "<div>\n",
       "<style scoped>\n",
       "    .dataframe tbody tr th:only-of-type {\n",
       "        vertical-align: middle;\n",
       "    }\n",
       "\n",
       "    .dataframe tbody tr th {\n",
       "        vertical-align: top;\n",
       "    }\n",
       "\n",
       "    .dataframe thead th {\n",
       "        text-align: right;\n",
       "    }\n",
       "</style>\n",
       "<table border=\"1\" class=\"dataframe\">\n",
       "  <thead>\n",
       "    <tr style=\"text-align: right;\">\n",
       "      <th></th>\n",
       "      <th>opi_id</th>\n",
       "      <th>tag</th>\n",
       "      <th>subtag</th>\n",
       "      <th>opinion_unit</th>\n",
       "      <th>review_id</th>\n",
       "      <th>rating</th>\n",
       "      <th>keywords</th>\n",
       "      <th>keyword_docs</th>\n",
       "      <th>keywords_vectors</th>\n",
       "      <th>simple_sim_usage</th>\n",
       "      <th>usage_topic_idx</th>\n",
       "      <th>max_usage</th>\n",
       "      <th>predicted_usage_subtag</th>\n",
       "    </tr>\n",
       "  </thead>\n",
       "  <tbody>\n",
       "    <tr>\n",
       "      <th>17</th>\n",
       "      <td>17</td>\n",
       "      <td>Usage</td>\n",
       "      <td>Activities</td>\n",
       "      <td>As a supervisor of people working outside this...</td>\n",
       "      <td>6085240577</td>\n",
       "      <td>5</td>\n",
       "      <td>people working outside app really helps superv...</td>\n",
       "      <td>(people, working, outside, app, really, helps,...</td>\n",
       "      <td>[0.013566252, 0.10456099, -0.21478963, -0.0445...</td>\n",
       "      <td>[0.39057827, 0.42350024, 0.5765904, 0.4414309,...</td>\n",
       "      <td>4</td>\n",
       "      <td>0.599981</td>\n",
       "      <td>Sources of pollution</td>\n",
       "    </tr>\n",
       "    <tr>\n",
       "      <th>24</th>\n",
       "      <td>24</td>\n",
       "      <td>Usage</td>\n",
       "      <td>Sources of pollution</td>\n",
       "      <td>I recomended for Covid 19 , it help .</td>\n",
       "      <td>6062264110</td>\n",
       "      <td>5</td>\n",
       "      <td>covid 19 recomended help</td>\n",
       "      <td>(covid, 19, recomended, help)</td>\n",
       "      <td>[-0.033435006, 0.21342751, -0.0808075, -0.1200...</td>\n",
       "      <td>[0.29643124, 0.3549699, 0.37370953, 0.26612338...</td>\n",
       "      <td>2</td>\n",
       "      <td>0.373710</td>\n",
       "      <td>Activities</td>\n",
       "    </tr>\n",
       "  </tbody>\n",
       "</table>\n",
       "</div>"
      ],
      "text/plain": [
       "    opi_id    tag                subtag  \\\n",
       "17      17  Usage            Activities   \n",
       "24      24  Usage  Sources of pollution   \n",
       "\n",
       "                                         opinion_unit   review_id  rating  \\\n",
       "17  As a supervisor of people working outside this...  6085240577       5   \n",
       "24              I recomended for Covid 19 , it help .  6062264110       5   \n",
       "\n",
       "                                             keywords  \\\n",
       "17  people working outside app really helps superv...   \n",
       "24                           covid 19 recomended help   \n",
       "\n",
       "                                         keyword_docs  \\\n",
       "17  (people, working, outside, app, really, helps,...   \n",
       "24                      (covid, 19, recomended, help)   \n",
       "\n",
       "                                     keywords_vectors  \\\n",
       "17  [0.013566252, 0.10456099, -0.21478963, -0.0445...   \n",
       "24  [-0.033435006, 0.21342751, -0.0808075, -0.1200...   \n",
       "\n",
       "                                     simple_sim_usage  usage_topic_idx  \\\n",
       "17  [0.39057827, 0.42350024, 0.5765904, 0.4414309,...                4   \n",
       "24  [0.29643124, 0.3549699, 0.37370953, 0.26612338...                2   \n",
       "\n",
       "    max_usage predicted_usage_subtag  \n",
       "17   0.599981   Sources of pollution  \n",
       "24   0.373710             Activities  "
      ]
     },
     "execution_count": 46,
     "metadata": {},
     "output_type": "execute_result"
    }
   ],
   "source": [
    "mismatch"
   ]
  },
  {
   "cell_type": "markdown",
   "metadata": {},
   "source": [
    "### Product feedback [to be put as part of the dataframe]"
   ]
  },
  {
   "cell_type": "code",
   "execution_count": 47,
   "metadata": {},
   "outputs": [],
   "source": [
    "get_simple_sim_feedback = lambda keywords_vectors: cosine_similarity(keywords_vectors.reshape(1, -1), feedback_topic_vectors)[0]\n",
    "\n",
    "df_labelled['simple_sim_feedback'] = df_labelled['keywords_vectors'].apply(get_simple_sim_feedback)"
   ]
  },
  {
   "cell_type": "code",
   "execution_count": 48,
   "metadata": {},
   "outputs": [],
   "source": [
    "df_labelled['feedback_topic_idx'] = df_labelled['simple_sim_feedback'].apply(get_argmax)"
   ]
  },
  {
   "cell_type": "code",
   "execution_count": 49,
   "metadata": {},
   "outputs": [],
   "source": [
    "df_labelled['max_feedback'] = df_labelled['simple_sim_feedback'].apply(max)"
   ]
  },
  {
   "cell_type": "code",
   "execution_count": 50,
   "metadata": {},
   "outputs": [],
   "source": [
    "get_feedback_topic_label = lambda i : feedback_topic_labels[i]\n",
    "\n",
    "df_labelled['predicted_feedback_subtag'] = df_labelled['feedback_topic_idx'].apply(get_feedback_topic_label)"
   ]
  },
  {
   "cell_type": "code",
   "execution_count": 51,
   "metadata": {},
   "outputs": [],
   "source": [
    "df_feedback = df_labelled[df_labelled['tag']=='Product feedback']"
   ]
  },
  {
   "cell_type": "code",
   "execution_count": 52,
   "metadata": {},
   "outputs": [
    {
     "data": {
      "text/html": [
       "<div>\n",
       "<style scoped>\n",
       "    .dataframe tbody tr th:only-of-type {\n",
       "        vertical-align: middle;\n",
       "    }\n",
       "\n",
       "    .dataframe tbody tr th {\n",
       "        vertical-align: top;\n",
       "    }\n",
       "\n",
       "    .dataframe thead th {\n",
       "        text-align: right;\n",
       "    }\n",
       "</style>\n",
       "<table border=\"1\" class=\"dataframe\">\n",
       "  <thead>\n",
       "    <tr style=\"text-align: right;\">\n",
       "      <th></th>\n",
       "      <th>opi_id</th>\n",
       "      <th>tag</th>\n",
       "      <th>subtag</th>\n",
       "      <th>opinion_unit</th>\n",
       "      <th>review_id</th>\n",
       "      <th>rating</th>\n",
       "      <th>keywords</th>\n",
       "      <th>keyword_docs</th>\n",
       "      <th>keywords_vectors</th>\n",
       "      <th>simple_sim_usage</th>\n",
       "      <th>usage_topic_idx</th>\n",
       "      <th>max_usage</th>\n",
       "      <th>predicted_usage_subtag</th>\n",
       "      <th>simple_sim_feedback</th>\n",
       "      <th>feedback_topic_idx</th>\n",
       "      <th>max_feedback</th>\n",
       "      <th>predicted_feedback_subtag</th>\n",
       "    </tr>\n",
       "  </thead>\n",
       "  <tbody>\n",
       "    <tr>\n",
       "      <th>0</th>\n",
       "      <td>0</td>\n",
       "      <td>Product feedback</td>\n",
       "      <td>Usability - Content</td>\n",
       "      <td>Happy to finally see when and why I ca n’t bre...</td>\n",
       "      <td>6121840341</td>\n",
       "      <td>5</td>\n",
       "      <td>ca n ’ finally see happy breathe</td>\n",
       "      <td>(ca, n, ’, finally, see, happy, breathe)</td>\n",
       "      <td>[0.08391357, 0.20251371, -0.2862253, -0.043673...</td>\n",
       "      <td>[0.40849745, 0.4876453, 0.46909958, 0.42598307...</td>\n",
       "      <td>1</td>\n",
       "      <td>0.487645</td>\n",
       "      <td>Family</td>\n",
       "      <td>[0.48058966, 0.3963916, 0.433159, 0.59682834]</td>\n",
       "      <td>3</td>\n",
       "      <td>0.596828</td>\n",
       "      <td>Usability - Complexity</td>\n",
       "    </tr>\n",
       "    <tr>\n",
       "      <th>2</th>\n",
       "      <td>2</td>\n",
       "      <td>Product feedback</td>\n",
       "      <td>Usability - Content</td>\n",
       "      <td>but I ’m glad to see this and know when to tak...</td>\n",
       "      <td>6121840341</td>\n",
       "      <td>5</td>\n",
       "      <td>take extra precautions ’ see know glad</td>\n",
       "      <td>(take, extra, precautions, ’, see, know, glad)</td>\n",
       "      <td>[0.023471432, 0.11869114, -0.25290745, 0.04725...</td>\n",
       "      <td>[0.4266458, 0.4819732, 0.5425776, 0.4053445, 0...</td>\n",
       "      <td>2</td>\n",
       "      <td>0.542578</td>\n",
       "      <td>Activities</td>\n",
       "      <td>[0.55865645, 0.5336797, 0.43659568, 0.6602878]</td>\n",
       "      <td>3</td>\n",
       "      <td>0.660288</td>\n",
       "      <td>Usability - Complexity</td>\n",
       "    </tr>\n",
       "    <tr>\n",
       "      <th>4</th>\n",
       "      <td>4</td>\n",
       "      <td>Product feedback</td>\n",
       "      <td>Usability - Content</td>\n",
       "      <td>Easy to keep track on specific Local areas</td>\n",
       "      <td>6114444527</td>\n",
       "      <td>5</td>\n",
       "      <td>specific local areas keep track easy</td>\n",
       "      <td>(specific, local, areas, keep, track, easy)</td>\n",
       "      <td>[0.17512538, 0.115311004, -0.327728, -0.007014...</td>\n",
       "      <td>[0.40528053, 0.36020732, 0.6553868, 0.43773523...</td>\n",
       "      <td>2</td>\n",
       "      <td>0.655387</td>\n",
       "      <td>Activities</td>\n",
       "      <td>[0.6692453, 0.7961095, 0.5609059, 0.7434142]</td>\n",
       "      <td>1</td>\n",
       "      <td>0.796109</td>\n",
       "      <td>Usability - Content</td>\n",
       "    </tr>\n",
       "    <tr>\n",
       "      <th>6</th>\n",
       "      <td>6</td>\n",
       "      <td>Product feedback</td>\n",
       "      <td>Usability - Content</td>\n",
       "      <td>Full of good information !</td>\n",
       "      <td>6114325210</td>\n",
       "      <td>5</td>\n",
       "      <td>good information full</td>\n",
       "      <td>(good, information, full)</td>\n",
       "      <td>[-0.1368, 0.11253667, -0.275318, 0.13569666, -...</td>\n",
       "      <td>[0.34896043, 0.3636061, 0.5529935, 0.42539868,...</td>\n",
       "      <td>2</td>\n",
       "      <td>0.552993</td>\n",
       "      <td>Activities</td>\n",
       "      <td>[0.6405602, 0.7383908, 0.5316754, 0.64695334]</td>\n",
       "      <td>1</td>\n",
       "      <td>0.738391</td>\n",
       "      <td>Usability - Content</td>\n",
       "    </tr>\n",
       "    <tr>\n",
       "      <th>8</th>\n",
       "      <td>8</td>\n",
       "      <td>Product feedback</td>\n",
       "      <td>Usability - Content</td>\n",
       "      <td>Tells you everything you need to know about th...</td>\n",
       "      <td>6111838742</td>\n",
       "      <td>5</td>\n",
       "      <td>air around tells need know everything</td>\n",
       "      <td>(air, around, tells, need, know, everything)</td>\n",
       "      <td>[0.084135, 0.31050768, -0.10508833, 0.00661181...</td>\n",
       "      <td>[0.40480316, 0.46816343, 0.58339614, 0.4942297...</td>\n",
       "      <td>4</td>\n",
       "      <td>0.626056</td>\n",
       "      <td>Sources of pollution</td>\n",
       "      <td>[0.5873987, 0.55587596, 0.4421945, 0.6801777]</td>\n",
       "      <td>3</td>\n",
       "      <td>0.680178</td>\n",
       "      <td>Usability - Complexity</td>\n",
       "    </tr>\n",
       "  </tbody>\n",
       "</table>\n",
       "</div>"
      ],
      "text/plain": [
       "   opi_id               tag               subtag  \\\n",
       "0       0  Product feedback  Usability - Content   \n",
       "2       2  Product feedback  Usability - Content   \n",
       "4       4  Product feedback  Usability - Content   \n",
       "6       6  Product feedback  Usability - Content   \n",
       "8       8  Product feedback  Usability - Content   \n",
       "\n",
       "                                        opinion_unit   review_id  rating  \\\n",
       "0  Happy to finally see when and why I ca n’t bre...  6121840341       5   \n",
       "2  but I ’m glad to see this and know when to tak...  6121840341       5   \n",
       "4         Easy to keep track on specific Local areas  6114444527       5   \n",
       "6                         Full of good information !  6114325210       5   \n",
       "8  Tells you everything you need to know about th...  6111838742       5   \n",
       "\n",
       "                                 keywords  \\\n",
       "0        ca n ’ finally see happy breathe   \n",
       "2  take extra precautions ’ see know glad   \n",
       "4    specific local areas keep track easy   \n",
       "6                   good information full   \n",
       "8   air around tells need know everything   \n",
       "\n",
       "                                     keyword_docs  \\\n",
       "0        (ca, n, ’, finally, see, happy, breathe)   \n",
       "2  (take, extra, precautions, ’, see, know, glad)   \n",
       "4     (specific, local, areas, keep, track, easy)   \n",
       "6                       (good, information, full)   \n",
       "8    (air, around, tells, need, know, everything)   \n",
       "\n",
       "                                    keywords_vectors  \\\n",
       "0  [0.08391357, 0.20251371, -0.2862253, -0.043673...   \n",
       "2  [0.023471432, 0.11869114, -0.25290745, 0.04725...   \n",
       "4  [0.17512538, 0.115311004, -0.327728, -0.007014...   \n",
       "6  [-0.1368, 0.11253667, -0.275318, 0.13569666, -...   \n",
       "8  [0.084135, 0.31050768, -0.10508833, 0.00661181...   \n",
       "\n",
       "                                    simple_sim_usage  usage_topic_idx  \\\n",
       "0  [0.40849745, 0.4876453, 0.46909958, 0.42598307...                1   \n",
       "2  [0.4266458, 0.4819732, 0.5425776, 0.4053445, 0...                2   \n",
       "4  [0.40528053, 0.36020732, 0.6553868, 0.43773523...                2   \n",
       "6  [0.34896043, 0.3636061, 0.5529935, 0.42539868,...                2   \n",
       "8  [0.40480316, 0.46816343, 0.58339614, 0.4942297...                4   \n",
       "\n",
       "   max_usage predicted_usage_subtag  \\\n",
       "0   0.487645                 Family   \n",
       "2   0.542578             Activities   \n",
       "4   0.655387             Activities   \n",
       "6   0.552993             Activities   \n",
       "8   0.626056   Sources of pollution   \n",
       "\n",
       "                              simple_sim_feedback  feedback_topic_idx  \\\n",
       "0   [0.48058966, 0.3963916, 0.433159, 0.59682834]                   3   \n",
       "2  [0.55865645, 0.5336797, 0.43659568, 0.6602878]                   3   \n",
       "4    [0.6692453, 0.7961095, 0.5609059, 0.7434142]                   1   \n",
       "6   [0.6405602, 0.7383908, 0.5316754, 0.64695334]                   1   \n",
       "8   [0.5873987, 0.55587596, 0.4421945, 0.6801777]                   3   \n",
       "\n",
       "   max_feedback predicted_feedback_subtag  \n",
       "0      0.596828    Usability - Complexity  \n",
       "2      0.660288    Usability - Complexity  \n",
       "4      0.796109       Usability - Content  \n",
       "6      0.738391       Usability - Content  \n",
       "8      0.680178    Usability - Complexity  "
      ]
     },
     "execution_count": 52,
     "metadata": {},
     "output_type": "execute_result"
    }
   ],
   "source": [
    "df_feedback.head()"
   ]
  },
  {
   "cell_type": "code",
   "execution_count": 53,
   "metadata": {},
   "outputs": [
    {
     "data": {
      "text/plain": [
       "75"
      ]
     },
     "execution_count": 53,
     "metadata": {},
     "output_type": "execute_result"
    }
   ],
   "source": [
    "len(df_feedback)"
   ]
  },
  {
   "cell_type": "markdown",
   "metadata": {},
   "source": [
    "### Assess results"
   ]
  },
  {
   "cell_type": "code",
   "execution_count": 54,
   "metadata": {},
   "outputs": [],
   "source": [
    "from sklearn import metrics"
   ]
  },
  {
   "cell_type": "code",
   "execution_count": 55,
   "metadata": {},
   "outputs": [
    {
     "name": "stdout",
     "output_type": "stream",
     "text": [
      "[[21  7  2  6]\n",
      " [ 2  6  1  9]\n",
      " [ 0  0  5  9]\n",
      " [ 0  0  0  7]]\n"
     ]
    }
   ],
   "source": [
    "print(metrics.confusion_matrix(df_feedback['subtag'],df_feedback['predicted_feedback_subtag'], labels = feedback_topic_labels))"
   ]
  },
  {
   "cell_type": "code",
   "execution_count": 56,
   "metadata": {},
   "outputs": [
    {
     "name": "stdout",
     "output_type": "stream",
     "text": [
      "topic no:0 - Performance\n",
      "topic no:1 - Usability - Content\n",
      "topic no:2 - Usability - Navigation\n",
      "topic no:3 - Usability - Complexity\n"
     ]
    }
   ],
   "source": [
    "for i in range(len(feedback_topic_labels)):\n",
    "    print(f'topic no:{i} - {feedback_topic_labels[i]}')"
   ]
  },
  {
   "cell_type": "code",
   "execution_count": 57,
   "metadata": {},
   "outputs": [
    {
     "name": "stdout",
     "output_type": "stream",
     "text": [
      "                        precision    recall  f1-score   support\n",
      "\n",
      "           Performance       0.91      0.58      0.71        36\n",
      "Usability - Complexity       0.23      1.00      0.37         7\n",
      "   Usability - Content       0.46      0.33      0.39        18\n",
      "Usability - Navigation       0.62      0.36      0.45        14\n",
      "\n",
      "              accuracy                           0.52        75\n",
      "             macro avg       0.56      0.57      0.48        75\n",
      "          weighted avg       0.69      0.52      0.55        75\n",
      "\n"
     ]
    }
   ],
   "source": [
    "print(metrics.classification_report(df_feedback['subtag'],df_feedback['predicted_feedback_subtag']))"
   ]
  },
  {
   "cell_type": "markdown",
   "metadata": {},
   "source": [
    "Performance is bad for the prediction of subtopics related to \"Product Feedback\". \n",
    "Let's check if we could improve this result by setting a threshold on similarity scores."
   ]
  },
  {
   "cell_type": "markdown",
   "metadata": {},
   "source": [
    "#### Assess max_feedback"
   ]
  },
  {
   "cell_type": "code",
   "execution_count": 58,
   "metadata": {},
   "outputs": [],
   "source": [
    "df_feedback = df_labelled.loc[df_labelled['tag']=='Product feedback'].copy()"
   ]
  },
  {
   "cell_type": "code",
   "execution_count": 59,
   "metadata": {},
   "outputs": [
    {
     "data": {
      "text/plain": [
       "count    75.000000\n",
       "mean      0.649322\n",
       "std       0.090230\n",
       "min       0.358285\n",
       "25%       0.605884\n",
       "50%       0.659952\n",
       "75%       0.718129\n",
       "max       0.796109\n",
       "Name: max_feedback, dtype: float64"
      ]
     },
     "execution_count": 59,
     "metadata": {},
     "output_type": "execute_result"
    }
   ],
   "source": [
    "df_feedback['max_feedback'].describe()"
   ]
  },
  {
   "cell_type": "code",
   "execution_count": 60,
   "metadata": {},
   "outputs": [
    {
     "data": {
      "text/plain": [
       "<matplotlib.axes._subplots.AxesSubplot at 0x1a3a04a9e8>"
      ]
     },
     "execution_count": 60,
     "metadata": {},
     "output_type": "execute_result"
    },
    {
     "data": {
      "image/png": "[encoded data removed]",
      "text/plain": [
       "<Figure size 432x288 with 1 Axes>"
      ]
     },
     "metadata": {
      "needs_background": "light"
     },
     "output_type": "display_data"
    }
   ],
   "source": [
    "df_feedback['max_feedback'].plot.hist()"
   ]
  },
  {
   "cell_type": "code",
   "execution_count": 61,
   "metadata": {},
   "outputs": [],
   "source": [
    "match = df_feedback.loc[df_feedback['subtag']==df_feedback['predicted_feedback_subtag']].copy()"
   ]
  },
  {
   "cell_type": "code",
   "execution_count": 62,
   "metadata": {},
   "outputs": [
    {
     "data": {
      "text/plain": [
       "39"
      ]
     },
     "execution_count": 62,
     "metadata": {},
     "output_type": "execute_result"
    }
   ],
   "source": [
    "len(match)"
   ]
  },
  {
   "cell_type": "code",
   "execution_count": 63,
   "metadata": {},
   "outputs": [
    {
     "data": {
      "text/plain": [
       "count    39.000000\n",
       "mean      0.650540\n",
       "std       0.102322\n",
       "min       0.358285\n",
       "25%       0.623501\n",
       "50%       0.671458\n",
       "75%       0.720004\n",
       "max       0.796109\n",
       "Name: max_feedback, dtype: float64"
      ]
     },
     "execution_count": 63,
     "metadata": {},
     "output_type": "execute_result"
    }
   ],
   "source": [
    "match['max_feedback'].describe()"
   ]
  },
  {
   "cell_type": "code",
   "execution_count": 64,
   "metadata": {},
   "outputs": [
    {
     "data": {
      "text/plain": [
       "<matplotlib.axes._subplots.AxesSubplot at 0x1a3a20eac8>"
      ]
     },
     "execution_count": 64,
     "metadata": {},
     "output_type": "execute_result"
    },
    {
     "data": {
      "image/png": "[encoded data removed]",
      "text/plain": [
       "<Figure size 432x288 with 1 Axes>"
      ]
     },
     "metadata": {
      "needs_background": "light"
     },
     "output_type": "display_data"
    }
   ],
   "source": [
    "match['max_feedback'].plot.hist()"
   ]
  },
  {
   "cell_type": "code",
   "execution_count": 65,
   "metadata": {},
   "outputs": [],
   "source": [
    "mismatch = df_feedback.loc[df_feedback['subtag']!=df_feedback['predicted_feedback_subtag']].copy()"
   ]
  },
  {
   "cell_type": "code",
   "execution_count": 66,
   "metadata": {},
   "outputs": [
    {
     "data": {
      "text/plain": [
       "36"
      ]
     },
     "execution_count": 66,
     "metadata": {},
     "output_type": "execute_result"
    }
   ],
   "source": [
    "len(mismatch)"
   ]
  },
  {
   "cell_type": "code",
   "execution_count": 67,
   "metadata": {},
   "outputs": [
    {
     "data": {
      "text/plain": [
       "count    36.000000\n",
       "mean      0.648003\n",
       "std       0.076438\n",
       "min       0.431613\n",
       "25%       0.597435\n",
       "50%       0.657422\n",
       "75%       0.714286\n",
       "max       0.766354\n",
       "Name: max_feedback, dtype: float64"
      ]
     },
     "execution_count": 67,
     "metadata": {},
     "output_type": "execute_result"
    }
   ],
   "source": [
    "mismatch['max_feedback'].describe()"
   ]
  },
  {
   "cell_type": "code",
   "execution_count": 68,
   "metadata": {},
   "outputs": [
    {
     "data": {
      "text/plain": [
       "<matplotlib.axes._subplots.AxesSubplot at 0x12ef5fb00>"
      ]
     },
     "execution_count": 68,
     "metadata": {},
     "output_type": "execute_result"
    },
    {
     "data": {
      "image/png": "[encoded data removed]",
      "text/plain": [
       "<Figure size 432x288 with 1 Axes>"
      ]
     },
     "metadata": {
      "needs_background": "light"
     },
     "output_type": "display_data"
    }
   ],
   "source": [
    "mismatch['max_feedback'].plot.hist()"
   ]
  },
  {
   "cell_type": "markdown",
   "metadata": {},
   "source": [
    "It doesn't seem possible to set a threshold on similarity score to improve the performance of the classification. "
   ]
  },
  {
   "cell_type": "markdown",
   "metadata": {},
   "source": [
    "## Conclusion\n",
    "* On the one hand, automatic topic assignment using keyword cosine similarity seems to provide good results for one of the topic, which is \"Usage\", as subtopics are quite separated one from another. We will later apply this method on the whole dataset and evaluate its performance.\n",
    "* On the other hand, this method provides bad results for the topic \"Product feedback\". This is likely to be linked to the similarity of the subtopic vectors, which prevents from correctly separating different classes of opinion units. In order to build an automatic topic assignment, we'll test using keyword string similarity. "
   ]
  },
  {
   "cell_type": "code",
   "execution_count": null,
   "metadata": {},
   "outputs": [],
   "source": []
  }
 ],
 "metadata": {
  "kernelspec": {
   "display_name": "Python 3",
   "language": "python",
   "name": "python3"
  },
  "language_info": {
   "codemirror_mode": {
    "name": "ipython",
    "version": 3
   },
   "file_extension": ".py",
   "mimetype": "text/x-python",
   "name": "python",
   "nbconvert_exporter": "python",
   "pygments_lexer": "ipython3",
   "version": "3.6.10"
  },
  "toc": {
   "base_numbering": 1,
   "nav_menu": {},
   "number_sections": true,
   "sideBar": true,
   "skip_h1_title": false,
   "title_cell": "Table of Contents",
   "title_sidebar": "Contents",
   "toc_cell": true,
   "toc_position": {},
   "toc_section_display": true,
   "toc_window_display": false
  }
 },
 "nbformat": 4,
 "nbformat_minor": 4
}

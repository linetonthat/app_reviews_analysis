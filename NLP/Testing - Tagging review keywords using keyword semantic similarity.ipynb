{
 "cells": [
  {
   "cell_type": "markdown",
   "metadata": {
    "toc": true
   },
   "source": [
    "<h1>Table of Contents<span class=\"tocSkip\"></span></h1>\n",
    "<div class=\"toc\"><ul class=\"toc-item\"><li><span><a href=\"#[Testing]-Tagging-review-keywords-using-keyword-semantic-similarity\" data-toc-modified-id=\"[Testing]-Tagging-review-keywords-using-keyword-semantic-similarity-1\"><span class=\"toc-item-num\">1&nbsp;&nbsp;</span>[Testing] Tagging review keywords using keyword semantic similarity</a></span><ul class=\"toc-item\"><li><span><a href=\"#Purpose\" data-toc-modified-id=\"Purpose-1.1\"><span class=\"toc-item-num\">1.1&nbsp;&nbsp;</span>Purpose</a></span></li><li><span><a href=\"#Approach\" data-toc-modified-id=\"Approach-1.2\"><span class=\"toc-item-num\">1.2&nbsp;&nbsp;</span>Approach</a></span></li><li><span><a href=\"#Import-libraries\" data-toc-modified-id=\"Import-libraries-1.3\"><span class=\"toc-item-num\">1.3&nbsp;&nbsp;</span>Import libraries</a></span></li><li><span><a href=\"#Define-topics-and-keywords\" data-toc-modified-id=\"Define-topics-and-keywords-1.4\"><span class=\"toc-item-num\">1.4&nbsp;&nbsp;</span>Define topics and keywords</a></span></li><li><span><a href=\"#Define-keywords\" data-toc-modified-id=\"Define-keywords-1.5\"><span class=\"toc-item-num\">1.5&nbsp;&nbsp;</span>Define keywords</a></span></li><li><span><a href=\"#Identify-the-closest-topic\" data-toc-modified-id=\"Identify-the-closest-topic-1.6\"><span class=\"toc-item-num\">1.6&nbsp;&nbsp;</span>Identify the closest topic</a></span></li></ul></li></ul></div>"
   ]
  },
  {
   "cell_type": "markdown",
   "metadata": {},
   "source": [
    "# [Testing] Tagging review keywords using keyword semantic similarity "
   ]
  },
  {
   "cell_type": "markdown",
   "metadata": {},
   "source": [
    "## Purpose\n",
    "In order to auto-tag user reviews, we choose to identify topics and sub topics that we would like to then automatically assign to the reviews. This post, \n",
    "[Best Practice for Tagging Customer Feedback](https://monkeylearn.com/blog/auto-tagging-customer-feedback-with-machine-learning/#Why-Great-Categorization-is-Important), provides us with recommendations on how to identify tags, how many we should use, and how to define them.\n",
    "\n",
    "## Approach\n",
    "What approach use when it comes to matching our opinion units with topics? This post,\n",
    "[Approach to tag reviews](https://engineering.reviewtrackers.com/using-word2vec-to-classify-review-keywords-a5fa50ce05dc), recommends first to extract keywords from reviews, and then use keyword semantic similarity. \n",
    "Two other options are introduced, but not recommended due to their limitations:\n",
    "* keyword string similarity, as it's limited to character similarity, and does not take into account semantics\n",
    "* topic modelling, as in particular they tend to produce rather abstract topics, and users cannot easily (re)define their topics."
   ]
  },
  {
   "cell_type": "markdown",
   "metadata": {},
   "source": [
    "## Import libraries"
   ]
  },
  {
   "cell_type": "code",
   "execution_count": 1,
   "metadata": {},
   "outputs": [],
   "source": [
    "import os\n",
    "import pandas as pd"
   ]
  },
  {
   "cell_type": "code",
   "execution_count": 2,
   "metadata": {},
   "outputs": [],
   "source": [
    "import spacy\n",
    "nlp = spacy.load('en_core_web_md')"
   ]
  },
  {
   "cell_type": "code",
   "execution_count": 3,
   "metadata": {},
   "outputs": [],
   "source": [
    "import itertools\n",
    "import numpy as np"
   ]
  },
  {
   "cell_type": "markdown",
   "metadata": {},
   "source": [
    "## Define topics and keywords"
   ]
  },
  {
   "cell_type": "markdown",
   "metadata": {},
   "source": [
    "In order to identify main topics from the app reviews, the best approach is to read part of them in order to grasp main topics. The definition of the topics is also based on the objectives for analysing app reviews.\n",
    "\n",
    "The main topics identified are:\n",
    "* Usage\n",
    "    - Sources of pollution\n",
    "    - Family and activities\n",
    "    - Actions taken\n",
    "* Product Feedback\n",
    "    - Performance\n",
    "    - Usability (Content, Navigation, Complexity)\n",
    "    - Feature request\n",
    "* Pricing"
   ]
  },
  {
   "cell_type": "code",
   "execution_count": 4,
   "metadata": {},
   "outputs": [
    {
     "data": {
      "text/plain": [
       "10"
      ]
     },
     "execution_count": 4,
     "metadata": {},
     "output_type": "execute_result"
    }
   ],
   "source": [
    "topic_labels = [\n",
    "    'Conditions',\n",
    "    'Familiy and activities',\n",
    "    'Actions taken',\n",
    "    'Sources of pollution',\n",
    "    'Performance',\n",
    "    'Usability - Content',\n",
    "    'Usability - Navigation',\n",
    "    'Usability - Complexity',\n",
    "    'Feature request',\n",
    "    'Pricing'\n",
    "]\n",
    "len(topic_labels)"
   ]
  },
  {
   "cell_type": "code",
   "execution_count": 5,
   "metadata": {},
   "outputs": [
    {
     "data": {
      "text/plain": [
       "10"
      ]
     },
     "execution_count": 5,
     "metadata": {},
     "output_type": "execute_result"
    }
   ],
   "source": [
    "topic_keywords = [\n",
    "    'sickness health COPD lung lungs disease condition chronic pneumonia asthma asthmatic breathing sensitive allergy sufferers allergies',\n",
    "    'sport children dog leisure travel',\n",
    "    'mask purifier window',\n",
    "    'fire industry traffic burning',\n",
    "    'bug issues fix reliable accuracy performance',\n",
    "    'content areas information',\n",
    "    'navigation design',\n",
    "    'easy complexity',\n",
    "    'wish',\n",
    "    'cost price expensive'\n",
    "]\n",
    "len(topic_keywords)"
   ]
  },
  {
   "cell_type": "code",
   "execution_count": 6,
   "metadata": {},
   "outputs": [],
   "source": [
    "topic_docs = list(nlp.pipe(topic_keywords))"
   ]
  },
  {
   "cell_type": "code",
   "execution_count": 7,
   "metadata": {},
   "outputs": [],
   "source": [
    "topic_vectors = np.array([doc.vector\n",
    "                         if doc.has_vector else spacy.vocab[0].vector \n",
    "                         for doc in topic_docs])"
   ]
  },
  {
   "cell_type": "markdown",
   "metadata": {},
   "source": [
    "## Define keywords"
   ]
  },
  {
   "cell_type": "code",
   "execution_count": 8,
   "metadata": {
    "code_folding": []
   },
   "outputs": [],
   "source": [
    "keywords = [\n",
    "            'accurate',\n",
    "            'informative',\n",
    "            'fires issue',\n",
    "            'reports California smog',\n",
    "            'comprehensive all occupied countries',\n",
    "            'frequent traveller',\n",
    "            'filter out pollution',\n",
    "            'understand real time',\n",
    "            'lots bugs',\n",
    "            'easy use'\n",
    "            ]"
   ]
  },
  {
   "cell_type": "code",
   "execution_count": 9,
   "metadata": {},
   "outputs": [],
   "source": [
    "keyword_docs = list(nlp.pipe(keywords))"
   ]
  },
  {
   "cell_type": "code",
   "execution_count": 10,
   "metadata": {},
   "outputs": [
    {
     "data": {
      "text/plain": [
       "informative"
      ]
     },
     "execution_count": 10,
     "metadata": {},
     "output_type": "execute_result"
    }
   ],
   "source": [
    "keyword_docs[1]"
   ]
  },
  {
   "cell_type": "code",
   "execution_count": 11,
   "metadata": {},
   "outputs": [],
   "source": [
    "keywords_vectors = np.array([doc.vector\n",
    "                            if doc.has_vector else spacy.vocab[0].vector\n",
    "                            for doc in keyword_docs])"
   ]
  },
  {
   "cell_type": "markdown",
   "metadata": {},
   "source": [
    "## Identify the closest topic"
   ]
  },
  {
   "cell_type": "markdown",
   "metadata": {},
   "source": [
    "Let's test tagging topics using similarity on keywords with a list of topics!"
   ]
  },
  {
   "cell_type": "code",
   "execution_count": 12,
   "metadata": {},
   "outputs": [],
   "source": [
    "from sklearn.metrics.pairwise import cosine_similarity"
   ]
  },
  {
   "cell_type": "code",
   "execution_count": 13,
   "metadata": {},
   "outputs": [],
   "source": [
    "simple_sim = cosine_similarity(keywords_vectors, topic_vectors)"
   ]
  },
  {
   "cell_type": "code",
   "execution_count": 14,
   "metadata": {},
   "outputs": [],
   "source": [
    "topic_idx = simple_sim.argmax(axis = 1)"
   ]
  },
  {
   "cell_type": "code",
   "execution_count": 15,
   "metadata": {},
   "outputs": [
    {
     "data": {
      "text/plain": [
       "array([4, 5, 3, 3, 5, 1, 2, 8, 4, 7])"
      ]
     },
     "execution_count": 15,
     "metadata": {},
     "output_type": "execute_result"
    }
   ],
   "source": [
    "topic_idx"
   ]
  },
  {
   "cell_type": "code",
   "execution_count": 16,
   "metadata": {},
   "outputs": [
    {
     "name": "stdout",
     "output_type": "stream",
     "text": [
      "topic no:0 - Conditions\n",
      "topic no:1 - Familiy and activities\n",
      "topic no:2 - Actions taken\n",
      "topic no:3 - Sources of pollution\n",
      "topic no:4 - Performance\n",
      "topic no:5 - Usability - Content\n",
      "topic no:6 - Usability - Navigation\n",
      "topic no:7 - Usability - Complexity\n",
      "topic no:8 - Feature request\n",
      "topic no:9 - Pricing\n"
     ]
    }
   ],
   "source": [
    "for i in range(len(topic_labels)):\n",
    "    print(f'topic no:{i} - {topic_labels[i]}')"
   ]
  },
  {
   "cell_type": "code",
   "execution_count": 17,
   "metadata": {},
   "outputs": [
    {
     "name": "stdout",
     "output_type": "stream",
     "text": [
      "\"accurate\" is about: \"Performance\"\n",
      "\"informative\" is about: \"Usability - Content\"\n",
      "\"fires issue\" is about: \"Sources of pollution\"\n",
      "\"reports California smog\" is about: \"Sources of pollution\"\n",
      "\"comprehensive all occupied countries\" is about: \"Usability - Content\"\n",
      "\"frequent traveller\" is about: \"Familiy and activities\"\n",
      "\"filter out pollution\" is about: \"Actions taken\"\n",
      "\"understand real time\" is about: \"Feature request\"\n",
      "\"lots bugs\" is about: \"Performance\"\n",
      "\"easy use\" is about: \"Usability - Complexity\"\n"
     ]
    }
   ],
   "source": [
    "for i in range(len(topic_idx)):\n",
    "    print(f'\"{keywords[i]}\" is about: \"{topic_labels[topic_idx[i]]}\"')"
   ]
  },
  {
   "cell_type": "markdown",
   "metadata": {},
   "source": [
    "Tags assigned to the keywords extracted are correct, except for \"understand real time\". The keywords listed for \"Feature extraction\" might need to be reviewed."
   ]
  },
  {
   "cell_type": "code",
   "execution_count": null,
   "metadata": {},
   "outputs": [],
   "source": []
  }
 ],
 "metadata": {
  "kernelspec": {
   "display_name": "Python 3",
   "language": "python",
   "name": "python3"
  },
  "language_info": {
   "codemirror_mode": {
    "name": "ipython",
    "version": 3
   },
   "file_extension": ".py",
   "mimetype": "text/x-python",
   "name": "python",
   "nbconvert_exporter": "python",
   "pygments_lexer": "ipython3",
   "version": "3.6.10"
  },
  "toc": {
   "base_numbering": 1,
   "nav_menu": {},
   "number_sections": true,
   "sideBar": true,
   "skip_h1_title": false,
   "title_cell": "Table of Contents",
   "title_sidebar": "Contents",
   "toc_cell": true,
   "toc_position": {},
   "toc_section_display": true,
   "toc_window_display": false
  }
 },
 "nbformat": 4,
 "nbformat_minor": 4
}

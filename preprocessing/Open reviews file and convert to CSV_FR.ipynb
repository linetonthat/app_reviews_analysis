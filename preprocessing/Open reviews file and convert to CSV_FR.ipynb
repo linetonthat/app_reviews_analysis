{
 "cells": [
  {
   "cell_type": "markdown",
   "metadata": {
    "toc": true
   },
   "source": [
    "<h1>Table of Contents<span class=\"tocSkip\"></span></h1>\n",
    "<div class=\"toc\"><ul class=\"toc-item\"><li><span><a href=\"#Preprocessing,-exploration-and-export-of-app-reviews\" data-toc-modified-id=\"Preprocessing,-exploration-and-export-of-app-reviews-1\"><span class=\"toc-item-num\">1&nbsp;&nbsp;</span>Preprocessing, exploration and export of app reviews</a></span><ul class=\"toc-item\"><li><span><a href=\"#Load-data\" data-toc-modified-id=\"Load-data-1.1\"><span class=\"toc-item-num\">1.1&nbsp;&nbsp;</span>Load data</a></span></li><li><span><a href=\"#Ratings\" data-toc-modified-id=\"Ratings-1.2\"><span class=\"toc-item-num\">1.2&nbsp;&nbsp;</span>Ratings</a></span></li><li><span><a href=\"#Detect-language\" data-toc-modified-id=\"Detect-language-1.3\"><span class=\"toc-item-num\">1.3&nbsp;&nbsp;</span>Detect language</a></span></li><li><span><a href=\"#Sort-data\" data-toc-modified-id=\"Sort-data-1.4\"><span class=\"toc-item-num\">1.4&nbsp;&nbsp;</span>Sort data</a></span></li><li><span><a href=\"#Export-data\" data-toc-modified-id=\"Export-data-1.5\"><span class=\"toc-item-num\">1.5&nbsp;&nbsp;</span>Export data</a></span></li></ul></li></ul></div>"
   ]
  },
  {
   "cell_type": "markdown",
   "metadata": {},
   "source": [
    "# Preprocessing, exploration and export of app reviews"
   ]
  },
  {
   "cell_type": "markdown",
   "metadata": {},
   "source": [
    "We have scraped reviews on a [specific app](https://apps.apple.com/fr/app/airvisual-qualit%C3%A9-de-lair/id1048912974#see-all/reviews) in the French appstore. This app is related to air quality. Our goal is to analyse these reviews to try to find out about :\n",
    "* usages\n",
    "* most relevant app features\n",
    "* \"missing\" app features, or features that users would like the app to have\n",
    "* technical issues.\n",
    "\n",
    "Data preparation will be key to help analyse the reviews, such as sorting reviews according to selected criteria.  This will also give us the opportunity to test some NLP tools as needed (language detection, sentiment analysis...)."
   ]
  },
  {
   "cell_type": "code",
   "execution_count": 1,
   "metadata": {},
   "outputs": [],
   "source": [
    "import pandas as pd\n",
    "from langdetect import detect\n",
    "import warnings\n",
    "warnings.filterwarnings('ignore')"
   ]
  },
  {
   "cell_type": "markdown",
   "metadata": {},
   "source": [
    "## Load data"
   ]
  },
  {
   "cell_type": "code",
   "execution_count": 2,
   "metadata": {},
   "outputs": [],
   "source": [
    "#filename = 'app_reviews_airvisual-air-quality-forecast_1048912974.json'\n",
    "filename ='app_reviews_en.json' # from Great Britain appstore"
   ]
  },
  {
   "cell_type": "code",
   "execution_count": 3,
   "metadata": {},
   "outputs": [],
   "source": [
    "df = pd.read_json(filename)"
   ]
  },
  {
   "cell_type": "code",
   "execution_count": 4,
   "metadata": {},
   "outputs": [
    {
     "data": {
      "text/html": [
       "<div>\n",
       "<style scoped>\n",
       "    .dataframe tbody tr th:only-of-type {\n",
       "        vertical-align: middle;\n",
       "    }\n",
       "\n",
       "    .dataframe tbody tr th {\n",
       "        vertical-align: top;\n",
       "    }\n",
       "\n",
       "    .dataframe thead th {\n",
       "        text-align: right;\n",
       "    }\n",
       "</style>\n",
       "<table border=\"1\" class=\"dataframe\">\n",
       "  <thead>\n",
       "    <tr style=\"text-align: right;\">\n",
       "      <th></th>\n",
       "      <th>review_id</th>\n",
       "      <th>rating</th>\n",
       "      <th>title</th>\n",
       "      <th>review_date</th>\n",
       "      <th>user_name</th>\n",
       "      <th>review</th>\n",
       "      <th>response_id</th>\n",
       "      <th>dev_response</th>\n",
       "      <th>response_date</th>\n",
       "    </tr>\n",
       "  </thead>\n",
       "  <tbody>\n",
       "    <tr>\n",
       "      <th>0</th>\n",
       "      <td>4915894551</td>\n",
       "      <td>5</td>\n",
       "      <td>A tragic reality</td>\n",
       "      <td>2019-10-10T01:06:52Z</td>\n",
       "      <td>Si &amp; Ro</td>\n",
       "      <td>Amazingly helpful app, both for health and as ...</td>\n",
       "      <td>NaN</td>\n",
       "      <td>NaN</td>\n",
       "      <td>NaN</td>\n",
       "    </tr>\n",
       "    <tr>\n",
       "      <th>1</th>\n",
       "      <td>5387399470</td>\n",
       "      <td>5</td>\n",
       "      <td>Really useful information</td>\n",
       "      <td>2020-01-11T01:19:08Z</td>\n",
       "      <td>Suez62</td>\n",
       "      <td>We have an ‘eco’ woodburner and as an asthmati...</td>\n",
       "      <td>NaN</td>\n",
       "      <td>NaN</td>\n",
       "      <td>NaN</td>\n",
       "    </tr>\n",
       "    <tr>\n",
       "      <th>2</th>\n",
       "      <td>4057061182</td>\n",
       "      <td>5</td>\n",
       "      <td>Air quality app</td>\n",
       "      <td>2019-04-25T07:07:47Z</td>\n",
       "      <td># alone at xmas</td>\n",
       "      <td>I was introduced to this app via a friend who ...</td>\n",
       "      <td>NaN</td>\n",
       "      <td>NaN</td>\n",
       "      <td>NaN</td>\n",
       "    </tr>\n",
       "    <tr>\n",
       "      <th>3</th>\n",
       "      <td>4858351034</td>\n",
       "      <td>5</td>\n",
       "      <td>Accurate &amp; Reliable</td>\n",
       "      <td>2019-09-29T07:38:33Z</td>\n",
       "      <td>r2thebizel</td>\n",
       "      <td>Very clear, easy to use and engaging. Very rel...</td>\n",
       "      <td>NaN</td>\n",
       "      <td>NaN</td>\n",
       "      <td>NaN</td>\n",
       "    </tr>\n",
       "    <tr>\n",
       "      <th>4</th>\n",
       "      <td>3883883779</td>\n",
       "      <td>5</td>\n",
       "      <td>Best aqi app yet</td>\n",
       "      <td>2019-03-15T12:07:55Z</td>\n",
       "      <td>jhugs43</td>\n",
       "      <td>I’ve tried several aqi apps over the years, mo...</td>\n",
       "      <td>NaN</td>\n",
       "      <td>NaN</td>\n",
       "      <td>NaN</td>\n",
       "    </tr>\n",
       "  </tbody>\n",
       "</table>\n",
       "</div>"
      ],
      "text/plain": [
       "    review_id  rating                      title           review_date  \\\n",
       "0  4915894551       5           A tragic reality  2019-10-10T01:06:52Z   \n",
       "1  5387399470       5  Really useful information  2020-01-11T01:19:08Z   \n",
       "2  4057061182       5            Air quality app  2019-04-25T07:07:47Z   \n",
       "3  4858351034       5        Accurate & Reliable  2019-09-29T07:38:33Z   \n",
       "4  3883883779       5           Best aqi app yet  2019-03-15T12:07:55Z   \n",
       "\n",
       "         user_name                                             review  \\\n",
       "0          Si & Ro  Amazingly helpful app, both for health and as ...   \n",
       "1           Suez62  We have an ‘eco’ woodburner and as an asthmati...   \n",
       "2  # alone at xmas  I was introduced to this app via a friend who ...   \n",
       "3       r2thebizel  Very clear, easy to use and engaging. Very rel...   \n",
       "4          jhugs43  I’ve tried several aqi apps over the years, mo...   \n",
       "\n",
       "   response_id dev_response response_date  \n",
       "0          NaN          NaN           NaN  \n",
       "1          NaN          NaN           NaN  \n",
       "2          NaN          NaN           NaN  \n",
       "3          NaN          NaN           NaN  \n",
       "4          NaN          NaN           NaN  "
      ]
     },
     "execution_count": 4,
     "metadata": {},
     "output_type": "execute_result"
    }
   ],
   "source": [
    "df.head()"
   ]
  },
  {
   "cell_type": "code",
   "execution_count": 5,
   "metadata": {},
   "outputs": [
    {
     "data": {
      "text/plain": [
       "Index(['review_id', 'rating', 'title', 'review_date', 'user_name', 'review',\n",
       "       'response_id', 'dev_response', 'response_date'],\n",
       "      dtype='object')"
      ]
     },
     "execution_count": 5,
     "metadata": {},
     "output_type": "execute_result"
    }
   ],
   "source": [
    "df.columns"
   ]
  },
  {
   "cell_type": "code",
   "execution_count": 6,
   "metadata": {},
   "outputs": [
    {
     "name": "stdout",
     "output_type": "stream",
     "text": [
      "<class 'pandas.core.frame.DataFrame'>\n",
      "RangeIndex: 243 entries, 0 to 242\n",
      "Data columns (total 9 columns):\n",
      " #   Column         Non-Null Count  Dtype  \n",
      "---  ------         --------------  -----  \n",
      " 0   review_id      243 non-null    int64  \n",
      " 1   rating         243 non-null    int64  \n",
      " 2   title          243 non-null    object \n",
      " 3   review_date    243 non-null    object \n",
      " 4   user_name      243 non-null    object \n",
      " 5   review         243 non-null    object \n",
      " 6   response_id    2 non-null      float64\n",
      " 7   dev_response   2 non-null      object \n",
      " 8   response_date  2 non-null      object \n",
      "dtypes: float64(1), int64(2), object(6)\n",
      "memory usage: 17.2+ KB\n"
     ]
    }
   ],
   "source": [
    "df.info()"
   ]
  },
  {
   "cell_type": "markdown",
   "metadata": {},
   "source": [
    "There are 334 reviews. There are only 3 responses from the developer.\n",
    "\n",
    "In order to verify that it was not due to an issue with web scraping, we can go back to the [see-all reviews page](https://apps.apple.com/fr/app/airvisual-qualit%C3%A9-de-lair/id1048912974#see-all/reviews). After loading all the reviews, we could see only 3 responses from the developer (as of 26/06/2020)."
   ]
  },
  {
   "cell_type": "code",
   "execution_count": null,
   "metadata": {},
   "outputs": [],
   "source": [
    "df['review']"
   ]
  },
  {
   "cell_type": "markdown",
   "metadata": {},
   "source": [
    "## Ratings"
   ]
  },
  {
   "cell_type": "code",
   "execution_count": null,
   "metadata": {},
   "outputs": [],
   "source": [
    "# assess the distribution of ratings\n",
    "df['rating'].value_counts()"
   ]
  },
  {
   "cell_type": "code",
   "execution_count": null,
   "metadata": {},
   "outputs": [],
   "source": [
    "# assess mean rating\n",
    "df['rating'].mean()"
   ]
  },
  {
   "cell_type": "markdown",
   "metadata": {},
   "source": [
    "## Detect language"
   ]
  },
  {
   "cell_type": "code",
   "execution_count": null,
   "metadata": {
    "code_folding": []
   },
   "outputs": [],
   "source": [
    "# Define a function to identify language and catch exceptions\n",
    "def lang_detect(text):\n",
    "    # use deterministic approach for language detection\n",
    "    from langdetect import DetectorFactory\n",
    "    DetectorFactory.seed = 0\n",
    "    try:\n",
    "        return detect(text)\n",
    "    except:\n",
    "        return \"language not detected\""
   ]
  },
  {
   "cell_type": "code",
   "execution_count": null,
   "metadata": {},
   "outputs": [],
   "source": [
    "# Detect the language used in the reviews\n",
    "df['lang-r'] = df['review'].apply(lang_detect)"
   ]
  },
  {
   "cell_type": "code",
   "execution_count": null,
   "metadata": {},
   "outputs": [],
   "source": [
    "# What are the detected languages?\n",
    "df['lang-r'].unique()"
   ]
  },
  {
   "cell_type": "code",
   "execution_count": null,
   "metadata": {},
   "outputs": [],
   "source": [
    "# What is the distribution of the detected languages?\n",
    "df['lang-r'].value_counts()"
   ]
  },
  {
   "cell_type": "markdown",
   "metadata": {},
   "source": [
    "As expected, most reviews are detected as being in French, since reviews were collected from the French appstore. However 70 reviews are detected as being in English."
   ]
  },
  {
   "cell_type": "code",
   "execution_count": null,
   "metadata": {},
   "outputs": [],
   "source": [
    "# Look at reviews where the language could not be detected\n",
    "df.loc[df['lang-r']=='language not detected']"
   ]
  },
  {
   "cell_type": "markdown",
   "metadata": {},
   "source": [
    "Most of reviews where the language could not be detected are made of emoticones or mathematical symbols. Detecting the language using the title should help. However, we're focusing on reviews where enough words to identify information we're looking for. Then, we'll discard the reviews where the language could not be detected."
   ]
  },
  {
   "cell_type": "code",
   "execution_count": null,
   "metadata": {},
   "outputs": [],
   "source": [
    "# Look at the reviews where the languages is neither French, English or not detected\n",
    "df.loc[(df['lang-r']!='fr')\n",
    "       &(df['lang-r']!='en')\n",
    "       &(df['lang-r']!='language not detected')].head(27)"
   ]
  },
  {
   "cell_type": "markdown",
   "metadata": {},
   "source": [
    "When the review is short, especially if there is a typo, the language detection is not correct. Let's check if language could be detected using the title."
   ]
  },
  {
   "cell_type": "code",
   "execution_count": null,
   "metadata": {},
   "outputs": [],
   "source": [
    "df['lang-t'] = df.loc[(df['lang-r']!='fr')\n",
    "       &(df['lang-r']!='en')\n",
    "       &(df['lang-r']!='language not detected')]['title'].apply(lang_detect)"
   ]
  },
  {
   "cell_type": "code",
   "execution_count": null,
   "metadata": {},
   "outputs": [],
   "source": [
    "df_2 = df.loc[(df['lang-r']!='fr')\n",
    "       &(df['lang-r']!='en')\n",
    "       &(df['lang-r']!='language not detected')][['title', 'review', 'lang-r', 'lang-t']]"
   ]
  },
  {
   "cell_type": "code",
   "execution_count": null,
   "metadata": {},
   "outputs": [],
   "source": [
    "df_2.head()"
   ]
  },
  {
   "cell_type": "code",
   "execution_count": null,
   "metadata": {},
   "outputs": [],
   "source": [
    "df_2['lang-t'].value_counts()"
   ]
  },
  {
   "cell_type": "code",
   "execution_count": null,
   "metadata": {},
   "outputs": [],
   "source": [
    "df_2.sort_values(by='lang-t', inplace=True)"
   ]
  },
  {
   "cell_type": "code",
   "execution_count": null,
   "metadata": {},
   "outputs": [],
   "source": [
    "df_2.head(27)"
   ]
  },
  {
   "cell_type": "markdown",
   "metadata": {},
   "source": [
    "In the final dataframe, we'll keep only the reviews where French or English languages have been detected either in the review or in the title."
   ]
  },
  {
   "cell_type": "code",
   "execution_count": null,
   "metadata": {},
   "outputs": [],
   "source": [
    "len(df.loc[(df['lang-r']=='fr')|(df['lang-r']=='en')\n",
    "          |(df['lang-t']=='fr')|(df['lang-t']=='en')])"
   ]
  },
  {
   "cell_type": "code",
   "execution_count": null,
   "metadata": {},
   "outputs": [],
   "source": [
    "dfout = df.loc[(df['lang-r']=='fr')|(df['lang-r']=='en')\n",
    "          |(df['lang-t']=='fr')|(df['lang-t']=='en')]"
   ]
  },
  {
   "cell_type": "code",
   "execution_count": null,
   "metadata": {
    "code_folding": []
   },
   "outputs": [],
   "source": [
    "# we define a new column 'lang': it's the language of the review if it's \n",
    "# in French or in English\n",
    "dfout.loc[(df['lang-r']=='fr')|(df['lang-r']=='en'),'lang'] = df.loc[(df['lang-r']=='fr')|(df['lang-r']=='en'),'lang-r']"
   ]
  },
  {
   "cell_type": "code",
   "execution_count": null,
   "metadata": {},
   "outputs": [],
   "source": [
    "# check the data\n",
    "dfout.head()"
   ]
  },
  {
   "cell_type": "code",
   "execution_count": null,
   "metadata": {},
   "outputs": [],
   "source": [
    "# check cases where language review is not French or English\n",
    "dfout.loc[(df['lang-r']!='fr')&(df['lang-r']!='en')]"
   ]
  },
  {
   "cell_type": "code",
   "execution_count": null,
   "metadata": {},
   "outputs": [],
   "source": [
    "# else, the value for 'lang' is the language detected in the title (French or English)\n",
    "dfout.loc[(df['lang-r']!='fr')&(df['lang-r']!='en'),'lang'] = dfout.loc[(df['lang-r']!='fr')&(df['lang-r']!='en'),'lang-t'] "
   ]
  },
  {
   "cell_type": "code",
   "execution_count": null,
   "metadata": {},
   "outputs": [],
   "source": [
    "# check again cases where language review is not French or English\n",
    "dfout.loc[(df['lang-r']!='fr')&(df['lang-r']!='en')]"
   ]
  },
  {
   "cell_type": "markdown",
   "metadata": {},
   "source": [
    "## Sort data"
   ]
  },
  {
   "cell_type": "code",
   "execution_count": null,
   "metadata": {},
   "outputs": [],
   "source": [
    "dfout.sort_values(by=['lang','rating','review_date'], inplace = True, ascending = False)"
   ]
  },
  {
   "cell_type": "code",
   "execution_count": null,
   "metadata": {},
   "outputs": [],
   "source": [
    "dfout"
   ]
  },
  {
   "cell_type": "markdown",
   "metadata": {},
   "source": [
    "## Export data"
   ]
  },
  {
   "cell_type": "code",
   "execution_count": null,
   "metadata": {},
   "outputs": [],
   "source": [
    "# export to csv\n",
    "dfout.to_csv('app_reviews_airvisual-air-quality-forecast_1048912974_by_lang.csv', encoding='utf-8-sig', sep =';')"
   ]
  },
  {
   "cell_type": "code",
   "execution_count": null,
   "metadata": {},
   "outputs": [],
   "source": []
  }
 ],
 "metadata": {
  "anaconda-cloud": {},
  "kernelspec": {
   "display_name": "Python 3",
   "language": "python",
   "name": "python3"
  },
  "language_info": {
   "codemirror_mode": {
    "name": "ipython",
    "version": 3
   },
   "file_extension": ".py",
   "mimetype": "text/x-python",
   "name": "python",
   "nbconvert_exporter": "python",
   "pygments_lexer": "ipython3",
   "version": "3.6.10"
  },
  "toc": {
   "base_numbering": 1,
   "nav_menu": {},
   "number_sections": true,
   "sideBar": true,
   "skip_h1_title": false,
   "title_cell": "Table of Contents",
   "title_sidebar": "Contents",
   "toc_cell": true,
   "toc_position": {
    "height": "calc(100% - 180px)",
    "left": "10px",
    "top": "150px",
    "width": "165px"
   },
   "toc_section_display": true,
   "toc_window_display": true
  }
 },
 "nbformat": 4,
 "nbformat_minor": 2
}

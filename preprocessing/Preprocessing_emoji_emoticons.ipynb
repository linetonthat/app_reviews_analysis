{
 "cells": [
  {
   "cell_type": "markdown",
   "metadata": {
    "toc": true
   },
   "source": [
    "<h1>Table of Contents<span class=\"tocSkip\"></span></h1>\n",
    "<div class=\"toc\"><ul class=\"toc-item\"><li><span><a href=\"#Preprocess-emojis-and-emoticons\" data-toc-modified-id=\"Preprocess-emojis-and-emoticons-1\"><span class=\"toc-item-num\">1&nbsp;&nbsp;</span>Preprocess emojis and emoticons</a></span><ul class=\"toc-item\"><li><span><a href=\"#Import-libraries\" data-toc-modified-id=\"Import-libraries-1.1\"><span class=\"toc-item-num\">1.1&nbsp;&nbsp;</span>Import libraries</a></span></li><li><span><a href=\"#Load-reviews\" data-toc-modified-id=\"Load-reviews-1.2\"><span class=\"toc-item-num\">1.2&nbsp;&nbsp;</span>Load reviews</a></span></li><li><span><a href=\"#Define-a-function-to-convert-emojis-and-emoticons\" data-toc-modified-id=\"Define-a-function-to-convert-emojis-and-emoticons-1.3\"><span class=\"toc-item-num\">1.3&nbsp;&nbsp;</span>Define a function to convert emojis and emoticons</a></span></li><li><span><a href=\"#Define-a-function-to-convert-emoticons\" data-toc-modified-id=\"Define-a-function-to-convert-emoticons-1.4\"><span class=\"toc-item-num\">1.4&nbsp;&nbsp;</span>Define a function to convert emoticons</a></span></li><li><span><a href=\"#Convert-emojis-and-emoticons-into-words\" data-toc-modified-id=\"Convert-emojis-and-emoticons-into-words-1.5\"><span class=\"toc-item-num\">1.5&nbsp;&nbsp;</span>Convert emojis and emoticons into words</a></span></li><li><span><a href=\"#Export-file\" data-toc-modified-id=\"Export-file-1.6\"><span class=\"toc-item-num\">1.6&nbsp;&nbsp;</span>Export file</a></span></li></ul></li></ul></div>"
   ]
  },
  {
   "cell_type": "markdown",
   "metadata": {},
   "source": [
    "# Preprocess emojis and emoticons\n",
    "\n",
    "App reviews contain emojis and emoticons. The users express their emotions and/or opinion when including them in their review. In order to keep this information, we 'translate' them into written expressions for easier automatic analysis:\n",
    "* In order to manually label sentiment in the training set, we use the opinion units extracted from the review before emojis and emoticons preprocessing. \n",
    "* In order to train our sentiment classifier, we convert the emojis and emoticons before training our classifier.\n",
    "\n",
    "\n",
    "The dictionaries of emojis and emoticons were found in this \n",
    "[post about emojis and emoticons](https://studymachinelearning.com/text-preprocessing-handle-emoji-emoticon/), as well as the main functions used to convert them into written text. The functions have been slighly modified to make sure emojis were well separated from one another."
   ]
  },
  {
   "cell_type": "markdown",
   "metadata": {},
   "source": [
    "## Import libraries"
   ]
  },
  {
   "cell_type": "code",
   "execution_count": 4,
   "metadata": {},
   "outputs": [],
   "source": [
    "import os\n",
    "import pandas as pd"
   ]
  },
  {
   "cell_type": "code",
   "execution_count": 5,
   "metadata": {},
   "outputs": [],
   "source": [
    "import pickle\n",
    "import re"
   ]
  },
  {
   "cell_type": "code",
   "execution_count": 6,
   "metadata": {},
   "outputs": [],
   "source": [
    "import spacy\n",
    "nlp = spacy.load('en_core_web_sm')"
   ]
  },
  {
   "cell_type": "markdown",
   "metadata": {},
   "source": [
    "## Load reviews"
   ]
  },
  {
   "cell_type": "code",
   "execution_count": 7,
   "metadata": {},
   "outputs": [],
   "source": [
    "path = os.getcwd()\n",
    "filename = 'app_reviews_airvisual-air-quality-forecast_1048912974_by_lang_us_exp_abb.csv'\n",
    "subfolder = '/../data/1_preprocessed_data/'"
   ]
  },
  {
   "cell_type": "code",
   "execution_count": 8,
   "metadata": {},
   "outputs": [],
   "source": [
    "df = pd.read_csv(path+subfolder+filename)"
   ]
  },
  {
   "cell_type": "code",
   "execution_count": 9,
   "metadata": {},
   "outputs": [
    {
     "data": {
      "text/html": [
       "<div>\n",
       "<style scoped>\n",
       "    .dataframe tbody tr th:only-of-type {\n",
       "        vertical-align: middle;\n",
       "    }\n",
       "\n",
       "    .dataframe tbody tr th {\n",
       "        vertical-align: top;\n",
       "    }\n",
       "\n",
       "    .dataframe thead th {\n",
       "        text-align: right;\n",
       "    }\n",
       "</style>\n",
       "<table border=\"1\" class=\"dataframe\">\n",
       "  <thead>\n",
       "    <tr style=\"text-align: right;\">\n",
       "      <th></th>\n",
       "      <th>Unnamed: 0</th>\n",
       "      <th>Unnamed: 0.1</th>\n",
       "      <th>review_id</th>\n",
       "      <th>rating</th>\n",
       "      <th>title</th>\n",
       "      <th>review_date</th>\n",
       "      <th>user_name</th>\n",
       "      <th>review</th>\n",
       "      <th>response_id</th>\n",
       "      <th>dev_response</th>\n",
       "      <th>response_date</th>\n",
       "      <th>lang</th>\n",
       "      <th>title_expanded</th>\n",
       "      <th>review_expanded</th>\n",
       "    </tr>\n",
       "  </thead>\n",
       "  <tbody>\n",
       "    <tr>\n",
       "      <th>0</th>\n",
       "      <td>0</td>\n",
       "      <td>3095</td>\n",
       "      <td>6121840341</td>\n",
       "      <td>5</td>\n",
       "      <td>Happy to finally see when and why I can’t brea...</td>\n",
       "      <td>2020-06-25T23:18:57Z</td>\n",
       "      <td>Abbsteroni</td>\n",
       "      <td>Having allergies is annoying but I’m glad to s...</td>\n",
       "      <td>NaN</td>\n",
       "      <td>NaN</td>\n",
       "      <td>NaN</td>\n",
       "      <td>en</td>\n",
       "      <td>Happy to finally see when and why I ca n’t bre...</td>\n",
       "      <td>Having allergies is annoying but I ’m glad to ...</td>\n",
       "    </tr>\n",
       "    <tr>\n",
       "      <th>1</th>\n",
       "      <td>1</td>\n",
       "      <td>982</td>\n",
       "      <td>6114444527</td>\n",
       "      <td>5</td>\n",
       "      <td>Super</td>\n",
       "      <td>2020-06-24T02:12:59Z</td>\n",
       "      <td>WillJosue</td>\n",
       "      <td>Easy to keep track on specific Local areas</td>\n",
       "      <td>NaN</td>\n",
       "      <td>NaN</td>\n",
       "      <td>NaN</td>\n",
       "      <td>en</td>\n",
       "      <td>Super</td>\n",
       "      <td>Easy to keep track on specific Local areas</td>\n",
       "    </tr>\n",
       "    <tr>\n",
       "      <th>2</th>\n",
       "      <td>2</td>\n",
       "      <td>1965</td>\n",
       "      <td>6114325210</td>\n",
       "      <td>5</td>\n",
       "      <td>Great App</td>\n",
       "      <td>2020-06-24T01:31:38Z</td>\n",
       "      <td>Nejinater</td>\n",
       "      <td>Full of good information!</td>\n",
       "      <td>NaN</td>\n",
       "      <td>NaN</td>\n",
       "      <td>NaN</td>\n",
       "      <td>en</td>\n",
       "      <td>Great App</td>\n",
       "      <td>Full of good information !</td>\n",
       "    </tr>\n",
       "    <tr>\n",
       "      <th>3</th>\n",
       "      <td>3</td>\n",
       "      <td>797</td>\n",
       "      <td>6111838742</td>\n",
       "      <td>5</td>\n",
       "      <td>Great app for filtering the air</td>\n",
       "      <td>2020-06-23T11:01:04Z</td>\n",
       "      <td>Jamieissad</td>\n",
       "      <td>Tells you everything you need to know about th...</td>\n",
       "      <td>NaN</td>\n",
       "      <td>NaN</td>\n",
       "      <td>NaN</td>\n",
       "      <td>en</td>\n",
       "      <td>Great app for filtering the air</td>\n",
       "      <td>Tells you everything you need to know about th...</td>\n",
       "    </tr>\n",
       "    <tr>\n",
       "      <th>4</th>\n",
       "      <td>4</td>\n",
       "      <td>962</td>\n",
       "      <td>6104666348</td>\n",
       "      <td>5</td>\n",
       "      <td>I look everyday</td>\n",
       "      <td>2020-06-21T14:29:25Z</td>\n",
       "      <td>TorchPitchfork</td>\n",
       "      <td>This is part of my daily planning. I love the ...</td>\n",
       "      <td>NaN</td>\n",
       "      <td>NaN</td>\n",
       "      <td>NaN</td>\n",
       "      <td>en</td>\n",
       "      <td>I look everyday</td>\n",
       "      <td>This is part of my daily planning . I love the...</td>\n",
       "    </tr>\n",
       "  </tbody>\n",
       "</table>\n",
       "</div>"
      ],
      "text/plain": [
       "   Unnamed: 0  Unnamed: 0.1   review_id  rating  \\\n",
       "0           0          3095  6121840341       5   \n",
       "1           1           982  6114444527       5   \n",
       "2           2          1965  6114325210       5   \n",
       "3           3           797  6111838742       5   \n",
       "4           4           962  6104666348       5   \n",
       "\n",
       "                                               title           review_date  \\\n",
       "0  Happy to finally see when and why I can’t brea...  2020-06-25T23:18:57Z   \n",
       "1                                              Super  2020-06-24T02:12:59Z   \n",
       "2                                          Great App  2020-06-24T01:31:38Z   \n",
       "3                    Great app for filtering the air  2020-06-23T11:01:04Z   \n",
       "4                                    I look everyday  2020-06-21T14:29:25Z   \n",
       "\n",
       "        user_name                                             review  \\\n",
       "0      Abbsteroni  Having allergies is annoying but I’m glad to s...   \n",
       "1       WillJosue         Easy to keep track on specific Local areas   \n",
       "2       Nejinater                          Full of good information!   \n",
       "3      Jamieissad  Tells you everything you need to know about th...   \n",
       "4  TorchPitchfork  This is part of my daily planning. I love the ...   \n",
       "\n",
       "   response_id dev_response response_date lang  \\\n",
       "0          NaN          NaN           NaN   en   \n",
       "1          NaN          NaN           NaN   en   \n",
       "2          NaN          NaN           NaN   en   \n",
       "3          NaN          NaN           NaN   en   \n",
       "4          NaN          NaN           NaN   en   \n",
       "\n",
       "                                      title_expanded  \\\n",
       "0  Happy to finally see when and why I ca n’t bre...   \n",
       "1                                              Super   \n",
       "2                                          Great App   \n",
       "3                    Great app for filtering the air   \n",
       "4                                    I look everyday   \n",
       "\n",
       "                                     review_expanded  \n",
       "0  Having allergies is annoying but I ’m glad to ...  \n",
       "1         Easy to keep track on specific Local areas  \n",
       "2                         Full of good information !  \n",
       "3  Tells you everything you need to know about th...  \n",
       "4  This is part of my daily planning . I love the...  "
      ]
     },
     "execution_count": 9,
     "metadata": {},
     "output_type": "execute_result"
    }
   ],
   "source": [
    "df.head()"
   ]
  },
  {
   "cell_type": "markdown",
   "metadata": {},
   "source": [
    "## Define a function to convert emojis and emoticons"
   ]
  },
  {
   "cell_type": "code",
   "execution_count": 106,
   "metadata": {},
   "outputs": [],
   "source": [
    "# load emoji dictionary\n",
    "with open(path+'/Emoji_Dict.p', 'rb') as fp:\n",
    "    Emoji_Dict = pickle.load(fp)"
   ]
  },
  {
   "cell_type": "code",
   "execution_count": 107,
   "metadata": {},
   "outputs": [],
   "source": [
    "# we swap keys and values of the Emoji_Dict, such that emojis become keys (instead of values) of the dictionary\n",
    "Emoji_Dict = {v: k for k, v in Emoji_Dict.items()}"
   ]
  },
  {
   "cell_type": "code",
   "execution_count": 108,
   "metadata": {},
   "outputs": [],
   "source": [
    "# define a function for converting emojis into word\n",
    "def convert_emojis_to_word(text):\n",
    "    for emot in Emoji_Dict:\n",
    "        text = re.sub(r'('+emot+')', \" \"+\"_\".join(Emoji_Dict[emot].replace(\",\",\"\").replace(\":\",\"\").split())+\" \", text)\n",
    "    return text"
   ]
  },
  {
   "cell_type": "code",
   "execution_count": 109,
   "metadata": {},
   "outputs": [
    {
     "name": "stdout",
     "output_type": "stream",
     "text": [
      "What a great app , beautiful design, useful handling , perfect information 👍 5 stars and high recommended. What I miss ? Only 1 thing , a complication for the Siri watchface , it would be so cool when I see t by rough the day some cards with the air data on my Siri watchface 👍 any chance for this feature? Keep working on this app ist a 5 Star app 👍\n"
     ]
    }
   ],
   "source": [
    "text = df.iloc[11].loc['review']\n",
    "print(text)"
   ]
  },
  {
   "cell_type": "code",
   "execution_count": 110,
   "metadata": {},
   "outputs": [
    {
     "data": {
      "text/plain": [
       "'What a great app , beautiful design, useful handling , perfect information  thumbs_up  5 stars and high recommended. What I miss ? Only 1 thing , a complication for the Siri watchface , it would be so cool when I see t by rough the day some cards with the air data on my Siri watchface  thumbs_up  any chance for this feature? Keep working on this app ist a 5 Star app  thumbs_up '"
      ]
     },
     "execution_count": 110,
     "metadata": {},
     "output_type": "execute_result"
    }
   ],
   "source": [
    "convert_emojis_to_word(text)"
   ]
  },
  {
   "cell_type": "code",
   "execution_count": 111,
   "metadata": {},
   "outputs": [
    {
     "name": "stdout",
     "output_type": "stream",
     "text": [
      "Fast and easy to use 😂👍🙏\n"
     ]
    },
    {
     "data": {
      "text/plain": [
       "'Fast and easy to use  face_with_tears_of_joy  thumbs_up  folded_hands '"
      ]
     },
     "execution_count": 111,
     "metadata": {},
     "output_type": "execute_result"
    }
   ],
   "source": [
    "text = df.iloc[12].loc['review']\n",
    "print(text)\n",
    "convert_emojis_to_word(text)"
   ]
  },
  {
   "cell_type": "markdown",
   "metadata": {},
   "source": [
    "NB : need to separate emojis, one from another."
   ]
  },
  {
   "cell_type": "markdown",
   "metadata": {},
   "source": [
    "## Define a function to convert emoticons"
   ]
  },
  {
   "cell_type": "code",
   "execution_count": 112,
   "metadata": {},
   "outputs": [],
   "source": [
    "# load emoticon dictionary\n",
    "with open(path+'/Emoticon_Dict.p', 'rb') as fp:\n",
    "    Emoticon_Dict = pickle.load(fp)"
   ]
  },
  {
   "cell_type": "code",
   "execution_count": 113,
   "metadata": {},
   "outputs": [],
   "source": [
    "# define a function for converting emoticons into word\n",
    "def convert_emoticons_to_word(text):\n",
    "    for emot in Emoticon_Dict:\n",
    "        text = re.sub(u'('+emot+')', \"_\".join(Emoticon_Dict[emot].replace(\",\",\"\").replace(\":\",\"\").split())+\" \", text)\n",
    "    return text "
   ]
  },
  {
   "cell_type": "code",
   "execution_count": 114,
   "metadata": {},
   "outputs": [
    {
     "name": "stdout",
     "output_type": "stream",
     "text": [
      "That is my daily application at the moment and can’t stop using it - Thank you :)\n"
     ]
    }
   ],
   "source": [
    "print(df.iloc[84].loc['review'])"
   ]
  },
  {
   "cell_type": "code",
   "execution_count": 115,
   "metadata": {},
   "outputs": [
    {
     "data": {
      "text/plain": [
       "'That is my daily application at the moment and can’t stop using it - Thank you Happy_face_or_smiley '"
      ]
     },
     "execution_count": 115,
     "metadata": {},
     "output_type": "execute_result"
    }
   ],
   "source": [
    "convert_emoticons_to_word(df.iloc[84].loc['review'])"
   ]
  },
  {
   "cell_type": "markdown",
   "metadata": {},
   "source": [
    "## Convert emojis and emoticons into words"
   ]
  },
  {
   "cell_type": "code",
   "execution_count": 116,
   "metadata": {},
   "outputs": [
    {
     "data": {
      "text/plain": [
       "'What a great app , beautiful design, useful handling , perfect information  thumbs_up  5 stars and high recommended. What I miss ? Only 1 thing , a complication for the Siri watchface , it would be so cool when I see t by rough the day some cards with the air data on my Siri watchface  thumbs_up  any chance for this feature? Keep working on this app ist a 5 Star app  thumbs_up '"
      ]
     },
     "execution_count": 116,
     "metadata": {},
     "output_type": "execute_result"
    }
   ],
   "source": [
    "convert_emojis_to_word(df_test.iloc[1].loc['review'])"
   ]
  },
  {
   "cell_type": "code",
   "execution_count": 117,
   "metadata": {},
   "outputs": [],
   "source": [
    "df_test = df.iloc[10:15]"
   ]
  },
  {
   "cell_type": "code",
   "execution_count": 118,
   "metadata": {},
   "outputs": [
    {
     "name": "stderr",
     "output_type": "stream",
     "text": [
      "//anaconda/envs/nlp/lib/python3.6/site-packages/pandas/core/indexing.py:845: SettingWithCopyWarning: \n",
      "A value is trying to be set on a copy of a slice from a DataFrame.\n",
      "Try using .loc[row_indexer,col_indexer] = value instead\n",
      "\n",
      "See the caveats in the documentation: https://pandas.pydata.org/pandas-docs/stable/user_guide/indexing.html#returning-a-view-versus-a-copy\n",
      "  self.obj[key] = _infer_fill_value(value)\n",
      "//anaconda/envs/nlp/lib/python3.6/site-packages/pandas/core/indexing.py:966: SettingWithCopyWarning: \n",
      "A value is trying to be set on a copy of a slice from a DataFrame.\n",
      "Try using .loc[row_indexer,col_indexer] = value instead\n",
      "\n",
      "See the caveats in the documentation: https://pandas.pydata.org/pandas-docs/stable/user_guide/indexing.html#returning-a-view-versus-a-copy\n",
      "  self.obj[item] = s\n"
     ]
    }
   ],
   "source": [
    "df_test.loc[:,'title_transl_emo'] = df_test['title_expanded'].apply(convert_emojis_to_word).apply(convert_emoticons_to_word)"
   ]
  },
  {
   "cell_type": "code",
   "execution_count": 119,
   "metadata": {},
   "outputs": [
    {
     "data": {
      "text/html": [
       "<div>\n",
       "<style scoped>\n",
       "    .dataframe tbody tr th:only-of-type {\n",
       "        vertical-align: middle;\n",
       "    }\n",
       "\n",
       "    .dataframe tbody tr th {\n",
       "        vertical-align: top;\n",
       "    }\n",
       "\n",
       "    .dataframe thead th {\n",
       "        text-align: right;\n",
       "    }\n",
       "</style>\n",
       "<table border=\"1\" class=\"dataframe\">\n",
       "  <thead>\n",
       "    <tr style=\"text-align: right;\">\n",
       "      <th></th>\n",
       "      <th>Unnamed: 0</th>\n",
       "      <th>Unnamed: 0.1</th>\n",
       "      <th>review_id</th>\n",
       "      <th>rating</th>\n",
       "      <th>title</th>\n",
       "      <th>review_date</th>\n",
       "      <th>user_name</th>\n",
       "      <th>review</th>\n",
       "      <th>response_id</th>\n",
       "      <th>dev_response</th>\n",
       "      <th>response_date</th>\n",
       "      <th>lang</th>\n",
       "      <th>title_expanded</th>\n",
       "      <th>review_expanded</th>\n",
       "      <th>title_transl_emo</th>\n",
       "    </tr>\n",
       "  </thead>\n",
       "  <tbody>\n",
       "    <tr>\n",
       "      <th>10</th>\n",
       "      <td>10</td>\n",
       "      <td>2580</td>\n",
       "      <td>6052473443</td>\n",
       "      <td>5</td>\n",
       "      <td>good luv app</td>\n",
       "      <td>2020-06-08T23:06:36Z</td>\n",
       "      <td>맑은이의영상창고</td>\n",
       "      <td>clean world</td>\n",
       "      <td>NaN</td>\n",
       "      <td>NaN</td>\n",
       "      <td>NaN</td>\n",
       "      <td>en</td>\n",
       "      <td>good luv app</td>\n",
       "      <td>clean world</td>\n",
       "      <td>good luv app</td>\n",
       "    </tr>\n",
       "    <tr>\n",
       "      <th>11</th>\n",
       "      <td>11</td>\n",
       "      <td>300</td>\n",
       "      <td>6043053831</td>\n",
       "      <td>5</td>\n",
       "      <td>Perfect 👍</td>\n",
       "      <td>2020-06-06T15:00:25Z</td>\n",
       "      <td>Kofolu</td>\n",
       "      <td>What a great app , beautiful design, useful ha...</td>\n",
       "      <td>NaN</td>\n",
       "      <td>NaN</td>\n",
       "      <td>NaN</td>\n",
       "      <td>en</td>\n",
       "      <td>Perfect 👍</td>\n",
       "      <td>What a great app , beautiful design , useful h...</td>\n",
       "      <td>Perfect  thumbs_up</td>\n",
       "    </tr>\n",
       "    <tr>\n",
       "      <th>12</th>\n",
       "      <td>12</td>\n",
       "      <td>2150</td>\n",
       "      <td>6023976474</td>\n",
       "      <td>5</td>\n",
       "      <td>Great App</td>\n",
       "      <td>2020-06-02T02:11:14Z</td>\n",
       "      <td>Smile7777</td>\n",
       "      <td>Fast and easy to use 😂👍🙏</td>\n",
       "      <td>NaN</td>\n",
       "      <td>NaN</td>\n",
       "      <td>NaN</td>\n",
       "      <td>en</td>\n",
       "      <td>Great App</td>\n",
       "      <td>Fast and easy to use 😂 👍 🙏</td>\n",
       "      <td>Great App</td>\n",
       "    </tr>\n",
       "    <tr>\n",
       "      <th>13</th>\n",
       "      <td>13</td>\n",
       "      <td>1689</td>\n",
       "      <td>6012386491</td>\n",
       "      <td>5</td>\n",
       "      <td>Helpful</td>\n",
       "      <td>2020-05-30T06:36:46Z</td>\n",
       "      <td>nroose</td>\n",
       "      <td>Wish I didn’t need it.</td>\n",
       "      <td>NaN</td>\n",
       "      <td>NaN</td>\n",
       "      <td>NaN</td>\n",
       "      <td>en</td>\n",
       "      <td>Helpful</td>\n",
       "      <td>Wish I did n’t need it .</td>\n",
       "      <td>Helpful</td>\n",
       "    </tr>\n",
       "    <tr>\n",
       "      <th>14</th>\n",
       "      <td>14</td>\n",
       "      <td>1205</td>\n",
       "      <td>6012239877</td>\n",
       "      <td>5</td>\n",
       "      <td>Great app</td>\n",
       "      <td>2020-05-30T05:44:05Z</td>\n",
       "      <td>12lena34</td>\n",
       "      <td>Easy to use and great for checking everyday ai...</td>\n",
       "      <td>NaN</td>\n",
       "      <td>NaN</td>\n",
       "      <td>NaN</td>\n",
       "      <td>en</td>\n",
       "      <td>Great app</td>\n",
       "      <td>Easy to use and great for checking everyday ai...</td>\n",
       "      <td>Great app</td>\n",
       "    </tr>\n",
       "  </tbody>\n",
       "</table>\n",
       "</div>"
      ],
      "text/plain": [
       "    Unnamed: 0  Unnamed: 0.1   review_id  rating         title  \\\n",
       "10          10          2580  6052473443       5  good luv app   \n",
       "11          11           300  6043053831       5     Perfect 👍   \n",
       "12          12          2150  6023976474       5     Great App   \n",
       "13          13          1689  6012386491       5       Helpful   \n",
       "14          14          1205  6012239877       5     Great app   \n",
       "\n",
       "             review_date  user_name  \\\n",
       "10  2020-06-08T23:06:36Z   맑은이의영상창고   \n",
       "11  2020-06-06T15:00:25Z     Kofolu   \n",
       "12  2020-06-02T02:11:14Z  Smile7777   \n",
       "13  2020-05-30T06:36:46Z     nroose   \n",
       "14  2020-05-30T05:44:05Z   12lena34   \n",
       "\n",
       "                                               review  response_id  \\\n",
       "10                                        clean world          NaN   \n",
       "11  What a great app , beautiful design, useful ha...          NaN   \n",
       "12                           Fast and easy to use 😂👍🙏          NaN   \n",
       "13                             Wish I didn’t need it.          NaN   \n",
       "14  Easy to use and great for checking everyday ai...          NaN   \n",
       "\n",
       "   dev_response response_date lang title_expanded  \\\n",
       "10          NaN           NaN   en   good luv app   \n",
       "11          NaN           NaN   en      Perfect 👍   \n",
       "12          NaN           NaN   en      Great App   \n",
       "13          NaN           NaN   en        Helpful   \n",
       "14          NaN           NaN   en      Great app   \n",
       "\n",
       "                                      review_expanded     title_transl_emo  \n",
       "10                                        clean world         good luv app  \n",
       "11  What a great app , beautiful design , useful h...  Perfect  thumbs_up   \n",
       "12                         Fast and easy to use 😂 👍 🙏            Great App  \n",
       "13                           Wish I did n’t need it .              Helpful  \n",
       "14  Easy to use and great for checking everyday ai...            Great app  "
      ]
     },
     "execution_count": 119,
     "metadata": {},
     "output_type": "execute_result"
    }
   ],
   "source": [
    "df_test.head()"
   ]
  },
  {
   "cell_type": "code",
   "execution_count": 120,
   "metadata": {},
   "outputs": [
    {
     "name": "stderr",
     "output_type": "stream",
     "text": [
      "//anaconda/envs/nlp/lib/python3.6/site-packages/pandas/core/indexing.py:845: SettingWithCopyWarning: \n",
      "A value is trying to be set on a copy of a slice from a DataFrame.\n",
      "Try using .loc[row_indexer,col_indexer] = value instead\n",
      "\n",
      "See the caveats in the documentation: https://pandas.pydata.org/pandas-docs/stable/user_guide/indexing.html#returning-a-view-versus-a-copy\n",
      "  self.obj[key] = _infer_fill_value(value)\n",
      "//anaconda/envs/nlp/lib/python3.6/site-packages/pandas/core/indexing.py:966: SettingWithCopyWarning: \n",
      "A value is trying to be set on a copy of a slice from a DataFrame.\n",
      "Try using .loc[row_indexer,col_indexer] = value instead\n",
      "\n",
      "See the caveats in the documentation: https://pandas.pydata.org/pandas-docs/stable/user_guide/indexing.html#returning-a-view-versus-a-copy\n",
      "  self.obj[item] = s\n"
     ]
    }
   ],
   "source": [
    "df_test.loc[:,'review_transl_emo'] = df_test['review_expanded'].apply(convert_emojis_to_word).apply(convert_emoticons_to_word)"
   ]
  },
  {
   "cell_type": "code",
   "execution_count": 121,
   "metadata": {},
   "outputs": [],
   "source": [
    "df_test.loc[:,'review_transl_emo'] = df_test['review_expanded'].apply(convert_emojis_to_word).apply(convert_emoticons_to_word)"
   ]
  },
  {
   "cell_type": "code",
   "execution_count": 122,
   "metadata": {},
   "outputs": [
    {
     "data": {
      "text/html": [
       "<div>\n",
       "<style scoped>\n",
       "    .dataframe tbody tr th:only-of-type {\n",
       "        vertical-align: middle;\n",
       "    }\n",
       "\n",
       "    .dataframe tbody tr th {\n",
       "        vertical-align: top;\n",
       "    }\n",
       "\n",
       "    .dataframe thead th {\n",
       "        text-align: right;\n",
       "    }\n",
       "</style>\n",
       "<table border=\"1\" class=\"dataframe\">\n",
       "  <thead>\n",
       "    <tr style=\"text-align: right;\">\n",
       "      <th></th>\n",
       "      <th>Unnamed: 0</th>\n",
       "      <th>Unnamed: 0.1</th>\n",
       "      <th>review_id</th>\n",
       "      <th>rating</th>\n",
       "      <th>title</th>\n",
       "      <th>review_date</th>\n",
       "      <th>user_name</th>\n",
       "      <th>review</th>\n",
       "      <th>response_id</th>\n",
       "      <th>dev_response</th>\n",
       "      <th>response_date</th>\n",
       "      <th>lang</th>\n",
       "      <th>title_expanded</th>\n",
       "      <th>review_expanded</th>\n",
       "      <th>title_transl_emo</th>\n",
       "      <th>review_transl_emo</th>\n",
       "    </tr>\n",
       "  </thead>\n",
       "  <tbody>\n",
       "    <tr>\n",
       "      <th>10</th>\n",
       "      <td>10</td>\n",
       "      <td>2580</td>\n",
       "      <td>6052473443</td>\n",
       "      <td>5</td>\n",
       "      <td>good luv app</td>\n",
       "      <td>2020-06-08T23:06:36Z</td>\n",
       "      <td>맑은이의영상창고</td>\n",
       "      <td>clean world</td>\n",
       "      <td>NaN</td>\n",
       "      <td>NaN</td>\n",
       "      <td>NaN</td>\n",
       "      <td>en</td>\n",
       "      <td>good luv app</td>\n",
       "      <td>clean world</td>\n",
       "      <td>good luv app</td>\n",
       "      <td>clean world</td>\n",
       "    </tr>\n",
       "    <tr>\n",
       "      <th>11</th>\n",
       "      <td>11</td>\n",
       "      <td>300</td>\n",
       "      <td>6043053831</td>\n",
       "      <td>5</td>\n",
       "      <td>Perfect 👍</td>\n",
       "      <td>2020-06-06T15:00:25Z</td>\n",
       "      <td>Kofolu</td>\n",
       "      <td>What a great app , beautiful design, useful ha...</td>\n",
       "      <td>NaN</td>\n",
       "      <td>NaN</td>\n",
       "      <td>NaN</td>\n",
       "      <td>en</td>\n",
       "      <td>Perfect 👍</td>\n",
       "      <td>What a great app , beautiful design , useful h...</td>\n",
       "      <td>Perfect  thumbs_up</td>\n",
       "      <td>What a great app , beautiful design , useful h...</td>\n",
       "    </tr>\n",
       "    <tr>\n",
       "      <th>12</th>\n",
       "      <td>12</td>\n",
       "      <td>2150</td>\n",
       "      <td>6023976474</td>\n",
       "      <td>5</td>\n",
       "      <td>Great App</td>\n",
       "      <td>2020-06-02T02:11:14Z</td>\n",
       "      <td>Smile7777</td>\n",
       "      <td>Fast and easy to use 😂👍🙏</td>\n",
       "      <td>NaN</td>\n",
       "      <td>NaN</td>\n",
       "      <td>NaN</td>\n",
       "      <td>en</td>\n",
       "      <td>Great App</td>\n",
       "      <td>Fast and easy to use 😂 👍 🙏</td>\n",
       "      <td>Great App</td>\n",
       "      <td>Fast and easy to use  face_with_tears_of_joy  ...</td>\n",
       "    </tr>\n",
       "    <tr>\n",
       "      <th>13</th>\n",
       "      <td>13</td>\n",
       "      <td>1689</td>\n",
       "      <td>6012386491</td>\n",
       "      <td>5</td>\n",
       "      <td>Helpful</td>\n",
       "      <td>2020-05-30T06:36:46Z</td>\n",
       "      <td>nroose</td>\n",
       "      <td>Wish I didn’t need it.</td>\n",
       "      <td>NaN</td>\n",
       "      <td>NaN</td>\n",
       "      <td>NaN</td>\n",
       "      <td>en</td>\n",
       "      <td>Helpful</td>\n",
       "      <td>Wish I did n’t need it .</td>\n",
       "      <td>Helpful</td>\n",
       "      <td>Wish I did n’t need it .</td>\n",
       "    </tr>\n",
       "    <tr>\n",
       "      <th>14</th>\n",
       "      <td>14</td>\n",
       "      <td>1205</td>\n",
       "      <td>6012239877</td>\n",
       "      <td>5</td>\n",
       "      <td>Great app</td>\n",
       "      <td>2020-05-30T05:44:05Z</td>\n",
       "      <td>12lena34</td>\n",
       "      <td>Easy to use and great for checking everyday ai...</td>\n",
       "      <td>NaN</td>\n",
       "      <td>NaN</td>\n",
       "      <td>NaN</td>\n",
       "      <td>en</td>\n",
       "      <td>Great app</td>\n",
       "      <td>Easy to use and great for checking everyday ai...</td>\n",
       "      <td>Great app</td>\n",
       "      <td>Easy to use and great for checking everyday ai...</td>\n",
       "    </tr>\n",
       "  </tbody>\n",
       "</table>\n",
       "</div>"
      ],
      "text/plain": [
       "    Unnamed: 0  Unnamed: 0.1   review_id  rating         title  \\\n",
       "10          10          2580  6052473443       5  good luv app   \n",
       "11          11           300  6043053831       5     Perfect 👍   \n",
       "12          12          2150  6023976474       5     Great App   \n",
       "13          13          1689  6012386491       5       Helpful   \n",
       "14          14          1205  6012239877       5     Great app   \n",
       "\n",
       "             review_date  user_name  \\\n",
       "10  2020-06-08T23:06:36Z   맑은이의영상창고   \n",
       "11  2020-06-06T15:00:25Z     Kofolu   \n",
       "12  2020-06-02T02:11:14Z  Smile7777   \n",
       "13  2020-05-30T06:36:46Z     nroose   \n",
       "14  2020-05-30T05:44:05Z   12lena34   \n",
       "\n",
       "                                               review  response_id  \\\n",
       "10                                        clean world          NaN   \n",
       "11  What a great app , beautiful design, useful ha...          NaN   \n",
       "12                           Fast and easy to use 😂👍🙏          NaN   \n",
       "13                             Wish I didn’t need it.          NaN   \n",
       "14  Easy to use and great for checking everyday ai...          NaN   \n",
       "\n",
       "   dev_response response_date lang title_expanded  \\\n",
       "10          NaN           NaN   en   good luv app   \n",
       "11          NaN           NaN   en      Perfect 👍   \n",
       "12          NaN           NaN   en      Great App   \n",
       "13          NaN           NaN   en        Helpful   \n",
       "14          NaN           NaN   en      Great app   \n",
       "\n",
       "                                      review_expanded     title_transl_emo  \\\n",
       "10                                        clean world         good luv app   \n",
       "11  What a great app , beautiful design , useful h...  Perfect  thumbs_up    \n",
       "12                         Fast and easy to use 😂 👍 🙏            Great App   \n",
       "13                           Wish I did n’t need it .              Helpful   \n",
       "14  Easy to use and great for checking everyday ai...            Great app   \n",
       "\n",
       "                                    review_transl_emo  \n",
       "10                                        clean world  \n",
       "11  What a great app , beautiful design , useful h...  \n",
       "12  Fast and easy to use  face_with_tears_of_joy  ...  \n",
       "13                           Wish I did n’t need it .  \n",
       "14  Easy to use and great for checking everyday ai...  "
      ]
     },
     "execution_count": 122,
     "metadata": {},
     "output_type": "execute_result"
    }
   ],
   "source": [
    "df_test.head()"
   ]
  },
  {
   "cell_type": "code",
   "execution_count": 123,
   "metadata": {},
   "outputs": [],
   "source": [
    "# convert emojis and emoticons in review title\n",
    "df.loc[:,'title_transl_emo'] = df['title_expanded'].apply(convert_emojis_to_word).apply(convert_emoticons_to_word)"
   ]
  },
  {
   "cell_type": "code",
   "execution_count": 124,
   "metadata": {},
   "outputs": [],
   "source": [
    "# convert emojis and emoticons in review text\n",
    "df.loc[:,'review_transl_emo'] = df['review_expanded'].apply(convert_emojis_to_word).apply(convert_emoticons_to_word)"
   ]
  },
  {
   "cell_type": "markdown",
   "metadata": {},
   "source": [
    "## Export file"
   ]
  },
  {
   "cell_type": "code",
   "execution_count": 125,
   "metadata": {},
   "outputs": [
    {
     "data": {
      "text/plain": [
       "'app_reviews_airvisual-air-quality-forecast_1048912974_by_lang_us_exp_abb_transl_emo.csv'"
      ]
     },
     "execution_count": 125,
     "metadata": {},
     "output_type": "execute_result"
    }
   ],
   "source": [
    "export_filename = filename[:-4]+'_transl_emo.csv'\n",
    "export_filename"
   ]
  },
  {
   "cell_type": "code",
   "execution_count": 126,
   "metadata": {},
   "outputs": [
    {
     "data": {
      "text/plain": [
       "'/../data/1_preprocessed_data/'"
      ]
     },
     "execution_count": 126,
     "metadata": {},
     "output_type": "execute_result"
    }
   ],
   "source": [
    "export_subfolder = '/../data/1_preprocessed_data/'\n",
    "export_subfolder"
   ]
  },
  {
   "cell_type": "code",
   "execution_count": 127,
   "metadata": {},
   "outputs": [],
   "source": [
    "df.to_csv(path+export_subfolder+export_filename)"
   ]
  },
  {
   "cell_type": "code",
   "execution_count": null,
   "metadata": {},
   "outputs": [],
   "source": []
  }
 ],
 "metadata": {
  "kernelspec": {
   "display_name": "Python 3",
   "language": "python",
   "name": "python3"
  },
  "language_info": {
   "codemirror_mode": {
    "name": "ipython",
    "version": 3
   },
   "file_extension": ".py",
   "mimetype": "text/x-python",
   "name": "python",
   "nbconvert_exporter": "python",
   "pygments_lexer": "ipython3",
   "version": "3.6.10"
  },
  "toc": {
   "base_numbering": 1,
   "nav_menu": {},
   "number_sections": true,
   "sideBar": true,
   "skip_h1_title": false,
   "title_cell": "Table of Contents",
   "title_sidebar": "Contents",
   "toc_cell": true,
   "toc_position": {},
   "toc_section_display": true,
   "toc_window_display": false
  }
 },
 "nbformat": 4,
 "nbformat_minor": 4
}

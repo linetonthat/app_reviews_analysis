{
 "cells": [
  {
   "cell_type": "markdown",
   "metadata": {
    "toc": true
   },
   "source": [
    "<h1>Table of Contents<span class=\"tocSkip\"></span></h1>\n",
    "<div class=\"toc\"><ul class=\"toc-item\"><li><span><a href=\"#Preprocessing,-exploration-and-export-of-app-reviews-[Plume---USA]\" data-toc-modified-id=\"Preprocessing,-exploration-and-export-of-app-reviews-[Plume---USA]-1\"><span class=\"toc-item-num\">1&nbsp;&nbsp;</span>Preprocessing, exploration and export of app reviews [Plume - USA]</a></span><ul class=\"toc-item\"><li><span><a href=\"#Load-data\" data-toc-modified-id=\"Load-data-1.1\"><span class=\"toc-item-num\">1.1&nbsp;&nbsp;</span>Load data</a></span></li><li><span><a href=\"#Ratings\" data-toc-modified-id=\"Ratings-1.2\"><span class=\"toc-item-num\">1.2&nbsp;&nbsp;</span>Ratings</a></span></li><li><span><a href=\"#Detect-language\" data-toc-modified-id=\"Detect-language-1.3\"><span class=\"toc-item-num\">1.3&nbsp;&nbsp;</span>Detect language</a></span></li><li><span><a href=\"#Sort-data\" data-toc-modified-id=\"Sort-data-1.4\"><span class=\"toc-item-num\">1.4&nbsp;&nbsp;</span>Sort data</a></span></li><li><span><a href=\"#Export-data\" data-toc-modified-id=\"Export-data-1.5\"><span class=\"toc-item-num\">1.5&nbsp;&nbsp;</span>Export data</a></span></li></ul></li></ul></div>"
   ]
  },
  {
   "cell_type": "markdown",
   "metadata": {},
   "source": [
    "# Preprocessing, exploration and export of app reviews [Plume - USA]"
   ]
  },
  {
   "cell_type": "markdown",
   "metadata": {},
   "source": [
    "Here reviews are taken from the US appstore: [Plume](https://apps.apple.com/us/app/plume-air-report-pollution/id950289243). We proceed in a similar way as for the reviews collected on the French appstore."
   ]
  },
  {
   "cell_type": "code",
   "execution_count": 1,
   "metadata": {},
   "outputs": [],
   "source": [
    "import pandas as pd\n",
    "from langdetect import detect\n",
    "import warnings\n",
    "warnings.filterwarnings('ignore')\n",
    "import os"
   ]
  },
  {
   "cell_type": "markdown",
   "metadata": {},
   "source": [
    "## Load data"
   ]
  },
  {
   "cell_type": "code",
   "execution_count": 2,
   "metadata": {},
   "outputs": [],
   "source": [
    "path = os.getcwd()\n",
    "filename ='app_reviews_plume_us.json' "
   ]
  },
  {
   "cell_type": "code",
   "execution_count": 3,
   "metadata": {},
   "outputs": [],
   "source": [
    "df = pd.read_json(path+\"/../data/0_scraped_data/\"+filename)"
   ]
  },
  {
   "cell_type": "code",
   "execution_count": 4,
   "metadata": {},
   "outputs": [
    {
     "data": {
      "text/html": [
       "<div>\n",
       "<style scoped>\n",
       "    .dataframe tbody tr th:only-of-type {\n",
       "        vertical-align: middle;\n",
       "    }\n",
       "\n",
       "    .dataframe tbody tr th {\n",
       "        vertical-align: top;\n",
       "    }\n",
       "\n",
       "    .dataframe thead th {\n",
       "        text-align: right;\n",
       "    }\n",
       "</style>\n",
       "<table border=\"1\" class=\"dataframe\">\n",
       "  <thead>\n",
       "    <tr style=\"text-align: right;\">\n",
       "      <th></th>\n",
       "      <th>review_id</th>\n",
       "      <th>rating</th>\n",
       "      <th>title</th>\n",
       "      <th>review_date</th>\n",
       "      <th>user_name</th>\n",
       "      <th>review</th>\n",
       "      <th>response_id</th>\n",
       "      <th>dev_response</th>\n",
       "      <th>response_date</th>\n",
       "    </tr>\n",
       "  </thead>\n",
       "  <tbody>\n",
       "    <tr>\n",
       "      <th>0</th>\n",
       "      <td>1977613148</td>\n",
       "      <td>5</td>\n",
       "      <td>Everyone should be using this APP</td>\n",
       "      <td>2017-12-07T14:41:53Z</td>\n",
       "      <td>KC3M</td>\n",
       "      <td>I've been using Plume for almost a year and ha...</td>\n",
       "      <td>NaN</td>\n",
       "      <td>NaN</td>\n",
       "      <td>NaN</td>\n",
       "    </tr>\n",
       "    <tr>\n",
       "      <th>1</th>\n",
       "      <td>2030111284</td>\n",
       "      <td>4</td>\n",
       "      <td>Look no further!</td>\n",
       "      <td>2017-12-26T22:04:10Z</td>\n",
       "      <td>Jacques Matineau</td>\n",
       "      <td>This app does what is says and quite well. \\n\\...</td>\n",
       "      <td>2145616.0</td>\n",
       "      <td>Many thanks for your review and detailed feedb...</td>\n",
       "      <td>2017-12-27T16:33:02Z</td>\n",
       "    </tr>\n",
       "    <tr>\n",
       "      <th>2</th>\n",
       "      <td>3969994802</td>\n",
       "      <td>5</td>\n",
       "      <td>So far so good!</td>\n",
       "      <td>2019-04-04T21:48:24Z</td>\n",
       "      <td>littleapples</td>\n",
       "      <td>Just learned about this and got it on the basi...</td>\n",
       "      <td>NaN</td>\n",
       "      <td>NaN</td>\n",
       "      <td>NaN</td>\n",
       "    </tr>\n",
       "    <tr>\n",
       "      <th>3</th>\n",
       "      <td>2163867122</td>\n",
       "      <td>5</td>\n",
       "      <td>Great if you have asthma</td>\n",
       "      <td>2018-02-03T23:25:26Z</td>\n",
       "      <td>Much Kuler</td>\n",
       "      <td>I use this daily so I know the best time to go...</td>\n",
       "      <td>2469302.0</td>\n",
       "      <td>Thank you very much for your suggestion. We va...</td>\n",
       "      <td>2018-02-01T14:29:16Z</td>\n",
       "    </tr>\n",
       "    <tr>\n",
       "      <th>4</th>\n",
       "      <td>3677839043</td>\n",
       "      <td>5</td>\n",
       "      <td>Phenomenal and Life Saving</td>\n",
       "      <td>2019-01-21T14:37:57Z</td>\n",
       "      <td>MDTannen</td>\n",
       "      <td>Plume worked so well to protect my family memb...</td>\n",
       "      <td>NaN</td>\n",
       "      <td>NaN</td>\n",
       "      <td>NaN</td>\n",
       "    </tr>\n",
       "  </tbody>\n",
       "</table>\n",
       "</div>"
      ],
      "text/plain": [
       "    review_id  rating                              title  \\\n",
       "0  1977613148       5  Everyone should be using this APP   \n",
       "1  2030111284       4                   Look no further!   \n",
       "2  3969994802       5                    So far so good!   \n",
       "3  2163867122       5           Great if you have asthma   \n",
       "4  3677839043       5         Phenomenal and Life Saving   \n",
       "\n",
       "            review_date         user_name  \\\n",
       "0  2017-12-07T14:41:53Z              KC3M   \n",
       "1  2017-12-26T22:04:10Z  Jacques Matineau   \n",
       "2  2019-04-04T21:48:24Z      littleapples   \n",
       "3  2018-02-03T23:25:26Z        Much Kuler   \n",
       "4  2019-01-21T14:37:57Z          MDTannen   \n",
       "\n",
       "                                              review  response_id  \\\n",
       "0  I've been using Plume for almost a year and ha...          NaN   \n",
       "1  This app does what is says and quite well. \\n\\...    2145616.0   \n",
       "2  Just learned about this and got it on the basi...          NaN   \n",
       "3  I use this daily so I know the best time to go...    2469302.0   \n",
       "4  Plume worked so well to protect my family memb...          NaN   \n",
       "\n",
       "                                        dev_response         response_date  \n",
       "0                                                NaN                   NaN  \n",
       "1  Many thanks for your review and detailed feedb...  2017-12-27T16:33:02Z  \n",
       "2                                                NaN                   NaN  \n",
       "3  Thank you very much for your suggestion. We va...  2018-02-01T14:29:16Z  \n",
       "4                                                NaN                   NaN  "
      ]
     },
     "execution_count": 4,
     "metadata": {},
     "output_type": "execute_result"
    }
   ],
   "source": [
    "df.head()"
   ]
  },
  {
   "cell_type": "code",
   "execution_count": 5,
   "metadata": {},
   "outputs": [
    {
     "data": {
      "text/plain": [
       "Index(['review_id', 'rating', 'title', 'review_date', 'user_name', 'review',\n",
       "       'response_id', 'dev_response', 'response_date'],\n",
       "      dtype='object')"
      ]
     },
     "execution_count": 5,
     "metadata": {},
     "output_type": "execute_result"
    }
   ],
   "source": [
    "df.columns"
   ]
  },
  {
   "cell_type": "code",
   "execution_count": 6,
   "metadata": {},
   "outputs": [
    {
     "name": "stdout",
     "output_type": "stream",
     "text": [
      "<class 'pandas.core.frame.DataFrame'>\n",
      "RangeIndex: 130 entries, 0 to 129\n",
      "Data columns (total 9 columns):\n",
      " #   Column         Non-Null Count  Dtype  \n",
      "---  ------         --------------  -----  \n",
      " 0   review_id      130 non-null    int64  \n",
      " 1   rating         130 non-null    int64  \n",
      " 2   title          130 non-null    object \n",
      " 3   review_date    130 non-null    object \n",
      " 4   user_name      130 non-null    object \n",
      " 5   review         130 non-null    object \n",
      " 6   response_id    16 non-null     float64\n",
      " 7   dev_response   16 non-null     object \n",
      " 8   response_date  16 non-null     object \n",
      "dtypes: float64(1), int64(2), object(6)\n",
      "memory usage: 9.3+ KB\n"
     ]
    }
   ],
   "source": [
    "df.info()"
   ]
  },
  {
   "cell_type": "code",
   "execution_count": 7,
   "metadata": {},
   "outputs": [
    {
     "data": {
      "text/plain": [
       "0      I've been using Plume for almost a year and ha...\n",
       "1      This app does what is says and quite well. \\n\\...\n",
       "2      Just learned about this and got it on the basi...\n",
       "3      I use this daily so I know the best time to go...\n",
       "4      Plume worked so well to protect my family memb...\n",
       "                             ...                        \n",
       "125    The AQI is consistently reading 50-100 points ...\n",
       "126    The app isn’t reporting the same stats as the ...\n",
       "127    Plume is a great resource to have (I live in S...\n",
       "128    Look assez vieux. Appli pas tres innovante et ...\n",
       "129    Update (2015/12/22)\\nLooks like Austin has bee...\n",
       "Name: review, Length: 130, dtype: object"
      ]
     },
     "execution_count": 7,
     "metadata": {},
     "output_type": "execute_result"
    }
   ],
   "source": [
    "df['review']"
   ]
  },
  {
   "cell_type": "markdown",
   "metadata": {},
   "source": [
    "## Ratings"
   ]
  },
  {
   "cell_type": "code",
   "execution_count": 8,
   "metadata": {},
   "outputs": [
    {
     "data": {
      "text/plain": [
       "5    61\n",
       "1    26\n",
       "3    18\n",
       "4    13\n",
       "2    12\n",
       "Name: rating, dtype: int64"
      ]
     },
     "execution_count": 8,
     "metadata": {},
     "output_type": "execute_result"
    }
   ],
   "source": [
    "# assess the distribution of ratings\n",
    "df['rating'].value_counts()"
   ]
  },
  {
   "cell_type": "code",
   "execution_count": 9,
   "metadata": {},
   "outputs": [
    {
     "data": {
      "text/plain": [
       "3.546153846153846"
      ]
     },
     "execution_count": 9,
     "metadata": {},
     "output_type": "execute_result"
    }
   ],
   "source": [
    "# assess mean rating\n",
    "df['rating'].mean()"
   ]
  },
  {
   "cell_type": "markdown",
   "metadata": {},
   "source": [
    "## Detect language"
   ]
  },
  {
   "cell_type": "code",
   "execution_count": 10,
   "metadata": {
    "code_folding": []
   },
   "outputs": [],
   "source": [
    "# Define a function to identify language and catch exceptions\n",
    "def lang_detect(text):\n",
    "    # use deterministic approach for language detection\n",
    "    from langdetect import DetectorFactory\n",
    "    DetectorFactory.seed = 0\n",
    "    try:\n",
    "        return detect(text)\n",
    "    except:\n",
    "        return \"language not detected\""
   ]
  },
  {
   "cell_type": "code",
   "execution_count": 11,
   "metadata": {},
   "outputs": [],
   "source": [
    "# Detect the language used in the reviews\n",
    "df['lang-r'] = df['review'].apply(lang_detect)"
   ]
  },
  {
   "cell_type": "code",
   "execution_count": 12,
   "metadata": {},
   "outputs": [
    {
     "data": {
      "text/plain": [
       "array(['en', 'ro', 'af', 'es', 'fr'], dtype=object)"
      ]
     },
     "execution_count": 12,
     "metadata": {},
     "output_type": "execute_result"
    }
   ],
   "source": [
    "# What are the detected languages?\n",
    "df['lang-r'].unique()"
   ]
  },
  {
   "cell_type": "code",
   "execution_count": 13,
   "metadata": {},
   "outputs": [
    {
     "data": {
      "text/plain": [
       "5"
      ]
     },
     "execution_count": 13,
     "metadata": {},
     "output_type": "execute_result"
    }
   ],
   "source": [
    "len(df[df['lang-r']!='en'])"
   ]
  },
  {
   "cell_type": "code",
   "execution_count": 14,
   "metadata": {},
   "outputs": [
    {
     "data": {
      "text/html": [
       "<div>\n",
       "<style scoped>\n",
       "    .dataframe tbody tr th:only-of-type {\n",
       "        vertical-align: middle;\n",
       "    }\n",
       "\n",
       "    .dataframe tbody tr th {\n",
       "        vertical-align: top;\n",
       "    }\n",
       "\n",
       "    .dataframe thead th {\n",
       "        text-align: right;\n",
       "    }\n",
       "</style>\n",
       "<table border=\"1\" class=\"dataframe\">\n",
       "  <thead>\n",
       "    <tr style=\"text-align: right;\">\n",
       "      <th></th>\n",
       "      <th>review_id</th>\n",
       "      <th>rating</th>\n",
       "      <th>title</th>\n",
       "      <th>review_date</th>\n",
       "      <th>user_name</th>\n",
       "      <th>review</th>\n",
       "      <th>response_id</th>\n",
       "      <th>dev_response</th>\n",
       "      <th>response_date</th>\n",
       "      <th>lang-r</th>\n",
       "    </tr>\n",
       "  </thead>\n",
       "  <tbody>\n",
       "    <tr>\n",
       "      <th>55</th>\n",
       "      <td>1552482348</td>\n",
       "      <td>5</td>\n",
       "      <td>Great information</td>\n",
       "      <td>2017-02-25T18:32:59Z</td>\n",
       "      <td>Omar Jonguitud</td>\n",
       "      <td>Quite useful</td>\n",
       "      <td>NaN</td>\n",
       "      <td>NaN</td>\n",
       "      <td>NaN</td>\n",
       "      <td>ro</td>\n",
       "    </tr>\n",
       "    <tr>\n",
       "      <th>68</th>\n",
       "      <td>5182439168</td>\n",
       "      <td>5</td>\n",
       "      <td>Stay safe with Plume</td>\n",
       "      <td>2019-11-22T18:20:14Z</td>\n",
       "      <td>City Otter NYC</td>\n",
       "      <td>After</td>\n",
       "      <td>NaN</td>\n",
       "      <td>NaN</td>\n",
       "      <td>NaN</td>\n",
       "      <td>af</td>\n",
       "    </tr>\n",
       "    <tr>\n",
       "      <th>120</th>\n",
       "      <td>1576466746</td>\n",
       "      <td>5</td>\n",
       "      <td>Muy útil</td>\n",
       "      <td>2017-03-30T16:46:55Z</td>\n",
       "      <td>Cadavis94</td>\n",
       "      <td>Siempre quise un app que brinde información so...</td>\n",
       "      <td>NaN</td>\n",
       "      <td>NaN</td>\n",
       "      <td>NaN</td>\n",
       "      <td>es</td>\n",
       "    </tr>\n",
       "    <tr>\n",
       "      <th>122</th>\n",
       "      <td>1311927439</td>\n",
       "      <td>5</td>\n",
       "      <td>NO TE ASFIXIES!</td>\n",
       "      <td>2016-01-06T02:36:47Z</td>\n",
       "      <td>«OpuS»</td>\n",
       "      <td>Excelente App para aminorar los posibles efect...</td>\n",
       "      <td>NaN</td>\n",
       "      <td>NaN</td>\n",
       "      <td>NaN</td>\n",
       "      <td>es</td>\n",
       "    </tr>\n",
       "    <tr>\n",
       "      <th>128</th>\n",
       "      <td>1362931952</td>\n",
       "      <td>2</td>\n",
       "      <td>Bof</td>\n",
       "      <td>2016-04-13T14:44:38Z</td>\n",
       "      <td>Jlex78</td>\n",
       "      <td>Look assez vieux. Appli pas tres innovante et ...</td>\n",
       "      <td>NaN</td>\n",
       "      <td>NaN</td>\n",
       "      <td>NaN</td>\n",
       "      <td>fr</td>\n",
       "    </tr>\n",
       "  </tbody>\n",
       "</table>\n",
       "</div>"
      ],
      "text/plain": [
       "      review_id  rating                 title           review_date  \\\n",
       "55   1552482348       5     Great information  2017-02-25T18:32:59Z   \n",
       "68   5182439168       5  Stay safe with Plume  2019-11-22T18:20:14Z   \n",
       "120  1576466746       5              Muy útil  2017-03-30T16:46:55Z   \n",
       "122  1311927439       5       NO TE ASFIXIES!  2016-01-06T02:36:47Z   \n",
       "128  1362931952       2                   Bof  2016-04-13T14:44:38Z   \n",
       "\n",
       "          user_name                                             review  \\\n",
       "55   Omar Jonguitud                                       Quite useful   \n",
       "68   City Otter NYC                                              After   \n",
       "120       Cadavis94  Siempre quise un app que brinde información so...   \n",
       "122          «OpuS»  Excelente App para aminorar los posibles efect...   \n",
       "128          Jlex78  Look assez vieux. Appli pas tres innovante et ...   \n",
       "\n",
       "     response_id dev_response response_date lang-r  \n",
       "55           NaN          NaN           NaN     ro  \n",
       "68           NaN          NaN           NaN     af  \n",
       "120          NaN          NaN           NaN     es  \n",
       "122          NaN          NaN           NaN     es  \n",
       "128          NaN          NaN           NaN     fr  "
      ]
     },
     "execution_count": 14,
     "metadata": {},
     "output_type": "execute_result"
    }
   ],
   "source": [
    "df[df['lang-r']!='en']"
   ]
  },
  {
   "cell_type": "markdown",
   "metadata": {},
   "source": [
    "## Sort data"
   ]
  },
  {
   "cell_type": "code",
   "execution_count": 22,
   "metadata": {},
   "outputs": [],
   "source": [
    "dfout = df[(df['lang-r']!='es')&(df['lang-r']!='fr')]"
   ]
  },
  {
   "cell_type": "code",
   "execution_count": 23,
   "metadata": {},
   "outputs": [
    {
     "data": {
      "text/plain": [
       "127"
      ]
     },
     "execution_count": 23,
     "metadata": {},
     "output_type": "execute_result"
    }
   ],
   "source": [
    "len(dfout)"
   ]
  },
  {
   "cell_type": "code",
   "execution_count": 24,
   "metadata": {},
   "outputs": [],
   "source": [
    "dfout = dfout.sort_values(by=['rating','review_date'], ascending = False)"
   ]
  },
  {
   "cell_type": "code",
   "execution_count": 25,
   "metadata": {},
   "outputs": [
    {
     "data": {
      "text/html": [
       "<div>\n",
       "<style scoped>\n",
       "    .dataframe tbody tr th:only-of-type {\n",
       "        vertical-align: middle;\n",
       "    }\n",
       "\n",
       "    .dataframe tbody tr th {\n",
       "        vertical-align: top;\n",
       "    }\n",
       "\n",
       "    .dataframe thead th {\n",
       "        text-align: right;\n",
       "    }\n",
       "</style>\n",
       "<table border=\"1\" class=\"dataframe\">\n",
       "  <thead>\n",
       "    <tr style=\"text-align: right;\">\n",
       "      <th></th>\n",
       "      <th>review_id</th>\n",
       "      <th>rating</th>\n",
       "      <th>title</th>\n",
       "      <th>review_date</th>\n",
       "      <th>user_name</th>\n",
       "      <th>review</th>\n",
       "      <th>response_id</th>\n",
       "      <th>dev_response</th>\n",
       "      <th>response_date</th>\n",
       "      <th>lang-r</th>\n",
       "    </tr>\n",
       "  </thead>\n",
       "  <tbody>\n",
       "    <tr>\n",
       "      <th>34</th>\n",
       "      <td>5860156783</td>\n",
       "      <td>5</td>\n",
       "      <td>Crashes</td>\n",
       "      <td>2020-04-25T03:09:18Z</td>\n",
       "      <td>rivrrat</td>\n",
       "      <td>Update: Version 3.0.1 seems to have fixed the ...</td>\n",
       "      <td>14890549.0</td>\n",
       "      <td>Hi,\\n\\nThank you very much for your feedback. ...</td>\n",
       "      <td>2020-04-24T12:45:36Z</td>\n",
       "      <td>en</td>\n",
       "    </tr>\n",
       "    <tr>\n",
       "      <th>38</th>\n",
       "      <td>5543359500</td>\n",
       "      <td>5</td>\n",
       "      <td>Depend upon it</td>\n",
       "      <td>2020-02-17T12:15:35Z</td>\n",
       "      <td>Miss A Step</td>\n",
       "      <td>I use this app all day long. Living in a  high...</td>\n",
       "      <td>NaN</td>\n",
       "      <td>NaN</td>\n",
       "      <td>NaN</td>\n",
       "      <td>en</td>\n",
       "    </tr>\n",
       "    <tr>\n",
       "      <th>50</th>\n",
       "      <td>5223823949</td>\n",
       "      <td>5</td>\n",
       "      <td>Climate Change Is Here, Folks!</td>\n",
       "      <td>2019-12-02T06:44:26Z</td>\n",
       "      <td>AarCox2019</td>\n",
       "      <td>A great app and fun daily reminder of just how...</td>\n",
       "      <td>NaN</td>\n",
       "      <td>NaN</td>\n",
       "      <td>NaN</td>\n",
       "      <td>en</td>\n",
       "    </tr>\n",
       "    <tr>\n",
       "      <th>68</th>\n",
       "      <td>5182439168</td>\n",
       "      <td>5</td>\n",
       "      <td>Stay safe with Plume</td>\n",
       "      <td>2019-11-22T18:20:14Z</td>\n",
       "      <td>City Otter NYC</td>\n",
       "      <td>After</td>\n",
       "      <td>NaN</td>\n",
       "      <td>NaN</td>\n",
       "      <td>NaN</td>\n",
       "      <td>af</td>\n",
       "    </tr>\n",
       "    <tr>\n",
       "      <th>49</th>\n",
       "      <td>5155963285</td>\n",
       "      <td>5</td>\n",
       "      <td>Refreshing</td>\n",
       "      <td>2019-11-17T05:31:36Z</td>\n",
       "      <td>Not So Fearless Reviewer</td>\n",
       "      <td>Always nice to know when it's safe to go outside.</td>\n",
       "      <td>NaN</td>\n",
       "      <td>NaN</td>\n",
       "      <td>NaN</td>\n",
       "      <td>en</td>\n",
       "    </tr>\n",
       "    <tr>\n",
       "      <th>...</th>\n",
       "      <td>...</td>\n",
       "      <td>...</td>\n",
       "      <td>...</td>\n",
       "      <td>...</td>\n",
       "      <td>...</td>\n",
       "      <td>...</td>\n",
       "      <td>...</td>\n",
       "      <td>...</td>\n",
       "      <td>...</td>\n",
       "      <td>...</td>\n",
       "    </tr>\n",
       "    <tr>\n",
       "      <th>115</th>\n",
       "      <td>1282718171</td>\n",
       "      <td>1</td>\n",
       "      <td>Zero data for Austin? really?</td>\n",
       "      <td>2015-11-06T12:44:36Z</td>\n",
       "      <td>Shaktiboi</td>\n",
       "      <td>Looks like a nice interface but says \"no recen...</td>\n",
       "      <td>NaN</td>\n",
       "      <td>NaN</td>\n",
       "      <td>NaN</td>\n",
       "      <td>en</td>\n",
       "    </tr>\n",
       "    <tr>\n",
       "      <th>104</th>\n",
       "      <td>1264412663</td>\n",
       "      <td>1</td>\n",
       "      <td>Inaccurate</td>\n",
       "      <td>2015-09-29T11:40:32Z</td>\n",
       "      <td>Wash DC20009</td>\n",
       "      <td>This App does not have good data and is inaccu...</td>\n",
       "      <td>NaN</td>\n",
       "      <td>NaN</td>\n",
       "      <td>NaN</td>\n",
       "      <td>en</td>\n",
       "    </tr>\n",
       "    <tr>\n",
       "      <th>114</th>\n",
       "      <td>1258985406</td>\n",
       "      <td>1</td>\n",
       "      <td>Unrealiable</td>\n",
       "      <td>2015-09-18T02:00:52Z</td>\n",
       "      <td>Asthma bro</td>\n",
       "      <td>Downloaded this app to help with my asthma. Fi...</td>\n",
       "      <td>NaN</td>\n",
       "      <td>NaN</td>\n",
       "      <td>NaN</td>\n",
       "      <td>en</td>\n",
       "    </tr>\n",
       "    <tr>\n",
       "      <th>117</th>\n",
       "      <td>1258985173</td>\n",
       "      <td>1</td>\n",
       "      <td>Not good.</td>\n",
       "      <td>2015-09-18T02:00:12Z</td>\n",
       "      <td>GreenFreak1994</td>\n",
       "      <td>Poor USer experience and USer interface. Not r...</td>\n",
       "      <td>NaN</td>\n",
       "      <td>NaN</td>\n",
       "      <td>NaN</td>\n",
       "      <td>en</td>\n",
       "    </tr>\n",
       "    <tr>\n",
       "      <th>106</th>\n",
       "      <td>1258821573</td>\n",
       "      <td>1</td>\n",
       "      <td>Doesn't work</td>\n",
       "      <td>2015-09-17T17:20:48Z</td>\n",
       "      <td>amadigan</td>\n",
       "      <td>First it asked to display notifications, then ...</td>\n",
       "      <td>NaN</td>\n",
       "      <td>NaN</td>\n",
       "      <td>NaN</td>\n",
       "      <td>en</td>\n",
       "    </tr>\n",
       "  </tbody>\n",
       "</table>\n",
       "<p>127 rows × 10 columns</p>\n",
       "</div>"
      ],
      "text/plain": [
       "      review_id  rating                           title           review_date  \\\n",
       "34   5860156783       5                         Crashes  2020-04-25T03:09:18Z   \n",
       "38   5543359500       5                  Depend upon it  2020-02-17T12:15:35Z   \n",
       "50   5223823949       5  Climate Change Is Here, Folks!  2019-12-02T06:44:26Z   \n",
       "68   5182439168       5            Stay safe with Plume  2019-11-22T18:20:14Z   \n",
       "49   5155963285       5                      Refreshing  2019-11-17T05:31:36Z   \n",
       "..          ...     ...                             ...                   ...   \n",
       "115  1282718171       1   Zero data for Austin? really?  2015-11-06T12:44:36Z   \n",
       "104  1264412663       1                      Inaccurate  2015-09-29T11:40:32Z   \n",
       "114  1258985406       1                     Unrealiable  2015-09-18T02:00:52Z   \n",
       "117  1258985173       1                       Not good.  2015-09-18T02:00:12Z   \n",
       "106  1258821573       1                    Doesn't work  2015-09-17T17:20:48Z   \n",
       "\n",
       "                    user_name  \\\n",
       "34                    rivrrat   \n",
       "38                Miss A Step   \n",
       "50                 AarCox2019   \n",
       "68             City Otter NYC   \n",
       "49   Not So Fearless Reviewer   \n",
       "..                        ...   \n",
       "115                 Shaktiboi   \n",
       "104              Wash DC20009   \n",
       "114                Asthma bro   \n",
       "117            GreenFreak1994   \n",
       "106                  amadigan   \n",
       "\n",
       "                                                review  response_id  \\\n",
       "34   Update: Version 3.0.1 seems to have fixed the ...   14890549.0   \n",
       "38   I use this app all day long. Living in a  high...          NaN   \n",
       "50   A great app and fun daily reminder of just how...          NaN   \n",
       "68                                               After          NaN   \n",
       "49   Always nice to know when it's safe to go outside.          NaN   \n",
       "..                                                 ...          ...   \n",
       "115  Looks like a nice interface but says \"no recen...          NaN   \n",
       "104  This App does not have good data and is inaccu...          NaN   \n",
       "114  Downloaded this app to help with my asthma. Fi...          NaN   \n",
       "117  Poor USer experience and USer interface. Not r...          NaN   \n",
       "106  First it asked to display notifications, then ...          NaN   \n",
       "\n",
       "                                          dev_response         response_date  \\\n",
       "34   Hi,\\n\\nThank you very much for your feedback. ...  2020-04-24T12:45:36Z   \n",
       "38                                                 NaN                   NaN   \n",
       "50                                                 NaN                   NaN   \n",
       "68                                                 NaN                   NaN   \n",
       "49                                                 NaN                   NaN   \n",
       "..                                                 ...                   ...   \n",
       "115                                                NaN                   NaN   \n",
       "104                                                NaN                   NaN   \n",
       "114                                                NaN                   NaN   \n",
       "117                                                NaN                   NaN   \n",
       "106                                                NaN                   NaN   \n",
       "\n",
       "    lang-r  \n",
       "34      en  \n",
       "38      en  \n",
       "50      en  \n",
       "68      af  \n",
       "49      en  \n",
       "..     ...  \n",
       "115     en  \n",
       "104     en  \n",
       "114     en  \n",
       "117     en  \n",
       "106     en  \n",
       "\n",
       "[127 rows x 10 columns]"
      ]
     },
     "execution_count": 25,
     "metadata": {},
     "output_type": "execute_result"
    }
   ],
   "source": [
    "dfout"
   ]
  },
  {
   "cell_type": "markdown",
   "metadata": {},
   "source": [
    "## Export data"
   ]
  },
  {
   "cell_type": "code",
   "execution_count": 26,
   "metadata": {},
   "outputs": [
    {
     "name": "stdout",
     "output_type": "stream",
     "text": [
      "app_reviews_plume_us.csv\n"
     ]
    }
   ],
   "source": [
    "export_filename = filename[:-5]+'.csv'\n",
    "print(export_filename)"
   ]
  },
  {
   "cell_type": "code",
   "execution_count": 27,
   "metadata": {},
   "outputs": [],
   "source": [
    "# exporta to csv\n",
    "dfout.to_csv(path+\"/../data/1_preprocessed_data/\"+export_filename, encoding='utf-8-sig', sep =';')"
   ]
  },
  {
   "cell_type": "code",
   "execution_count": null,
   "metadata": {},
   "outputs": [],
   "source": []
  }
 ],
 "metadata": {
  "anaconda-cloud": {},
  "kernelspec": {
   "display_name": "Python 3",
   "language": "python",
   "name": "python3"
  },
  "language_info": {
   "codemirror_mode": {
    "name": "ipython",
    "version": 3
   },
   "file_extension": ".py",
   "mimetype": "text/x-python",
   "name": "python",
   "nbconvert_exporter": "python",
   "pygments_lexer": "ipython3",
   "version": "3.6.10"
  },
  "toc": {
   "base_numbering": 1,
   "nav_menu": {},
   "number_sections": true,
   "sideBar": true,
   "skip_h1_title": false,
   "title_cell": "Table of Contents",
   "title_sidebar": "Contents",
   "toc_cell": true,
   "toc_position": {
    "height": "calc(100% - 180px)",
    "left": "10px",
    "top": "150px",
    "width": "165px"
   },
   "toc_section_display": true,
   "toc_window_display": true
  }
 },
 "nbformat": 4,
 "nbformat_minor": 2
}

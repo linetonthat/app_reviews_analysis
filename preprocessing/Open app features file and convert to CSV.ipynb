{
 "cells": [
  {
   "cell_type": "markdown",
   "metadata": {
    "toc": true
   },
   "source": [
    "<h1>Table of Contents<span class=\"tocSkip\"></span></h1>\n",
    "<div class=\"toc\"><ul class=\"toc-item\"><li><span><a href=\"#Preprocessing,-exploration-and-export-of-app-features\" data-toc-modified-id=\"Preprocessing,-exploration-and-export-of-app-features-1\"><span class=\"toc-item-num\">1&nbsp;&nbsp;</span>Preprocessing, exploration and export of app features</a></span><ul class=\"toc-item\"><li><span><a href=\"#Load-data\" data-toc-modified-id=\"Load-data-1.1\"><span class=\"toc-item-num\">1.1&nbsp;&nbsp;</span>Load data</a></span></li><li><span><a href=\"#Date\" data-toc-modified-id=\"Date-1.2\"><span class=\"toc-item-num\">1.2&nbsp;&nbsp;</span>Date</a></span></li><li><span><a href=\"#Export-data\" data-toc-modified-id=\"Export-data-1.3\"><span class=\"toc-item-num\">1.3&nbsp;&nbsp;</span>Export data</a></span></li></ul></li></ul></div>"
   ]
  },
  {
   "cell_type": "markdown",
   "metadata": {},
   "source": [
    "# Preprocessing, exploration and export of app features"
   ]
  },
  {
   "cell_type": "code",
   "execution_count": 1,
   "metadata": {},
   "outputs": [],
   "source": [
    "import pandas as pd\n",
    "from langdetect import detect\n",
    "import warnings\n",
    "warnings.filterwarnings('ignore')\n",
    "import os"
   ]
  },
  {
   "cell_type": "markdown",
   "metadata": {},
   "source": [
    "## Load data"
   ]
  },
  {
   "cell_type": "code",
   "execution_count": 2,
   "metadata": {},
   "outputs": [],
   "source": [
    "path = os.getcwd()\n",
    "filename ='app_features.json' "
   ]
  },
  {
   "cell_type": "code",
   "execution_count": 3,
   "metadata": {},
   "outputs": [],
   "source": [
    "df = pd.read_json(path+\"/../data/0_scraped_data/\"+filename)"
   ]
  },
  {
   "cell_type": "code",
   "execution_count": 4,
   "metadata": {},
   "outputs": [
    {
     "data": {
      "text/html": [
       "<div>\n",
       "<style scoped>\n",
       "    .dataframe tbody tr th:only-of-type {\n",
       "        vertical-align: middle;\n",
       "    }\n",
       "\n",
       "    .dataframe tbody tr th {\n",
       "        vertical-align: top;\n",
       "    }\n",
       "\n",
       "    .dataframe thead th {\n",
       "        text-align: right;\n",
       "    }\n",
       "</style>\n",
       "<table border=\"1\" class=\"dataframe\">\n",
       "  <thead>\n",
       "    <tr style=\"text-align: right;\">\n",
       "      <th></th>\n",
       "      <th>title</th>\n",
       "      <th>subtitle</th>\n",
       "      <th>identity</th>\n",
       "      <th>price</th>\n",
       "      <th>rank</th>\n",
       "      <th>category</th>\n",
       "      <th>overall_rating</th>\n",
       "      <th>no_of_ratings</th>\n",
       "      <th>no_of_ratings_unit</th>\n",
       "      <th>last_release_date</th>\n",
       "      <th>version_no</th>\n",
       "      <th>description</th>\n",
       "    </tr>\n",
       "  </thead>\n",
       "  <tbody>\n",
       "    <tr>\n",
       "      <th>0</th>\n",
       "      <td>AirVisual | Qualité de l'Air</td>\n",
       "      <td>Pollution de l'air mondiale</td>\n",
       "      <td>IQAir AG</td>\n",
       "      <td>Gratuit</td>\n",
       "      <td>65</td>\n",
       "      <td>Météo</td>\n",
       "      <td>4.6</td>\n",
       "      <td>1.7</td>\n",
       "      <td>k</td>\n",
       "      <td>2020-05-11T07:00:00.000Z</td>\n",
       "      <td>5.4.2</td>\n",
       "      <td>[Toutes les informations sur la qualité de l'a...</td>\n",
       "    </tr>\n",
       "    <tr>\n",
       "      <th>1</th>\n",
       "      <td>Sensio Air: Allergy Tracker</td>\n",
       "      <td>Mieux comprendre vos symptômes</td>\n",
       "      <td>WLAB LTD</td>\n",
       "      <td>Gratuit</td>\n",
       "      <td></td>\n",
       "      <td>NaN</td>\n",
       "      <td>4.5</td>\n",
       "      <td>41.0</td>\n",
       "      <td>NaN</td>\n",
       "      <td>2020-05-18T07:00:00.000Z</td>\n",
       "      <td>3.9.0</td>\n",
       "      <td>[Grace a Sensio Air, découvrez l’origine de vo...</td>\n",
       "    </tr>\n",
       "    <tr>\n",
       "      <th>2</th>\n",
       "      <td>Plume Labs: Pollution de l'air</td>\n",
       "      <td>Santé et qualité de l'air</td>\n",
       "      <td>Plume Labs</td>\n",
       "      <td>Gratuit</td>\n",
       "      <td></td>\n",
       "      <td>NaN</td>\n",
       "      <td>4.5</td>\n",
       "      <td>14.3</td>\n",
       "      <td>k</td>\n",
       "      <td>2020-04-08T07:00:00.000Z</td>\n",
       "      <td>3.0.1</td>\n",
       "      <td>[Plume Labs vous donne accès aux niveaux de po...</td>\n",
       "    </tr>\n",
       "    <tr>\n",
       "      <th>3</th>\n",
       "      <td>Air To Go - Qualité de l'air</td>\n",
       "      <td>Auvergne-Rhône-Alpes</td>\n",
       "      <td>Air Rhône Alpes</td>\n",
       "      <td>Gratuit</td>\n",
       "      <td></td>\n",
       "      <td>NaN</td>\n",
       "      <td>4.4</td>\n",
       "      <td>838.0</td>\n",
       "      <td>NaN</td>\n",
       "      <td>2020-01-05T08:00:00.000Z</td>\n",
       "      <td>2.3</td>\n",
       "      <td>[Vérifiez avec précision l'état de la qualité ...</td>\n",
       "    </tr>\n",
       "    <tr>\n",
       "      <th>4</th>\n",
       "      <td>Airly</td>\n",
       "      <td>NaN</td>\n",
       "      <td>Airly</td>\n",
       "      <td>Gratuit</td>\n",
       "      <td></td>\n",
       "      <td>NaN</td>\n",
       "      <td>4.5</td>\n",
       "      <td>36.0</td>\n",
       "      <td>NaN</td>\n",
       "      <td>2020-04-22T07:00:00.000Z</td>\n",
       "      <td>1.12.1</td>\n",
       "      <td>[Airly - let's explore air quality around you!...</td>\n",
       "    </tr>\n",
       "  </tbody>\n",
       "</table>\n",
       "</div>"
      ],
      "text/plain": [
       "                            title                        subtitle  \\\n",
       "0    AirVisual | Qualité de l'Air     Pollution de l'air mondiale   \n",
       "1     Sensio Air: Allergy Tracker  Mieux comprendre vos symptômes   \n",
       "2  Plume Labs: Pollution de l'air       Santé et qualité de l'air   \n",
       "3    Air To Go - Qualité de l'air            Auvergne-Rhône-Alpes   \n",
       "4                           Airly                             NaN   \n",
       "\n",
       "          identity    price rank category  overall_rating  no_of_ratings  \\\n",
       "0         IQAir AG  Gratuit   65    Météo             4.6            1.7   \n",
       "1         WLAB LTD  Gratuit           NaN             4.5           41.0   \n",
       "2       Plume Labs  Gratuit           NaN             4.5           14.3   \n",
       "3  Air Rhône Alpes  Gratuit           NaN             4.4          838.0   \n",
       "4            Airly  Gratuit           NaN             4.5           36.0   \n",
       "\n",
       "  no_of_ratings_unit         last_release_date version_no  \\\n",
       "0                  k  2020-05-11T07:00:00.000Z      5.4.2   \n",
       "1                NaN  2020-05-18T07:00:00.000Z      3.9.0   \n",
       "2                  k  2020-04-08T07:00:00.000Z      3.0.1   \n",
       "3                NaN  2020-01-05T08:00:00.000Z        2.3   \n",
       "4                NaN  2020-04-22T07:00:00.000Z     1.12.1   \n",
       "\n",
       "                                         description  \n",
       "0  [Toutes les informations sur la qualité de l'a...  \n",
       "1  [Grace a Sensio Air, découvrez l’origine de vo...  \n",
       "2  [Plume Labs vous donne accès aux niveaux de po...  \n",
       "3  [Vérifiez avec précision l'état de la qualité ...  \n",
       "4  [Airly - let's explore air quality around you!...  "
      ]
     },
     "execution_count": 4,
     "metadata": {},
     "output_type": "execute_result"
    }
   ],
   "source": [
    "df.head()"
   ]
  },
  {
   "cell_type": "code",
   "execution_count": 5,
   "metadata": {},
   "outputs": [
    {
     "name": "stdout",
     "output_type": "stream",
     "text": [
      "<class 'pandas.core.frame.DataFrame'>\n",
      "RangeIndex: 7 entries, 0 to 6\n",
      "Data columns (total 12 columns):\n",
      " #   Column              Non-Null Count  Dtype  \n",
      "---  ------              --------------  -----  \n",
      " 0   title               7 non-null      object \n",
      " 1   subtitle            4 non-null      object \n",
      " 2   identity            7 non-null      object \n",
      " 3   price               7 non-null      object \n",
      " 4   rank                7 non-null      object \n",
      " 5   category            1 non-null      object \n",
      " 6   overall_rating      7 non-null      float64\n",
      " 7   no_of_ratings       7 non-null      float64\n",
      " 8   no_of_ratings_unit  2 non-null      object \n",
      " 9   last_release_date   7 non-null      object \n",
      " 10  version_no          7 non-null      object \n",
      " 11  description         7 non-null      object \n",
      "dtypes: float64(2), object(10)\n",
      "memory usage: 800.0+ bytes\n"
     ]
    }
   ],
   "source": [
    "df.info()"
   ]
  },
  {
   "cell_type": "markdown",
   "metadata": {},
   "source": [
    "## Date"
   ]
  },
  {
   "cell_type": "code",
   "execution_count": 6,
   "metadata": {},
   "outputs": [
    {
     "data": {
      "text/plain": [
       "'2020-05-11'"
      ]
     },
     "execution_count": 6,
     "metadata": {},
     "output_type": "execute_result"
    }
   ],
   "source": [
    "df['last_release_date'][0][:10]"
   ]
  },
  {
   "cell_type": "code",
   "execution_count": 7,
   "metadata": {},
   "outputs": [
    {
     "data": {
      "text/plain": [
       "0    2020-05-11\n",
       "1    2020-05-18\n",
       "2    2020-04-08\n",
       "3    2020-01-05\n",
       "4    2020-04-22\n",
       "5    2020-06-23\n",
       "6    2020-03-12\n",
       "Name: last_release_date, dtype: object"
      ]
     },
     "execution_count": 7,
     "metadata": {},
     "output_type": "execute_result"
    }
   ],
   "source": [
    "extract_date = lambda s : s[:10]\n",
    "df['last_release_date'].apply(extract_date)"
   ]
  },
  {
   "cell_type": "code",
   "execution_count": 8,
   "metadata": {},
   "outputs": [],
   "source": [
    "df['last_release_date'] = pd.to_datetime(df['last_release_date'])"
   ]
  },
  {
   "cell_type": "code",
   "execution_count": 9,
   "metadata": {},
   "outputs": [
    {
     "name": "stdout",
     "output_type": "stream",
     "text": [
      "<class 'pandas.core.frame.DataFrame'>\n",
      "RangeIndex: 7 entries, 0 to 6\n",
      "Data columns (total 12 columns):\n",
      " #   Column              Non-Null Count  Dtype              \n",
      "---  ------              --------------  -----              \n",
      " 0   title               7 non-null      object             \n",
      " 1   subtitle            4 non-null      object             \n",
      " 2   identity            7 non-null      object             \n",
      " 3   price               7 non-null      object             \n",
      " 4   rank                7 non-null      object             \n",
      " 5   category            1 non-null      object             \n",
      " 6   overall_rating      7 non-null      float64            \n",
      " 7   no_of_ratings       7 non-null      float64            \n",
      " 8   no_of_ratings_unit  2 non-null      object             \n",
      " 9   last_release_date   7 non-null      datetime64[ns, UTC]\n",
      " 10  version_no          7 non-null      object             \n",
      " 11  description         7 non-null      object             \n",
      "dtypes: datetime64[ns, UTC](1), float64(2), object(9)\n",
      "memory usage: 800.0+ bytes\n"
     ]
    }
   ],
   "source": [
    "df.info()"
   ]
  },
  {
   "cell_type": "code",
   "execution_count": 10,
   "metadata": {},
   "outputs": [
    {
     "data": {
      "text/html": [
       "<div>\n",
       "<style scoped>\n",
       "    .dataframe tbody tr th:only-of-type {\n",
       "        vertical-align: middle;\n",
       "    }\n",
       "\n",
       "    .dataframe tbody tr th {\n",
       "        vertical-align: top;\n",
       "    }\n",
       "\n",
       "    .dataframe thead th {\n",
       "        text-align: right;\n",
       "    }\n",
       "</style>\n",
       "<table border=\"1\" class=\"dataframe\">\n",
       "  <thead>\n",
       "    <tr style=\"text-align: right;\">\n",
       "      <th></th>\n",
       "      <th>title</th>\n",
       "      <th>subtitle</th>\n",
       "      <th>identity</th>\n",
       "      <th>price</th>\n",
       "      <th>rank</th>\n",
       "      <th>category</th>\n",
       "      <th>overall_rating</th>\n",
       "      <th>no_of_ratings</th>\n",
       "      <th>no_of_ratings_unit</th>\n",
       "      <th>last_release_date</th>\n",
       "      <th>version_no</th>\n",
       "      <th>description</th>\n",
       "    </tr>\n",
       "  </thead>\n",
       "  <tbody>\n",
       "    <tr>\n",
       "      <th>0</th>\n",
       "      <td>AirVisual | Qualité de l'Air</td>\n",
       "      <td>Pollution de l'air mondiale</td>\n",
       "      <td>IQAir AG</td>\n",
       "      <td>Gratuit</td>\n",
       "      <td>65</td>\n",
       "      <td>Météo</td>\n",
       "      <td>4.6</td>\n",
       "      <td>1.7</td>\n",
       "      <td>k</td>\n",
       "      <td>2020-05-11 07:00:00+00:00</td>\n",
       "      <td>5.4.2</td>\n",
       "      <td>[Toutes les informations sur la qualité de l'a...</td>\n",
       "    </tr>\n",
       "    <tr>\n",
       "      <th>1</th>\n",
       "      <td>Sensio Air: Allergy Tracker</td>\n",
       "      <td>Mieux comprendre vos symptômes</td>\n",
       "      <td>WLAB LTD</td>\n",
       "      <td>Gratuit</td>\n",
       "      <td></td>\n",
       "      <td>NaN</td>\n",
       "      <td>4.5</td>\n",
       "      <td>41.0</td>\n",
       "      <td>NaN</td>\n",
       "      <td>2020-05-18 07:00:00+00:00</td>\n",
       "      <td>3.9.0</td>\n",
       "      <td>[Grace a Sensio Air, découvrez l’origine de vo...</td>\n",
       "    </tr>\n",
       "    <tr>\n",
       "      <th>2</th>\n",
       "      <td>Plume Labs: Pollution de l'air</td>\n",
       "      <td>Santé et qualité de l'air</td>\n",
       "      <td>Plume Labs</td>\n",
       "      <td>Gratuit</td>\n",
       "      <td></td>\n",
       "      <td>NaN</td>\n",
       "      <td>4.5</td>\n",
       "      <td>14.3</td>\n",
       "      <td>k</td>\n",
       "      <td>2020-04-08 07:00:00+00:00</td>\n",
       "      <td>3.0.1</td>\n",
       "      <td>[Plume Labs vous donne accès aux niveaux de po...</td>\n",
       "    </tr>\n",
       "    <tr>\n",
       "      <th>3</th>\n",
       "      <td>Air To Go - Qualité de l'air</td>\n",
       "      <td>Auvergne-Rhône-Alpes</td>\n",
       "      <td>Air Rhône Alpes</td>\n",
       "      <td>Gratuit</td>\n",
       "      <td></td>\n",
       "      <td>NaN</td>\n",
       "      <td>4.4</td>\n",
       "      <td>838.0</td>\n",
       "      <td>NaN</td>\n",
       "      <td>2020-01-05 08:00:00+00:00</td>\n",
       "      <td>2.3</td>\n",
       "      <td>[Vérifiez avec précision l'état de la qualité ...</td>\n",
       "    </tr>\n",
       "    <tr>\n",
       "      <th>4</th>\n",
       "      <td>Airly</td>\n",
       "      <td>NaN</td>\n",
       "      <td>Airly</td>\n",
       "      <td>Gratuit</td>\n",
       "      <td></td>\n",
       "      <td>NaN</td>\n",
       "      <td>4.5</td>\n",
       "      <td>36.0</td>\n",
       "      <td>NaN</td>\n",
       "      <td>2020-04-22 07:00:00+00:00</td>\n",
       "      <td>1.12.1</td>\n",
       "      <td>[Airly - let's explore air quality around you!...</td>\n",
       "    </tr>\n",
       "    <tr>\n",
       "      <th>5</th>\n",
       "      <td>Pollen</td>\n",
       "      <td>NaN</td>\n",
       "      <td>screencode GmbH</td>\n",
       "      <td>Gratuit</td>\n",
       "      <td></td>\n",
       "      <td>NaN</td>\n",
       "      <td>4.9</td>\n",
       "      <td>11.0</td>\n",
       "      <td>NaN</td>\n",
       "      <td>2020-06-23 07:00:00+00:00</td>\n",
       "      <td>7.1.6</td>\n",
       "      <td>[Le service autrichien d'information sur les p...</td>\n",
       "    </tr>\n",
       "    <tr>\n",
       "      <th>6</th>\n",
       "      <td>BreezoMeter Air Quality Index</td>\n",
       "      <td>NaN</td>\n",
       "      <td>BreezoMeter</td>\n",
       "      <td>Gratuit</td>\n",
       "      <td></td>\n",
       "      <td>NaN</td>\n",
       "      <td>4.9</td>\n",
       "      <td>84.0</td>\n",
       "      <td>NaN</td>\n",
       "      <td>2020-03-12 07:00:00+00:00</td>\n",
       "      <td>3.3.2</td>\n",
       "      <td>[BreezoMeter est une application primée de pre...</td>\n",
       "    </tr>\n",
       "  </tbody>\n",
       "</table>\n",
       "</div>"
      ],
      "text/plain": [
       "                            title                        subtitle  \\\n",
       "0    AirVisual | Qualité de l'Air     Pollution de l'air mondiale   \n",
       "1     Sensio Air: Allergy Tracker  Mieux comprendre vos symptômes   \n",
       "2  Plume Labs: Pollution de l'air       Santé et qualité de l'air   \n",
       "3    Air To Go - Qualité de l'air            Auvergne-Rhône-Alpes   \n",
       "4                           Airly                             NaN   \n",
       "5                          Pollen                             NaN   \n",
       "6   BreezoMeter Air Quality Index                             NaN   \n",
       "\n",
       "          identity    price rank category  overall_rating  no_of_ratings  \\\n",
       "0         IQAir AG  Gratuit   65    Météo             4.6            1.7   \n",
       "1         WLAB LTD  Gratuit           NaN             4.5           41.0   \n",
       "2       Plume Labs  Gratuit           NaN             4.5           14.3   \n",
       "3  Air Rhône Alpes  Gratuit           NaN             4.4          838.0   \n",
       "4            Airly  Gratuit           NaN             4.5           36.0   \n",
       "5  screencode GmbH  Gratuit           NaN             4.9           11.0   \n",
       "6      BreezoMeter  Gratuit           NaN             4.9           84.0   \n",
       "\n",
       "  no_of_ratings_unit         last_release_date version_no  \\\n",
       "0                  k 2020-05-11 07:00:00+00:00      5.4.2   \n",
       "1                NaN 2020-05-18 07:00:00+00:00      3.9.0   \n",
       "2                  k 2020-04-08 07:00:00+00:00      3.0.1   \n",
       "3                NaN 2020-01-05 08:00:00+00:00        2.3   \n",
       "4                NaN 2020-04-22 07:00:00+00:00     1.12.1   \n",
       "5                NaN 2020-06-23 07:00:00+00:00      7.1.6   \n",
       "6                NaN 2020-03-12 07:00:00+00:00      3.3.2   \n",
       "\n",
       "                                         description  \n",
       "0  [Toutes les informations sur la qualité de l'a...  \n",
       "1  [Grace a Sensio Air, découvrez l’origine de vo...  \n",
       "2  [Plume Labs vous donne accès aux niveaux de po...  \n",
       "3  [Vérifiez avec précision l'état de la qualité ...  \n",
       "4  [Airly - let's explore air quality around you!...  \n",
       "5  [Le service autrichien d'information sur les p...  \n",
       "6  [BreezoMeter est une application primée de pre...  "
      ]
     },
     "execution_count": 10,
     "metadata": {},
     "output_type": "execute_result"
    }
   ],
   "source": [
    "df.head(7)"
   ]
  },
  {
   "cell_type": "markdown",
   "metadata": {},
   "source": [
    "## Export data"
   ]
  },
  {
   "cell_type": "code",
   "execution_count": 11,
   "metadata": {},
   "outputs": [
    {
     "name": "stdout",
     "output_type": "stream",
     "text": [
      "app_features.csv\n"
     ]
    }
   ],
   "source": [
    "export_filename = filename[:-5]+'.csv'\n",
    "print(export_filename)"
   ]
  },
  {
   "cell_type": "code",
   "execution_count": 12,
   "metadata": {},
   "outputs": [],
   "source": [
    "# exporta to csv\n",
    "df.to_csv(path+\"/../data/1_preprocessed_data/\"+export_filename, encoding='utf-8-sig', sep =';')"
   ]
  }
 ],
 "metadata": {
  "anaconda-cloud": {},
  "kernelspec": {
   "display_name": "Python 3",
   "language": "python",
   "name": "python3"
  },
  "language_info": {
   "codemirror_mode": {
    "name": "ipython",
    "version": 3
   },
   "file_extension": ".py",
   "mimetype": "text/x-python",
   "name": "python",
   "nbconvert_exporter": "python",
   "pygments_lexer": "ipython3",
   "version": "3.6.10"
  },
  "toc": {
   "base_numbering": 1,
   "nav_menu": {},
   "number_sections": true,
   "sideBar": true,
   "skip_h1_title": false,
   "title_cell": "Table of Contents",
   "title_sidebar": "Contents",
   "toc_cell": true,
   "toc_position": {
    "height": "calc(100% - 180px)",
    "left": "10px",
    "top": "150px",
    "width": "165px"
   },
   "toc_section_display": true,
   "toc_window_display": true
  }
 },
 "nbformat": 4,
 "nbformat_minor": 2
}
